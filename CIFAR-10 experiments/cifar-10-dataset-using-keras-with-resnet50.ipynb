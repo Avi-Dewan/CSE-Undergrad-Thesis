{
 "cells": [
  {
   "cell_type": "markdown",
   "id": "e27dde29",
   "metadata": {
    "papermill": {
     "duration": 0.016533,
     "end_time": "2023-11-25T07:00:10.963257",
     "exception": false,
     "start_time": "2023-11-25T07:00:10.946724",
     "status": "completed"
    },
    "tags": []
   },
   "source": [
    "# **Importing dependencies**"
   ]
  },
  {
   "cell_type": "code",
   "execution_count": 1,
   "id": "d89a2389",
   "metadata": {
    "execution": {
     "iopub.execute_input": "2023-11-25T07:00:10.995950Z",
     "iopub.status.busy": "2023-11-25T07:00:10.995618Z",
     "iopub.status.idle": "2023-11-25T07:00:12.593634Z",
     "shell.execute_reply": "2023-11-25T07:00:12.592853Z"
    },
    "papermill": {
     "duration": 1.617131,
     "end_time": "2023-11-25T07:00:12.596176",
     "exception": false,
     "start_time": "2023-11-25T07:00:10.979045",
     "status": "completed"
    },
    "tags": []
   },
   "outputs": [
    {
     "name": "stderr",
     "output_type": "stream",
     "text": [
      "/opt/conda/lib/python3.10/site-packages/scipy/__init__.py:146: UserWarning: A NumPy version >=1.16.5 and <1.23.0 is required for this version of SciPy (detected version 1.24.3\n",
      "  warnings.warn(f\"A NumPy version >={np_minversion} and <{np_maxversion}\"\n"
     ]
    }
   ],
   "source": [
    "import os\n",
    "import cv2\n",
    "import numpy as np\n",
    "import pandas as pd\n",
    "from PIL import Image\n",
    "import matplotlib.pyplot as plt\n",
    "import matplotlib.image as mpimg\n",
    "from sklearn.model_selection import train_test_split"
   ]
  },
  {
   "cell_type": "markdown",
   "id": "91bdc78b",
   "metadata": {
    "papermill": {
     "duration": 0.015632,
     "end_time": "2023-11-25T07:00:12.628098",
     "exception": false,
     "start_time": "2023-11-25T07:00:12.612466",
     "status": "completed"
    },
    "tags": []
   },
   "source": [
    "# Image Processing"
   ]
  },
  {
   "cell_type": "markdown",
   "id": "6b7f397b",
   "metadata": {
    "papermill": {
     "duration": 0.015448,
     "end_time": "2023-11-25T07:00:12.659567",
     "exception": false,
     "start_time": "2023-11-25T07:00:12.644119",
     "status": "completed"
    },
    "tags": []
   },
   "source": [
    "**Convert images to numpy arrays**\n",
    "\n",
    "Done in traing in Extracting train notebook\n",
    "\n",
    "Exporting the process image of numpyarray in data from extracting-train notebook"
   ]
  },
  {
   "cell_type": "code",
   "execution_count": 2,
   "id": "b59ef021",
   "metadata": {
    "execution": {
     "iopub.execute_input": "2023-11-25T07:00:12.693249Z",
     "iopub.status.busy": "2023-11-25T07:00:12.692159Z",
     "iopub.status.idle": "2023-11-25T07:00:13.967420Z",
     "shell.execute_reply": "2023-11-25T07:00:13.966436Z"
    },
    "papermill": {
     "duration": 1.294582,
     "end_time": "2023-11-25T07:00:13.969844",
     "exception": false,
     "start_time": "2023-11-25T07:00:12.675262",
     "status": "completed"
    },
    "tags": []
   },
   "outputs": [],
   "source": [
    "# Load the data\n",
    "loaded_data = np.load('/kaggle/input/extracting-train/training_data.npz')\n",
    "\n",
    "# Access the NumPy array\n",
    "data = loaded_data['data']"
   ]
  },
  {
   "cell_type": "markdown",
   "id": "2a72a1de",
   "metadata": {
    "papermill": {
     "duration": 0.015601,
     "end_time": "2023-11-25T07:00:14.001720",
     "exception": false,
     "start_time": "2023-11-25T07:00:13.986119",
     "status": "completed"
    },
    "tags": []
   },
   "source": [
    "# **Analyzing the train set**"
   ]
  },
  {
   "cell_type": "code",
   "execution_count": 3,
   "id": "50235ee5",
   "metadata": {
    "execution": {
     "iopub.execute_input": "2023-11-25T07:00:14.034947Z",
     "iopub.status.busy": "2023-11-25T07:00:14.034124Z",
     "iopub.status.idle": "2023-11-25T07:00:14.039214Z",
     "shell.execute_reply": "2023-11-25T07:00:14.038281Z"
    },
    "papermill": {
     "duration": 0.023829,
     "end_time": "2023-11-25T07:00:14.041262",
     "exception": false,
     "start_time": "2023-11-25T07:00:14.017433",
     "status": "completed"
    },
    "tags": []
   },
   "outputs": [
    {
     "name": "stdout",
     "output_type": "stream",
     "text": [
      "Number of images:  50000\n"
     ]
    }
   ],
   "source": [
    "image_count = data.shape[0]\n",
    "print('Number of images: ', image_count)"
   ]
  },
  {
   "cell_type": "markdown",
   "id": "567214b6",
   "metadata": {
    "papermill": {
     "duration": 0.015517,
     "end_time": "2023-11-25T07:00:14.072672",
     "exception": false,
     "start_time": "2023-11-25T07:00:14.057155",
     "status": "completed"
    },
    "tags": []
   },
   "source": [
    "**Displaying the images**"
   ]
  },
  {
   "cell_type": "code",
   "execution_count": 4,
   "id": "5276bb84",
   "metadata": {
    "execution": {
     "iopub.execute_input": "2023-11-25T07:00:14.105974Z",
     "iopub.status.busy": "2023-11-25T07:00:14.105664Z",
     "iopub.status.idle": "2023-11-25T07:00:14.313205Z",
     "shell.execute_reply": "2023-11-25T07:00:14.312473Z"
    },
    "papermill": {
     "duration": 0.22702,
     "end_time": "2023-11-25T07:00:14.315541",
     "exception": false,
     "start_time": "2023-11-25T07:00:14.088521",
     "status": "completed"
    },
    "tags": []
   },
   "outputs": [
    {
     "data": {
      "text/plain": [
       "<matplotlib.image.AxesImage at 0x7f4b6f490430>"
      ]
     },
     "execution_count": 4,
     "metadata": {},
     "output_type": "execute_result"
    },
    {
     "data": {
      "image/png": "[encoded data removed]",
      "text/plain": [
       "<Figure size 200x100 with 1 Axes>"
      ]
     },
     "metadata": {},
     "output_type": "display_data"
    }
   ],
   "source": [
    "#display an image\n",
    "img = data[9998]\n",
    "plt.figure(figsize=(2,1))\n",
    "plt.imshow(img)"
   ]
  },
  {
   "cell_type": "code",
   "execution_count": 5,
   "id": "4ec26077",
   "metadata": {
    "execution": {
     "iopub.execute_input": "2023-11-25T07:00:14.359952Z",
     "iopub.status.busy": "2023-11-25T07:00:14.359034Z",
     "iopub.status.idle": "2023-11-25T07:00:14.611397Z",
     "shell.execute_reply": "2023-11-25T07:00:14.610468Z"
    },
    "papermill": {
     "duration": 0.274483,
     "end_time": "2023-11-25T07:00:14.613909",
     "exception": false,
     "start_time": "2023-11-25T07:00:14.339426",
     "status": "completed"
    },
    "tags": []
   },
   "outputs": [
    {
     "data": {
      "text/plain": [
       "<matplotlib.image.AxesImage at 0x7f4b65d79ba0>"
      ]
     },
     "execution_count": 5,
     "metadata": {},
     "output_type": "execute_result"
    },
    {
     "data": {
      "image/png": "[encoded data removed]",
      "text/plain": [
       "<Figure size 200x100 with 1 Axes>"
      ]
     },
     "metadata": {},
     "output_type": "display_data"
    }
   ],
   "source": [
    "#display an image\n",
    "img = data[10012]\n",
    "plt.figure(figsize=(2,1))\n",
    "plt.imshow(img)"
   ]
  },
  {
   "cell_type": "markdown",
   "id": "79ecc039",
   "metadata": {
    "papermill": {
     "duration": 0.023573,
     "end_time": "2023-11-25T07:00:14.661759",
     "exception": false,
     "start_time": "2023-11-25T07:00:14.638186",
     "status": "completed"
    },
    "tags": []
   },
   "source": [
    "# **Labels Processing**"
   ]
  },
  {
   "cell_type": "code",
   "execution_count": 6,
   "id": "9ee374ed",
   "metadata": {
    "execution": {
     "iopub.execute_input": "2023-11-25T07:00:14.749525Z",
     "iopub.status.busy": "2023-11-25T07:00:14.749134Z",
     "iopub.status.idle": "2023-11-25T07:00:14.788878Z",
     "shell.execute_reply": "2023-11-25T07:00:14.787968Z"
    },
    "papermill": {
     "duration": 0.061028,
     "end_time": "2023-11-25T07:00:14.791536",
     "exception": false,
     "start_time": "2023-11-25T07:00:14.730508",
     "status": "completed"
    },
    "tags": []
   },
   "outputs": [],
   "source": [
    "labels_df = pd.read_csv('/kaggle/input/cifar-10/trainLabels.csv')"
   ]
  },
  {
   "cell_type": "code",
   "execution_count": 7,
   "id": "c9ac1735",
   "metadata": {
    "execution": {
     "iopub.execute_input": "2023-11-25T07:00:14.830882Z",
     "iopub.status.busy": "2023-11-25T07:00:14.830528Z",
     "iopub.status.idle": "2023-11-25T07:00:14.836754Z",
     "shell.execute_reply": "2023-11-25T07:00:14.835757Z"
    },
    "papermill": {
     "duration": 0.025964,
     "end_time": "2023-11-25T07:00:14.838653",
     "exception": false,
     "start_time": "2023-11-25T07:00:14.812689",
     "status": "completed"
    },
    "tags": []
   },
   "outputs": [
    {
     "data": {
      "text/plain": [
       "(50000, 2)"
      ]
     },
     "execution_count": 7,
     "metadata": {},
     "output_type": "execute_result"
    }
   ],
   "source": [
    "labels_df.shape"
   ]
  },
  {
   "cell_type": "code",
   "execution_count": 8,
   "id": "b24ae58c",
   "metadata": {
    "execution": {
     "iopub.execute_input": "2023-11-25T07:00:14.873737Z",
     "iopub.status.busy": "2023-11-25T07:00:14.873353Z",
     "iopub.status.idle": "2023-11-25T07:00:14.889825Z",
     "shell.execute_reply": "2023-11-25T07:00:14.888849Z"
    },
    "papermill": {
     "duration": 0.036414,
     "end_time": "2023-11-25T07:00:14.891885",
     "exception": false,
     "start_time": "2023-11-25T07:00:14.855471",
     "status": "completed"
    },
    "tags": []
   },
   "outputs": [
    {
     "data": {
      "text/html": [
       "<div>\n",
       "<style scoped>\n",
       "    .dataframe tbody tr th:only-of-type {\n",
       "        vertical-align: middle;\n",
       "    }\n",
       "\n",
       "    .dataframe tbody tr th {\n",
       "        vertical-align: top;\n",
       "    }\n",
       "\n",
       "    .dataframe thead th {\n",
       "        text-align: right;\n",
       "    }\n",
       "</style>\n",
       "<table border=\"1\" class=\"dataframe\">\n",
       "  <thead>\n",
       "    <tr style=\"text-align: right;\">\n",
       "      <th></th>\n",
       "      <th>id</th>\n",
       "      <th>label</th>\n",
       "    </tr>\n",
       "  </thead>\n",
       "  <tbody>\n",
       "    <tr>\n",
       "      <th>0</th>\n",
       "      <td>1</td>\n",
       "      <td>frog</td>\n",
       "    </tr>\n",
       "    <tr>\n",
       "      <th>1</th>\n",
       "      <td>2</td>\n",
       "      <td>truck</td>\n",
       "    </tr>\n",
       "    <tr>\n",
       "      <th>2</th>\n",
       "      <td>3</td>\n",
       "      <td>truck</td>\n",
       "    </tr>\n",
       "    <tr>\n",
       "      <th>3</th>\n",
       "      <td>4</td>\n",
       "      <td>deer</td>\n",
       "    </tr>\n",
       "    <tr>\n",
       "      <th>4</th>\n",
       "      <td>5</td>\n",
       "      <td>automobile</td>\n",
       "    </tr>\n",
       "  </tbody>\n",
       "</table>\n",
       "</div>"
      ],
      "text/plain": [
       "   id       label\n",
       "0   1        frog\n",
       "1   2       truck\n",
       "2   3       truck\n",
       "3   4        deer\n",
       "4   5  automobile"
      ]
     },
     "execution_count": 8,
     "metadata": {},
     "output_type": "execute_result"
    }
   ],
   "source": [
    "labels_df.head()"
   ]
  },
  {
   "cell_type": "code",
   "execution_count": 9,
   "id": "2df7bd62",
   "metadata": {
    "execution": {
     "iopub.execute_input": "2023-11-25T07:00:14.927462Z",
     "iopub.status.busy": "2023-11-25T07:00:14.927112Z",
     "iopub.status.idle": "2023-11-25T07:00:14.940233Z",
     "shell.execute_reply": "2023-11-25T07:00:14.939052Z"
    },
    "papermill": {
     "duration": 0.033768,
     "end_time": "2023-11-25T07:00:14.942742",
     "exception": false,
     "start_time": "2023-11-25T07:00:14.908974",
     "status": "completed"
    },
    "tags": []
   },
   "outputs": [
    {
     "data": {
      "text/html": [
       "<div>\n",
       "<style scoped>\n",
       "    .dataframe tbody tr th:only-of-type {\n",
       "        vertical-align: middle;\n",
       "    }\n",
       "\n",
       "    .dataframe tbody tr th {\n",
       "        vertical-align: top;\n",
       "    }\n",
       "\n",
       "    .dataframe thead th {\n",
       "        text-align: right;\n",
       "    }\n",
       "</style>\n",
       "<table border=\"1\" class=\"dataframe\">\n",
       "  <thead>\n",
       "    <tr style=\"text-align: right;\">\n",
       "      <th></th>\n",
       "      <th>id</th>\n",
       "      <th>label</th>\n",
       "    </tr>\n",
       "  </thead>\n",
       "  <tbody>\n",
       "    <tr>\n",
       "      <th>7795</th>\n",
       "      <td>7796</td>\n",
       "      <td>frog</td>\n",
       "    </tr>\n",
       "  </tbody>\n",
       "</table>\n",
       "</div>"
      ],
      "text/plain": [
       "        id label\n",
       "7795  7796  frog"
      ]
     },
     "execution_count": 9,
     "metadata": {},
     "output_type": "execute_result"
    }
   ],
   "source": [
    "labels_df[labels_df['id'] == 7796]"
   ]
  },
  {
   "cell_type": "code",
   "execution_count": 10,
   "id": "c4c0e46e",
   "metadata": {
    "execution": {
     "iopub.execute_input": "2023-11-25T07:00:14.980430Z",
     "iopub.status.busy": "2023-11-25T07:00:14.979760Z",
     "iopub.status.idle": "2023-11-25T07:00:14.989906Z",
     "shell.execute_reply": "2023-11-25T07:00:14.988892Z"
    },
    "papermill": {
     "duration": 0.030764,
     "end_time": "2023-11-25T07:00:14.991839",
     "exception": false,
     "start_time": "2023-11-25T07:00:14.961075",
     "status": "completed"
    },
    "tags": []
   },
   "outputs": [
    {
     "data": {
      "text/html": [
       "<div>\n",
       "<style scoped>\n",
       "    .dataframe tbody tr th:only-of-type {\n",
       "        vertical-align: middle;\n",
       "    }\n",
       "\n",
       "    .dataframe tbody tr th {\n",
       "        vertical-align: top;\n",
       "    }\n",
       "\n",
       "    .dataframe thead th {\n",
       "        text-align: right;\n",
       "    }\n",
       "</style>\n",
       "<table border=\"1\" class=\"dataframe\">\n",
       "  <thead>\n",
       "    <tr style=\"text-align: right;\">\n",
       "      <th></th>\n",
       "      <th>id</th>\n",
       "      <th>label</th>\n",
       "    </tr>\n",
       "  </thead>\n",
       "  <tbody>\n",
       "    <tr>\n",
       "      <th>0</th>\n",
       "      <td>1</td>\n",
       "      <td>frog</td>\n",
       "    </tr>\n",
       "    <tr>\n",
       "      <th>1</th>\n",
       "      <td>2</td>\n",
       "      <td>truck</td>\n",
       "    </tr>\n",
       "    <tr>\n",
       "      <th>2</th>\n",
       "      <td>3</td>\n",
       "      <td>truck</td>\n",
       "    </tr>\n",
       "    <tr>\n",
       "      <th>3</th>\n",
       "      <td>4</td>\n",
       "      <td>deer</td>\n",
       "    </tr>\n",
       "    <tr>\n",
       "      <th>4</th>\n",
       "      <td>5</td>\n",
       "      <td>automobile</td>\n",
       "    </tr>\n",
       "    <tr>\n",
       "      <th>5</th>\n",
       "      <td>6</td>\n",
       "      <td>automobile</td>\n",
       "    </tr>\n",
       "    <tr>\n",
       "      <th>6</th>\n",
       "      <td>7</td>\n",
       "      <td>bird</td>\n",
       "    </tr>\n",
       "    <tr>\n",
       "      <th>7</th>\n",
       "      <td>8</td>\n",
       "      <td>horse</td>\n",
       "    </tr>\n",
       "    <tr>\n",
       "      <th>8</th>\n",
       "      <td>9</td>\n",
       "      <td>ship</td>\n",
       "    </tr>\n",
       "    <tr>\n",
       "      <th>9</th>\n",
       "      <td>10</td>\n",
       "      <td>cat</td>\n",
       "    </tr>\n",
       "  </tbody>\n",
       "</table>\n",
       "</div>"
      ],
      "text/plain": [
       "   id       label\n",
       "0   1        frog\n",
       "1   2       truck\n",
       "2   3       truck\n",
       "3   4        deer\n",
       "4   5  automobile\n",
       "5   6  automobile\n",
       "6   7        bird\n",
       "7   8       horse\n",
       "8   9        ship\n",
       "9  10         cat"
      ]
     },
     "execution_count": 10,
     "metadata": {},
     "output_type": "execute_result"
    }
   ],
   "source": [
    "labels_df.head(10)"
   ]
  },
  {
   "cell_type": "code",
   "execution_count": 11,
   "id": "ea445c0b",
   "metadata": {
    "execution": {
     "iopub.execute_input": "2023-11-25T07:00:15.028464Z",
     "iopub.status.busy": "2023-11-25T07:00:15.028115Z",
     "iopub.status.idle": "2023-11-25T07:00:15.038211Z",
     "shell.execute_reply": "2023-11-25T07:00:15.037264Z"
    },
    "papermill": {
     "duration": 0.030784,
     "end_time": "2023-11-25T07:00:15.040191",
     "exception": false,
     "start_time": "2023-11-25T07:00:15.009407",
     "status": "completed"
    },
    "tags": []
   },
   "outputs": [
    {
     "data": {
      "text/html": [
       "<div>\n",
       "<style scoped>\n",
       "    .dataframe tbody tr th:only-of-type {\n",
       "        vertical-align: middle;\n",
       "    }\n",
       "\n",
       "    .dataframe tbody tr th {\n",
       "        vertical-align: top;\n",
       "    }\n",
       "\n",
       "    .dataframe thead th {\n",
       "        text-align: right;\n",
       "    }\n",
       "</style>\n",
       "<table border=\"1\" class=\"dataframe\">\n",
       "  <thead>\n",
       "    <tr style=\"text-align: right;\">\n",
       "      <th></th>\n",
       "      <th>id</th>\n",
       "      <th>label</th>\n",
       "    </tr>\n",
       "  </thead>\n",
       "  <tbody>\n",
       "    <tr>\n",
       "      <th>49990</th>\n",
       "      <td>49991</td>\n",
       "      <td>deer</td>\n",
       "    </tr>\n",
       "    <tr>\n",
       "      <th>49991</th>\n",
       "      <td>49992</td>\n",
       "      <td>bird</td>\n",
       "    </tr>\n",
       "    <tr>\n",
       "      <th>49992</th>\n",
       "      <td>49993</td>\n",
       "      <td>airplane</td>\n",
       "    </tr>\n",
       "    <tr>\n",
       "      <th>49993</th>\n",
       "      <td>49994</td>\n",
       "      <td>automobile</td>\n",
       "    </tr>\n",
       "    <tr>\n",
       "      <th>49994</th>\n",
       "      <td>49995</td>\n",
       "      <td>airplane</td>\n",
       "    </tr>\n",
       "    <tr>\n",
       "      <th>49995</th>\n",
       "      <td>49996</td>\n",
       "      <td>bird</td>\n",
       "    </tr>\n",
       "    <tr>\n",
       "      <th>49996</th>\n",
       "      <td>49997</td>\n",
       "      <td>frog</td>\n",
       "    </tr>\n",
       "    <tr>\n",
       "      <th>49997</th>\n",
       "      <td>49998</td>\n",
       "      <td>truck</td>\n",
       "    </tr>\n",
       "    <tr>\n",
       "      <th>49998</th>\n",
       "      <td>49999</td>\n",
       "      <td>automobile</td>\n",
       "    </tr>\n",
       "    <tr>\n",
       "      <th>49999</th>\n",
       "      <td>50000</td>\n",
       "      <td>automobile</td>\n",
       "    </tr>\n",
       "  </tbody>\n",
       "</table>\n",
       "</div>"
      ],
      "text/plain": [
       "          id       label\n",
       "49990  49991        deer\n",
       "49991  49992        bird\n",
       "49992  49993    airplane\n",
       "49993  49994  automobile\n",
       "49994  49995    airplane\n",
       "49995  49996        bird\n",
       "49996  49997        frog\n",
       "49997  49998       truck\n",
       "49998  49999  automobile\n",
       "49999  50000  automobile"
      ]
     },
     "execution_count": 11,
     "metadata": {},
     "output_type": "execute_result"
    }
   ],
   "source": [
    "labels_df.tail(10)"
   ]
  },
  {
   "cell_type": "markdown",
   "id": "6de57f30",
   "metadata": {
    "papermill": {
     "duration": 0.017314,
     "end_time": "2023-11-25T07:00:15.075040",
     "exception": false,
     "start_time": "2023-11-25T07:00:15.057726",
     "status": "completed"
    },
    "tags": []
   },
   "source": [
    "Labels are marked serially by id and evenly distributed ( below )"
   ]
  },
  {
   "cell_type": "code",
   "execution_count": 12,
   "id": "414e3f0b",
   "metadata": {
    "execution": {
     "iopub.execute_input": "2023-11-25T07:00:15.112176Z",
     "iopub.status.busy": "2023-11-25T07:00:15.111507Z",
     "iopub.status.idle": "2023-11-25T07:00:15.131018Z",
     "shell.execute_reply": "2023-11-25T07:00:15.130163Z"
    },
    "papermill": {
     "duration": 0.040134,
     "end_time": "2023-11-25T07:00:15.132900",
     "exception": false,
     "start_time": "2023-11-25T07:00:15.092766",
     "status": "completed"
    },
    "tags": []
   },
   "outputs": [
    {
     "data": {
      "text/plain": [
       "label\n",
       "frog          5000\n",
       "truck         5000\n",
       "deer          5000\n",
       "automobile    5000\n",
       "bird          5000\n",
       "horse         5000\n",
       "ship          5000\n",
       "cat           5000\n",
       "dog           5000\n",
       "airplane      5000\n",
       "Name: count, dtype: int64"
      ]
     },
     "execution_count": 12,
     "metadata": {},
     "output_type": "execute_result"
    }
   ],
   "source": [
    "labels_df['label'].value_counts()"
   ]
  },
  {
   "cell_type": "code",
   "execution_count": 13,
   "id": "6c05845d",
   "metadata": {
    "execution": {
     "iopub.execute_input": "2023-11-25T07:00:15.169894Z",
     "iopub.status.busy": "2023-11-25T07:00:15.169506Z",
     "iopub.status.idle": "2023-11-25T07:00:15.177682Z",
     "shell.execute_reply": "2023-11-25T07:00:15.176799Z"
    },
    "papermill": {
     "duration": 0.028885,
     "end_time": "2023-11-25T07:00:15.179583",
     "exception": false,
     "start_time": "2023-11-25T07:00:15.150698",
     "status": "completed"
    },
    "tags": []
   },
   "outputs": [
    {
     "data": {
      "text/plain": [
       "0              frog\n",
       "1             truck\n",
       "2             truck\n",
       "3              deer\n",
       "4        automobile\n",
       "            ...    \n",
       "49995          bird\n",
       "49996          frog\n",
       "49997         truck\n",
       "49998    automobile\n",
       "49999    automobile\n",
       "Name: label, Length: 50000, dtype: object"
      ]
     },
     "execution_count": 13,
     "metadata": {},
     "output_type": "execute_result"
    }
   ],
   "source": [
    "labels_df['label']"
   ]
  },
  {
   "cell_type": "code",
   "execution_count": 14,
   "id": "8421235d",
   "metadata": {
    "execution": {
     "iopub.execute_input": "2023-11-25T07:00:15.216411Z",
     "iopub.status.busy": "2023-11-25T07:00:15.216086Z",
     "iopub.status.idle": "2023-11-25T07:00:15.236487Z",
     "shell.execute_reply": "2023-11-25T07:00:15.235632Z"
    },
    "papermill": {
     "duration": 0.041377,
     "end_time": "2023-11-25T07:00:15.238699",
     "exception": false,
     "start_time": "2023-11-25T07:00:15.197322",
     "status": "completed"
    },
    "tags": []
   },
   "outputs": [],
   "source": [
    "labels_dictionary = {'airplane':0, 'automobile':1, 'bird':2, 'cat':3, 'deer':4, 'dog':5, 'frog':6, 'horse':7, 'ship':8, 'truck':9}\n",
    "\n",
    "labels = [labels_dictionary[i] for i in labels_df['label']]"
   ]
  },
  {
   "cell_type": "code",
   "execution_count": 15,
   "id": "3ab6f36e",
   "metadata": {
    "execution": {
     "iopub.execute_input": "2023-11-25T07:00:15.276860Z",
     "iopub.status.busy": "2023-11-25T07:00:15.275394Z",
     "iopub.status.idle": "2023-11-25T07:00:15.281538Z",
     "shell.execute_reply": "2023-11-25T07:00:15.280513Z"
    },
    "papermill": {
     "duration": 0.026829,
     "end_time": "2023-11-25T07:00:15.283477",
     "exception": false,
     "start_time": "2023-11-25T07:00:15.256648",
     "status": "completed"
    },
    "tags": []
   },
   "outputs": [
    {
     "name": "stdout",
     "output_type": "stream",
     "text": [
      "[6, 9, 9, 4, 1]\n",
      "[2, 6, 9, 1, 1]\n"
     ]
    }
   ],
   "source": [
    "print(labels[0:5])\n",
    "print(labels[-5:])"
   ]
  },
  {
   "cell_type": "code",
   "execution_count": 16,
   "id": "1cc230f1",
   "metadata": {
    "execution": {
     "iopub.execute_input": "2023-11-25T07:00:15.320662Z",
     "iopub.status.busy": "2023-11-25T07:00:15.320330Z",
     "iopub.status.idle": "2023-11-25T07:00:15.326099Z",
     "shell.execute_reply": "2023-11-25T07:00:15.325280Z"
    },
    "papermill": {
     "duration": 0.026963,
     "end_time": "2023-11-25T07:00:15.328427",
     "exception": false,
     "start_time": "2023-11-25T07:00:15.301464",
     "status": "completed"
    },
    "tags": []
   },
   "outputs": [
    {
     "data": {
      "text/plain": [
       "50000"
      ]
     },
     "execution_count": 16,
     "metadata": {},
     "output_type": "execute_result"
    }
   ],
   "source": [
    "len(labels)"
   ]
  },
  {
   "cell_type": "markdown",
   "id": "b286945f",
   "metadata": {
    "papermill": {
     "duration": 0.017807,
     "end_time": "2023-11-25T07:00:15.369412",
     "exception": false,
     "start_time": "2023-11-25T07:00:15.351605",
     "status": "completed"
    },
    "tags": []
   },
   "source": [
    "Checking labels correctness:"
   ]
  },
  {
   "cell_type": "code",
   "execution_count": 17,
   "id": "0b909fb5",
   "metadata": {
    "execution": {
     "iopub.execute_input": "2023-11-25T07:00:15.407232Z",
     "iopub.status.busy": "2023-11-25T07:00:15.406957Z",
     "iopub.status.idle": "2023-11-25T07:00:15.593248Z",
     "shell.execute_reply": "2023-11-25T07:00:15.592370Z"
    },
    "papermill": {
     "duration": 0.207123,
     "end_time": "2023-11-25T07:00:15.595299",
     "exception": false,
     "start_time": "2023-11-25T07:00:15.388176",
     "status": "completed"
    },
    "tags": []
   },
   "outputs": [
    {
     "data": {
      "text/plain": [
       "<matplotlib.image.AxesImage at 0x7f4b63beafe0>"
      ]
     },
     "execution_count": 17,
     "metadata": {},
     "output_type": "execute_result"
    },
    {
     "data": {
      "image/png": "[encoded data removed]",
      "text/plain": [
       "<Figure size 200x100 with 1 Axes>"
      ]
     },
     "metadata": {},
     "output_type": "display_data"
    }
   ],
   "source": [
    "img = data[9998]\n",
    "plt.figure(figsize=(2,1))\n",
    "plt.imshow(img)"
   ]
  },
  {
   "cell_type": "code",
   "execution_count": 18,
   "id": "993302fc",
   "metadata": {
    "execution": {
     "iopub.execute_input": "2023-11-25T07:00:15.634411Z",
     "iopub.status.busy": "2023-11-25T07:00:15.634145Z",
     "iopub.status.idle": "2023-11-25T07:00:15.642875Z",
     "shell.execute_reply": "2023-11-25T07:00:15.642042Z"
    },
    "papermill": {
     "duration": 0.030668,
     "end_time": "2023-11-25T07:00:15.644763",
     "exception": false,
     "start_time": "2023-11-25T07:00:15.614095",
     "status": "completed"
    },
    "tags": []
   },
   "outputs": [
    {
     "data": {
      "text/html": [
       "<div>\n",
       "<style scoped>\n",
       "    .dataframe tbody tr th:only-of-type {\n",
       "        vertical-align: middle;\n",
       "    }\n",
       "\n",
       "    .dataframe tbody tr th {\n",
       "        vertical-align: top;\n",
       "    }\n",
       "\n",
       "    .dataframe thead th {\n",
       "        text-align: right;\n",
       "    }\n",
       "</style>\n",
       "<table border=\"1\" class=\"dataframe\">\n",
       "  <thead>\n",
       "    <tr style=\"text-align: right;\">\n",
       "      <th></th>\n",
       "      <th>id</th>\n",
       "      <th>label</th>\n",
       "    </tr>\n",
       "  </thead>\n",
       "  <tbody>\n",
       "    <tr>\n",
       "      <th>9998</th>\n",
       "      <td>9999</td>\n",
       "      <td>automobile</td>\n",
       "    </tr>\n",
       "  </tbody>\n",
       "</table>\n",
       "</div>"
      ],
      "text/plain": [
       "        id       label\n",
       "9998  9999  automobile"
      ]
     },
     "execution_count": 18,
     "metadata": {},
     "output_type": "execute_result"
    }
   ],
   "source": [
    "labels_df[labels_df['id'] == 9999]"
   ]
  },
  {
   "cell_type": "code",
   "execution_count": 19,
   "id": "45cefd40",
   "metadata": {
    "execution": {
     "iopub.execute_input": "2023-11-25T07:00:15.683272Z",
     "iopub.status.busy": "2023-11-25T07:00:15.682987Z",
     "iopub.status.idle": "2023-11-25T07:00:15.688193Z",
     "shell.execute_reply": "2023-11-25T07:00:15.687411Z"
    },
    "papermill": {
     "duration": 0.026808,
     "end_time": "2023-11-25T07:00:15.690173",
     "exception": false,
     "start_time": "2023-11-25T07:00:15.663365",
     "status": "completed"
    },
    "tags": []
   },
   "outputs": [
    {
     "data": {
      "text/plain": [
       "1"
      ]
     },
     "execution_count": 19,
     "metadata": {},
     "output_type": "execute_result"
    }
   ],
   "source": [
    "labels[9998] # automobile = 1 , and 0 base indexing in List"
   ]
  },
  {
   "cell_type": "code",
   "execution_count": 20,
   "id": "c6dea87e",
   "metadata": {
    "execution": {
     "iopub.execute_input": "2023-11-25T07:00:15.728442Z",
     "iopub.status.busy": "2023-11-25T07:00:15.728195Z",
     "iopub.status.idle": "2023-11-25T07:00:15.739097Z",
     "shell.execute_reply": "2023-11-25T07:00:15.738295Z"
    },
    "papermill": {
     "duration": 0.032186,
     "end_time": "2023-11-25T07:00:15.740992",
     "exception": false,
     "start_time": "2023-11-25T07:00:15.708806",
     "status": "completed"
    },
    "tags": []
   },
   "outputs": [],
   "source": [
    "id_list = list(labels_df['id'])"
   ]
  },
  {
   "cell_type": "code",
   "execution_count": 21,
   "id": "21536cf3",
   "metadata": {
    "execution": {
     "iopub.execute_input": "2023-11-25T07:00:15.780160Z",
     "iopub.status.busy": "2023-11-25T07:00:15.779887Z",
     "iopub.status.idle": "2023-11-25T07:00:15.784660Z",
     "shell.execute_reply": "2023-11-25T07:00:15.783779Z"
    },
    "papermill": {
     "duration": 0.02653,
     "end_time": "2023-11-25T07:00:15.786541",
     "exception": false,
     "start_time": "2023-11-25T07:00:15.760011",
     "status": "completed"
    },
    "tags": []
   },
   "outputs": [
    {
     "name": "stdout",
     "output_type": "stream",
     "text": [
      "[1, 2, 3, 4, 5]\n",
      "[49996, 49997, 49998, 49999, 50000]\n"
     ]
    }
   ],
   "source": [
    "print(id_list[0:5])\n",
    "print(id_list[-5:])"
   ]
  },
  {
   "cell_type": "markdown",
   "id": "e22dc7d1",
   "metadata": {
    "papermill": {
     "duration": 0.019095,
     "end_time": "2023-11-25T07:00:15.824259",
     "exception": false,
     "start_time": "2023-11-25T07:00:15.805164",
     "status": "completed"
    },
    "tags": []
   },
   "source": [
    "# **Train Test Split**"
   ]
  },
  {
   "cell_type": "code",
   "execution_count": 22,
   "id": "fd8dd0c3",
   "metadata": {
    "execution": {
     "iopub.execute_input": "2023-11-25T07:00:15.862662Z",
     "iopub.status.busy": "2023-11-25T07:00:15.862376Z",
     "iopub.status.idle": "2023-11-25T07:00:15.867716Z",
     "shell.execute_reply": "2023-11-25T07:00:15.866900Z"
    },
    "papermill": {
     "duration": 0.02663,
     "end_time": "2023-11-25T07:00:15.869567",
     "exception": false,
     "start_time": "2023-11-25T07:00:15.842937",
     "status": "completed"
    },
    "tags": []
   },
   "outputs": [
    {
     "data": {
      "text/plain": [
       "numpy.ndarray"
      ]
     },
     "execution_count": 22,
     "metadata": {},
     "output_type": "execute_result"
    }
   ],
   "source": [
    "type(data)"
   ]
  },
  {
   "cell_type": "code",
   "execution_count": 23,
   "id": "ebd81873",
   "metadata": {
    "execution": {
     "iopub.execute_input": "2023-11-25T07:00:15.908189Z",
     "iopub.status.busy": "2023-11-25T07:00:15.907945Z",
     "iopub.status.idle": "2023-11-25T07:00:15.912969Z",
     "shell.execute_reply": "2023-11-25T07:00:15.912138Z"
    },
    "papermill": {
     "duration": 0.026511,
     "end_time": "2023-11-25T07:00:15.914922",
     "exception": false,
     "start_time": "2023-11-25T07:00:15.888411",
     "status": "completed"
    },
    "tags": []
   },
   "outputs": [
    {
     "data": {
      "text/plain": [
       "50000"
      ]
     },
     "execution_count": 23,
     "metadata": {},
     "output_type": "execute_result"
    }
   ],
   "source": [
    "len(data)"
   ]
  },
  {
   "cell_type": "code",
   "execution_count": 24,
   "id": "b55e46d0",
   "metadata": {
    "execution": {
     "iopub.execute_input": "2023-11-25T07:00:15.953910Z",
     "iopub.status.busy": "2023-11-25T07:00:15.953645Z",
     "iopub.status.idle": "2023-11-25T07:00:15.958702Z",
     "shell.execute_reply": "2023-11-25T07:00:15.957927Z"
    },
    "papermill": {
     "duration": 0.026834,
     "end_time": "2023-11-25T07:00:15.960679",
     "exception": false,
     "start_time": "2023-11-25T07:00:15.933845",
     "status": "completed"
    },
    "tags": []
   },
   "outputs": [
    {
     "data": {
      "text/plain": [
       "numpy.ndarray"
      ]
     },
     "execution_count": 24,
     "metadata": {},
     "output_type": "execute_result"
    }
   ],
   "source": [
    "type(data[0])"
   ]
  },
  {
   "cell_type": "code",
   "execution_count": 25,
   "id": "2c8aa022",
   "metadata": {
    "execution": {
     "iopub.execute_input": "2023-11-25T07:00:16.001012Z",
     "iopub.status.busy": "2023-11-25T07:00:16.000763Z",
     "iopub.status.idle": "2023-11-25T07:00:16.006283Z",
     "shell.execute_reply": "2023-11-25T07:00:16.005470Z"
    },
    "papermill": {
     "duration": 0.028404,
     "end_time": "2023-11-25T07:00:16.008250",
     "exception": false,
     "start_time": "2023-11-25T07:00:15.979846",
     "status": "completed"
    },
    "tags": []
   },
   "outputs": [
    {
     "data": {
      "text/plain": [
       "(32, 32, 3)"
      ]
     },
     "execution_count": 25,
     "metadata": {},
     "output_type": "execute_result"
    }
   ],
   "source": [
    "data[0].shape"
   ]
  },
  {
   "cell_type": "code",
   "execution_count": 26,
   "id": "34e28dd7",
   "metadata": {
    "execution": {
     "iopub.execute_input": "2023-11-25T07:00:16.047643Z",
     "iopub.status.busy": "2023-11-25T07:00:16.047369Z",
     "iopub.status.idle": "2023-11-25T07:00:16.055613Z",
     "shell.execute_reply": "2023-11-25T07:00:16.054744Z"
    },
    "papermill": {
     "duration": 0.03013,
     "end_time": "2023-11-25T07:00:16.057587",
     "exception": false,
     "start_time": "2023-11-25T07:00:16.027457",
     "status": "completed"
    },
    "tags": []
   },
   "outputs": [],
   "source": [
    "# convert image list and label list to numpy arrays\n",
    "\n",
    "x = data\n",
    "y = np.array(labels)"
   ]
  },
  {
   "cell_type": "code",
   "execution_count": 27,
   "id": "2f8ca243",
   "metadata": {
    "execution": {
     "iopub.execute_input": "2023-11-25T07:00:16.097487Z",
     "iopub.status.busy": "2023-11-25T07:00:16.097212Z",
     "iopub.status.idle": "2023-11-25T07:00:16.102420Z",
     "shell.execute_reply": "2023-11-25T07:00:16.101634Z"
    },
    "papermill": {
     "duration": 0.027271,
     "end_time": "2023-11-25T07:00:16.104367",
     "exception": false,
     "start_time": "2023-11-25T07:00:16.077096",
     "status": "completed"
    },
    "tags": []
   },
   "outputs": [
    {
     "data": {
      "text/plain": [
       "numpy.ndarray"
      ]
     },
     "execution_count": 27,
     "metadata": {},
     "output_type": "execute_result"
    }
   ],
   "source": [
    "type(x)"
   ]
  },
  {
   "cell_type": "code",
   "execution_count": 28,
   "id": "790111b4",
   "metadata": {
    "execution": {
     "iopub.execute_input": "2023-11-25T07:00:16.144298Z",
     "iopub.status.busy": "2023-11-25T07:00:16.143998Z",
     "iopub.status.idle": "2023-11-25T07:00:16.149022Z",
     "shell.execute_reply": "2023-11-25T07:00:16.147931Z"
    },
    "papermill": {
     "duration": 0.02761,
     "end_time": "2023-11-25T07:00:16.151221",
     "exception": false,
     "start_time": "2023-11-25T07:00:16.123611",
     "status": "completed"
    },
    "tags": []
   },
   "outputs": [
    {
     "name": "stdout",
     "output_type": "stream",
     "text": [
      "(50000, 32, 32, 3)\n",
      "(50000,)\n"
     ]
    }
   ],
   "source": [
    "print(x.shape)\n",
    "print(y.shape)"
   ]
  },
  {
   "cell_type": "code",
   "execution_count": 29,
   "id": "5299f5e5",
   "metadata": {
    "execution": {
     "iopub.execute_input": "2023-11-25T07:00:16.193746Z",
     "iopub.status.busy": "2023-11-25T07:00:16.193429Z",
     "iopub.status.idle": "2023-11-25T07:00:16.197249Z",
     "shell.execute_reply": "2023-11-25T07:00:16.196434Z"
    },
    "papermill": {
     "duration": 0.026904,
     "end_time": "2023-11-25T07:00:16.199121",
     "exception": false,
     "start_time": "2023-11-25T07:00:16.172217",
     "status": "completed"
    },
    "tags": []
   },
   "outputs": [],
   "source": [
    "#small data for testing while naking the model\n",
    "# x = x[:100]\n",
    "# y = y[:100]"
   ]
  },
  {
   "cell_type": "code",
   "execution_count": 30,
   "id": "35de6c8f",
   "metadata": {
    "execution": {
     "iopub.execute_input": "2023-11-25T07:00:16.241491Z",
     "iopub.status.busy": "2023-11-25T07:00:16.241207Z",
     "iopub.status.idle": "2023-11-25T07:00:16.248513Z",
     "shell.execute_reply": "2023-11-25T07:00:16.247613Z"
    },
    "papermill": {
     "duration": 0.030632,
     "end_time": "2023-11-25T07:00:16.250744",
     "exception": false,
     "start_time": "2023-11-25T07:00:16.220112",
     "status": "completed"
    },
    "tags": []
   },
   "outputs": [
    {
     "data": {
      "text/plain": [
       "array([[[ 59,  62,  63],\n",
       "        [ 43,  46,  45],\n",
       "        [ 50,  48,  43],\n",
       "        ...,\n",
       "        [158, 132, 108],\n",
       "        [152, 125, 102],\n",
       "        [148, 124, 103]],\n",
       "\n",
       "       [[ 16,  20,  20],\n",
       "        [  0,   0,   0],\n",
       "        [ 18,   8,   0],\n",
       "        ...,\n",
       "        [123,  88,  55],\n",
       "        [119,  83,  50],\n",
       "        [122,  87,  57]],\n",
       "\n",
       "       [[ 25,  24,  21],\n",
       "        [ 16,   7,   0],\n",
       "        [ 49,  27,   8],\n",
       "        ...,\n",
       "        [118,  84,  50],\n",
       "        [120,  84,  50],\n",
       "        [109,  73,  42]],\n",
       "\n",
       "       ...,\n",
       "\n",
       "       [[208, 170,  96],\n",
       "        [201, 153,  34],\n",
       "        [198, 161,  26],\n",
       "        ...,\n",
       "        [160, 133,  70],\n",
       "        [ 56,  31,   7],\n",
       "        [ 53,  34,  20]],\n",
       "\n",
       "       [[180, 139,  96],\n",
       "        [173, 123,  42],\n",
       "        [186, 144,  30],\n",
       "        ...,\n",
       "        [184, 148,  94],\n",
       "        [ 97,  62,  34],\n",
       "        [ 83,  53,  34]],\n",
       "\n",
       "       [[177, 144, 116],\n",
       "        [168, 129,  94],\n",
       "        [179, 142,  87],\n",
       "        ...,\n",
       "        [216, 184, 140],\n",
       "        [151, 118,  84],\n",
       "        [123,  92,  72]]], dtype=uint8)"
      ]
     },
     "execution_count": 30,
     "metadata": {},
     "output_type": "execute_result"
    }
   ],
   "source": [
    "x[0]"
   ]
  },
  {
   "cell_type": "code",
   "execution_count": 31,
   "id": "97244900",
   "metadata": {
    "execution": {
     "iopub.execute_input": "2023-11-25T07:00:16.294025Z",
     "iopub.status.busy": "2023-11-25T07:00:16.293758Z",
     "iopub.status.idle": "2023-11-25T07:00:16.357094Z",
     "shell.execute_reply": "2023-11-25T07:00:16.355852Z"
    },
    "papermill": {
     "duration": 0.087366,
     "end_time": "2023-11-25T07:00:16.359851",
     "exception": false,
     "start_time": "2023-11-25T07:00:16.272485",
     "status": "completed"
    },
    "tags": []
   },
   "outputs": [],
   "source": [
    "x_train, x_test, y_train, y_test = train_test_split(x, y, test_size=0.2, random_state=2)"
   ]
  },
  {
   "cell_type": "code",
   "execution_count": 32,
   "id": "6bf998d0",
   "metadata": {
    "execution": {
     "iopub.execute_input": "2023-11-25T07:00:16.411411Z",
     "iopub.status.busy": "2023-11-25T07:00:16.411060Z",
     "iopub.status.idle": "2023-11-25T07:00:16.415853Z",
     "shell.execute_reply": "2023-11-25T07:00:16.414971Z"
    },
    "papermill": {
     "duration": 0.029828,
     "end_time": "2023-11-25T07:00:16.418161",
     "exception": false,
     "start_time": "2023-11-25T07:00:16.388333",
     "status": "completed"
    },
    "tags": []
   },
   "outputs": [
    {
     "name": "stdout",
     "output_type": "stream",
     "text": [
      "(50000, 32, 32, 3) (40000, 32, 32, 3) (10000, 32, 32, 3)\n"
     ]
    }
   ],
   "source": [
    "print(x.shape, x_train.shape, x_test.shape)"
   ]
  },
  {
   "cell_type": "code",
   "execution_count": 33,
   "id": "5258d8b6",
   "metadata": {
    "execution": {
     "iopub.execute_input": "2023-11-25T07:00:16.468297Z",
     "iopub.status.busy": "2023-11-25T07:00:16.467307Z",
     "iopub.status.idle": "2023-11-25T07:00:16.845796Z",
     "shell.execute_reply": "2023-11-25T07:00:16.844949Z"
    },
    "papermill": {
     "duration": 0.408267,
     "end_time": "2023-11-25T07:00:16.848375",
     "exception": false,
     "start_time": "2023-11-25T07:00:16.440108",
     "status": "completed"
    },
    "tags": []
   },
   "outputs": [],
   "source": [
    "# scaling the data\n",
    "\n",
    "x_train_scaled = x_train/255\n",
    "\n",
    "x_test_scaled = x_test/255"
   ]
  },
  {
   "cell_type": "code",
   "execution_count": 34,
   "id": "52de901e",
   "metadata": {
    "execution": {
     "iopub.execute_input": "2023-11-25T07:00:16.897030Z",
     "iopub.status.busy": "2023-11-25T07:00:16.896698Z",
     "iopub.status.idle": "2023-11-25T07:00:16.904942Z",
     "shell.execute_reply": "2023-11-25T07:00:16.904009Z"
    },
    "papermill": {
     "duration": 0.033026,
     "end_time": "2023-11-25T07:00:16.907175",
     "exception": false,
     "start_time": "2023-11-25T07:00:16.874149",
     "status": "completed"
    },
    "tags": []
   },
   "outputs": [
    {
     "data": {
      "text/plain": [
       "array([[[0.81960784, 0.82352941, 0.79607843],\n",
       "        [0.83529412, 0.83921569, 0.81960784],\n",
       "        [0.85490196, 0.85882353, 0.84313725],\n",
       "        ...,\n",
       "        [0.49803922, 0.29019608, 0.15294118],\n",
       "        [0.47843137, 0.26666667, 0.1372549 ],\n",
       "        [0.45490196, 0.24705882, 0.1254902 ]],\n",
       "\n",
       "       [[0.82352941, 0.82352941, 0.79215686],\n",
       "        [0.83529412, 0.83921569, 0.81176471],\n",
       "        [0.85490196, 0.8627451 , 0.83921569],\n",
       "        ...,\n",
       "        [0.48627451, 0.2745098 , 0.1372549 ],\n",
       "        [0.4745098 , 0.2627451 , 0.12941176],\n",
       "        [0.48235294, 0.27058824, 0.14117647]],\n",
       "\n",
       "       [[0.80784314, 0.80392157, 0.76470588],\n",
       "        [0.81960784, 0.81960784, 0.79215686],\n",
       "        [0.83529412, 0.84313725, 0.81960784],\n",
       "        ...,\n",
       "        [0.48627451, 0.2745098 , 0.14509804],\n",
       "        [0.51372549, 0.30196078, 0.16470588],\n",
       "        [0.51372549, 0.30588235, 0.16078431]],\n",
       "\n",
       "       ...,\n",
       "\n",
       "       [[0.49803922, 0.42352941, 0.38039216],\n",
       "        [0.54117647, 0.47843137, 0.43137255],\n",
       "        [0.55294118, 0.49803922, 0.4627451 ],\n",
       "        ...,\n",
       "        [0.61960784, 0.58431373, 0.5254902 ],\n",
       "        [0.63137255, 0.61176471, 0.59215686],\n",
       "        [0.53333333, 0.5372549 , 0.58039216]],\n",
       "\n",
       "       [[0.56862745, 0.50980392, 0.46666667],\n",
       "        [0.58039216, 0.52941176, 0.50196078],\n",
       "        [0.53333333, 0.49803922, 0.50196078],\n",
       "        ...,\n",
       "        [0.68627451, 0.68235294, 0.6745098 ],\n",
       "        [0.62745098, 0.63137255, 0.66666667],\n",
       "        [0.56078431, 0.58039216, 0.64313725]],\n",
       "\n",
       "       [[0.54117647, 0.50196078, 0.48235294],\n",
       "        [0.54901961, 0.51764706, 0.53333333],\n",
       "        [0.53333333, 0.51372549, 0.54901961],\n",
       "        ...,\n",
       "        [0.58823529, 0.60392157, 0.6627451 ],\n",
       "        [0.56862745, 0.58431373, 0.65098039],\n",
       "        [0.54901961, 0.56862745, 0.63921569]]])"
      ]
     },
     "execution_count": 34,
     "metadata": {},
     "output_type": "execute_result"
    }
   ],
   "source": [
    "x_train_scaled[0]"
   ]
  },
  {
   "cell_type": "markdown",
   "id": "962bff3e",
   "metadata": {
    "papermill": {
     "duration": 0.021978,
     "end_time": "2023-11-25T07:00:16.950474",
     "exception": false,
     "start_time": "2023-11-25T07:00:16.928496",
     "status": "completed"
    },
    "tags": []
   },
   "source": [
    "# Building the neural network using Resnet50"
   ]
  },
  {
   "cell_type": "code",
   "execution_count": 35,
   "id": "b98559b0",
   "metadata": {
    "execution": {
     "iopub.execute_input": "2023-11-25T07:00:16.991859Z",
     "iopub.status.busy": "2023-11-25T07:00:16.991528Z",
     "iopub.status.idle": "2023-11-25T07:00:27.743827Z",
     "shell.execute_reply": "2023-11-25T07:00:27.742811Z"
    },
    "papermill": {
     "duration": 10.775753,
     "end_time": "2023-11-25T07:00:27.746304",
     "exception": false,
     "start_time": "2023-11-25T07:00:16.970551",
     "status": "completed"
    },
    "tags": []
   },
   "outputs": [],
   "source": [
    "import tensorflow as tf\n",
    "from tensorflow import keras"
   ]
  },
  {
   "cell_type": "code",
   "execution_count": 36,
   "id": "f2401d4f",
   "metadata": {
    "execution": {
     "iopub.execute_input": "2023-11-25T07:00:27.789148Z",
     "iopub.status.busy": "2023-11-25T07:00:27.788525Z",
     "iopub.status.idle": "2023-11-25T07:00:27.884048Z",
     "shell.execute_reply": "2023-11-25T07:00:27.883316Z"
    },
    "papermill": {
     "duration": 0.119099,
     "end_time": "2023-11-25T07:00:27.886152",
     "exception": false,
     "start_time": "2023-11-25T07:00:27.767053",
     "status": "completed"
    },
    "tags": []
   },
   "outputs": [],
   "source": [
    "from tensorflow.keras import Sequential, models, layers\n",
    "from tensorflow.keras.layers import Dense, Dropout, Flatten\n",
    "from tensorflow.keras.layers import BatchNormalization\n",
    "from tensorflow.keras.models import load_model\n",
    "from tensorflow.keras.models import Model\n",
    "from tensorflow.keras.applications.resnet50 import ResNet50\n",
    "from tensorflow.keras import optimizers"
   ]
  },
  {
   "cell_type": "markdown",
   "id": "1e78f6d4",
   "metadata": {
    "papermill": {
     "duration": 0.019802,
     "end_time": "2023-11-25T07:00:27.926510",
     "exception": false,
     "start_time": "2023-11-25T07:00:27.906708",
     "status": "completed"
    },
    "tags": []
   },
   "source": [
    "Resnet: https://keras.io/api/applications/resnet/"
   ]
  },
  {
   "cell_type": "code",
   "execution_count": 37,
   "id": "388037d9",
   "metadata": {
    "execution": {
     "iopub.execute_input": "2023-11-25T07:00:27.968032Z",
     "iopub.status.busy": "2023-11-25T07:00:27.967337Z",
     "iopub.status.idle": "2023-11-25T07:00:37.044091Z",
     "shell.execute_reply": "2023-11-25T07:00:37.043170Z"
    },
    "papermill": {
     "duration": 9.100076,
     "end_time": "2023-11-25T07:00:37.046483",
     "exception": false,
     "start_time": "2023-11-25T07:00:27.946407",
     "status": "completed"
    },
    "tags": []
   },
   "outputs": [
    {
     "name": "stdout",
     "output_type": "stream",
     "text": [
      "Downloading data from https://storage.googleapis.com/tensorflow/keras-applications/resnet/resnet50_weights_tf_dim_ordering_tf_kernels_notop.h5\n",
      "94765736/94765736 [==============================] - 4s 0us/step\n"
     ]
    }
   ],
   "source": [
    "convolutional_base = ResNet50(weights='imagenet', include_top=False, input_shape=(256,256,3))"
   ]
  },
  {
   "cell_type": "code",
   "execution_count": 38,
   "id": "7bad49c9",
   "metadata": {
    "execution": {
     "iopub.execute_input": "2023-11-25T07:00:37.101223Z",
     "iopub.status.busy": "2023-11-25T07:00:37.100641Z",
     "iopub.status.idle": "2023-11-25T07:00:37.596181Z",
     "shell.execute_reply": "2023-11-25T07:00:37.595101Z"
    },
    "papermill": {
     "duration": 0.645709,
     "end_time": "2023-11-25T07:00:37.719557",
     "exception": false,
     "start_time": "2023-11-25T07:00:37.073848",
     "status": "completed"
    },
    "tags": []
   },
   "outputs": [
    {
     "name": "stdout",
     "output_type": "stream",
     "text": [
      "Model: \"resnet50\"\n",
      "__________________________________________________________________________________________________\n",
      " Layer (type)                Output Shape                 Param #   Connected to                  \n",
      "==================================================================================================\n",
      " input_1 (InputLayer)        [(None, 256, 256, 3)]        0         []                            \n",
      "                                                                                                  \n",
      " conv1_pad (ZeroPadding2D)   (None, 262, 262, 3)          0         ['input_1[0][0]']             \n",
      "                                                                                                  \n",
      " conv1_conv (Conv2D)         (None, 128, 128, 64)         9472      ['conv1_pad[0][0]']           \n",
      "                                                                                                  \n",
      " conv1_bn (BatchNormalizati  (None, 128, 128, 64)         256       ['conv1_conv[0][0]']          \n",
      " on)                                                                                              \n",
      "                                                                                                  \n",
      " conv1_relu (Activation)     (None, 128, 128, 64)         0         ['conv1_bn[0][0]']            \n",
      "                                                                                                  \n",
      " pool1_pad (ZeroPadding2D)   (None, 130, 130, 64)         0         ['conv1_relu[0][0]']          \n",
      "                                                                                                  \n",
      " pool1_pool (MaxPooling2D)   (None, 64, 64, 64)           0         ['pool1_pad[0][0]']           \n",
      "                                                                                                  \n",
      " conv2_block1_1_conv (Conv2  (None, 64, 64, 64)           4160      ['pool1_pool[0][0]']          \n",
      " D)                                                                                               \n",
      "                                                                                                  \n",
      " conv2_block1_1_bn (BatchNo  (None, 64, 64, 64)           256       ['conv2_block1_1_conv[0][0]'] \n",
      " rmalization)                                                                                     \n",
      "                                                                                                  \n",
      " conv2_block1_1_relu (Activ  (None, 64, 64, 64)           0         ['conv2_block1_1_bn[0][0]']   \n",
      " ation)                                                                                           \n",
      "                                                                                                  \n",
      " conv2_block1_2_conv (Conv2  (None, 64, 64, 64)           36928     ['conv2_block1_1_relu[0][0]'] \n",
      " D)                                                                                               \n",
      "                                                                                                  \n",
      " conv2_block1_2_bn (BatchNo  (None, 64, 64, 64)           256       ['conv2_block1_2_conv[0][0]'] \n",
      " rmalization)                                                                                     \n",
      "                                                                                                  \n",
      " conv2_block1_2_relu (Activ  (None, 64, 64, 64)           0         ['conv2_block1_2_bn[0][0]']   \n",
      " ation)                                                                                           \n",
      "                                                                                                  \n",
      " conv2_block1_0_conv (Conv2  (None, 64, 64, 256)          16640     ['pool1_pool[0][0]']          \n",
      " D)                                                                                               \n",
      "                                                                                                  \n",
      " conv2_block1_3_conv (Conv2  (None, 64, 64, 256)          16640     ['conv2_block1_2_relu[0][0]'] \n",
      " D)                                                                                               \n",
      "                                                                                                  \n",
      " conv2_block1_0_bn (BatchNo  (None, 64, 64, 256)          1024      ['conv2_block1_0_conv[0][0]'] \n",
      " rmalization)                                                                                     \n",
      "                                                                                                  \n",
      " conv2_block1_3_bn (BatchNo  (None, 64, 64, 256)          1024      ['conv2_block1_3_conv[0][0]'] \n",
      " rmalization)                                                                                     \n",
      "                                                                                                  \n",
      " conv2_block1_add (Add)      (None, 64, 64, 256)          0         ['conv2_block1_0_bn[0][0]',   \n",
      "                                                                     'conv2_block1_3_bn[0][0]']   \n",
      "                                                                                                  \n",
      " conv2_block1_out (Activati  (None, 64, 64, 256)          0         ['conv2_block1_add[0][0]']    \n",
      " on)                                                                                              \n",
      "                                                                                                  \n",
      " conv2_block2_1_conv (Conv2  (None, 64, 64, 64)           16448     ['conv2_block1_out[0][0]']    \n",
      " D)                                                                                               \n",
      "                                                                                                  \n",
      " conv2_block2_1_bn (BatchNo  (None, 64, 64, 64)           256       ['conv2_block2_1_conv[0][0]'] \n",
      " rmalization)                                                                                     \n",
      "                                                                                                  \n",
      " conv2_block2_1_relu (Activ  (None, 64, 64, 64)           0         ['conv2_block2_1_bn[0][0]']   \n",
      " ation)                                                                                           \n",
      "                                                                                                  \n",
      " conv2_block2_2_conv (Conv2  (None, 64, 64, 64)           36928     ['conv2_block2_1_relu[0][0]'] \n",
      " D)                                                                                               \n",
      "                                                                                                  \n",
      " conv2_block2_2_bn (BatchNo  (None, 64, 64, 64)           256       ['conv2_block2_2_conv[0][0]'] \n",
      " rmalization)                                                                                     \n",
      "                                                                                                  \n",
      " conv2_block2_2_relu (Activ  (None, 64, 64, 64)           0         ['conv2_block2_2_bn[0][0]']   \n",
      " ation)                                                                                           \n",
      "                                                                                                  \n",
      " conv2_block2_3_conv (Conv2  (None, 64, 64, 256)          16640     ['conv2_block2_2_relu[0][0]'] \n",
      " D)                                                                                               \n",
      "                                                                                                  \n",
      " conv2_block2_3_bn (BatchNo  (None, 64, 64, 256)          1024      ['conv2_block2_3_conv[0][0]'] \n",
      " rmalization)                                                                                     \n",
      "                                                                                                  \n",
      " conv2_block2_add (Add)      (None, 64, 64, 256)          0         ['conv2_block1_out[0][0]',    \n",
      "                                                                     'conv2_block2_3_bn[0][0]']   \n",
      "                                                                                                  \n",
      " conv2_block2_out (Activati  (None, 64, 64, 256)          0         ['conv2_block2_add[0][0]']    \n",
      " on)                                                                                              \n",
      "                                                                                                  \n",
      " conv2_block3_1_conv (Conv2  (None, 64, 64, 64)           16448     ['conv2_block2_out[0][0]']    \n",
      " D)                                                                                               \n",
      "                                                                                                  \n",
      " conv2_block3_1_bn (BatchNo  (None, 64, 64, 64)           256       ['conv2_block3_1_conv[0][0]'] \n",
      " rmalization)                                                                                     \n",
      "                                                                                                  \n",
      " conv2_block3_1_relu (Activ  (None, 64, 64, 64)           0         ['conv2_block3_1_bn[0][0]']   \n",
      " ation)                                                                                           \n",
      "                                                                                                  \n",
      " conv2_block3_2_conv (Conv2  (None, 64, 64, 64)           36928     ['conv2_block3_1_relu[0][0]'] \n",
      " D)                                                                                               \n",
      "                                                                                                  \n",
      " conv2_block3_2_bn (BatchNo  (None, 64, 64, 64)           256       ['conv2_block3_2_conv[0][0]'] \n",
      " rmalization)                                                                                     \n",
      "                                                                                                  \n",
      " conv2_block3_2_relu (Activ  (None, 64, 64, 64)           0         ['conv2_block3_2_bn[0][0]']   \n",
      " ation)                                                                                           \n",
      "                                                                                                  \n",
      " conv2_block3_3_conv (Conv2  (None, 64, 64, 256)          16640     ['conv2_block3_2_relu[0][0]'] \n",
      " D)                                                                                               \n",
      "                                                                                                  \n",
      " conv2_block3_3_bn (BatchNo  (None, 64, 64, 256)          1024      ['conv2_block3_3_conv[0][0]'] \n",
      " rmalization)                                                                                     \n",
      "                                                                                                  \n",
      " conv2_block3_add (Add)      (None, 64, 64, 256)          0         ['conv2_block2_out[0][0]',    \n",
      "                                                                     'conv2_block3_3_bn[0][0]']   \n",
      "                                                                                                  \n",
      " conv2_block3_out (Activati  (None, 64, 64, 256)          0         ['conv2_block3_add[0][0]']    \n",
      " on)                                                                                              \n",
      "                                                                                                  \n",
      " conv3_block1_1_conv (Conv2  (None, 32, 32, 128)          32896     ['conv2_block3_out[0][0]']    \n",
      " D)                                                                                               \n",
      "                                                                                                  \n",
      " conv3_block1_1_bn (BatchNo  (None, 32, 32, 128)          512       ['conv3_block1_1_conv[0][0]'] \n",
      " rmalization)                                                                                     \n",
      "                                                                                                  \n",
      " conv3_block1_1_relu (Activ  (None, 32, 32, 128)          0         ['conv3_block1_1_bn[0][0]']   \n",
      " ation)                                                                                           \n",
      "                                                                                                  \n",
      " conv3_block1_2_conv (Conv2  (None, 32, 32, 128)          147584    ['conv3_block1_1_relu[0][0]'] \n",
      " D)                                                                                               \n",
      "                                                                                                  \n",
      " conv3_block1_2_bn (BatchNo  (None, 32, 32, 128)          512       ['conv3_block1_2_conv[0][0]'] \n",
      " rmalization)                                                                                     \n",
      "                                                                                                  \n",
      " conv3_block1_2_relu (Activ  (None, 32, 32, 128)          0         ['conv3_block1_2_bn[0][0]']   \n",
      " ation)                                                                                           \n",
      "                                                                                                  \n",
      " conv3_block1_0_conv (Conv2  (None, 32, 32, 512)          131584    ['conv2_block3_out[0][0]']    \n",
      " D)                                                                                               \n",
      "                                                                                                  \n",
      " conv3_block1_3_conv (Conv2  (None, 32, 32, 512)          66048     ['conv3_block1_2_relu[0][0]'] \n",
      " D)                                                                                               \n",
      "                                                                                                  \n",
      " conv3_block1_0_bn (BatchNo  (None, 32, 32, 512)          2048      ['conv3_block1_0_conv[0][0]'] \n",
      " rmalization)                                                                                     \n",
      "                                                                                                  \n",
      " conv3_block1_3_bn (BatchNo  (None, 32, 32, 512)          2048      ['conv3_block1_3_conv[0][0]'] \n",
      " rmalization)                                                                                     \n",
      "                                                                                                  \n",
      " conv3_block1_add (Add)      (None, 32, 32, 512)          0         ['conv3_block1_0_bn[0][0]',   \n",
      "                                                                     'conv3_block1_3_bn[0][0]']   \n",
      "                                                                                                  \n",
      " conv3_block1_out (Activati  (None, 32, 32, 512)          0         ['conv3_block1_add[0][0]']    \n",
      " on)                                                                                              \n",
      "                                                                                                  \n",
      " conv3_block2_1_conv (Conv2  (None, 32, 32, 128)          65664     ['conv3_block1_out[0][0]']    \n",
      " D)                                                                                               \n",
      "                                                                                                  \n",
      " conv3_block2_1_bn (BatchNo  (None, 32, 32, 128)          512       ['conv3_block2_1_conv[0][0]'] \n",
      " rmalization)                                                                                     \n",
      "                                                                                                  \n",
      " conv3_block2_1_relu (Activ  (None, 32, 32, 128)          0         ['conv3_block2_1_bn[0][0]']   \n",
      " ation)                                                                                           \n",
      "                                                                                                  \n",
      " conv3_block2_2_conv (Conv2  (None, 32, 32, 128)          147584    ['conv3_block2_1_relu[0][0]'] \n",
      " D)                                                                                               \n",
      "                                                                                                  \n",
      " conv3_block2_2_bn (BatchNo  (None, 32, 32, 128)          512       ['conv3_block2_2_conv[0][0]'] \n",
      " rmalization)                                                                                     \n",
      "                                                                                                  \n",
      " conv3_block2_2_relu (Activ  (None, 32, 32, 128)          0         ['conv3_block2_2_bn[0][0]']   \n",
      " ation)                                                                                           \n",
      "                                                                                                  \n",
      " conv3_block2_3_conv (Conv2  (None, 32, 32, 512)          66048     ['conv3_block2_2_relu[0][0]'] \n",
      " D)                                                                                               \n",
      "                                                                                                  \n",
      " conv3_block2_3_bn (BatchNo  (None, 32, 32, 512)          2048      ['conv3_block2_3_conv[0][0]'] \n",
      " rmalization)                                                                                     \n",
      "                                                                                                  \n",
      " conv3_block2_add (Add)      (None, 32, 32, 512)          0         ['conv3_block1_out[0][0]',    \n",
      "                                                                     'conv3_block2_3_bn[0][0]']   \n",
      "                                                                                                  \n",
      " conv3_block2_out (Activati  (None, 32, 32, 512)          0         ['conv3_block2_add[0][0]']    \n",
      " on)                                                                                              \n",
      "                                                                                                  \n",
      " conv3_block3_1_conv (Conv2  (None, 32, 32, 128)          65664     ['conv3_block2_out[0][0]']    \n",
      " D)                                                                                               \n",
      "                                                                                                  \n",
      " conv3_block3_1_bn (BatchNo  (None, 32, 32, 128)          512       ['conv3_block3_1_conv[0][0]'] \n",
      " rmalization)                                                                                     \n",
      "                                                                                                  \n",
      " conv3_block3_1_relu (Activ  (None, 32, 32, 128)          0         ['conv3_block3_1_bn[0][0]']   \n",
      " ation)                                                                                           \n",
      "                                                                                                  \n",
      " conv3_block3_2_conv (Conv2  (None, 32, 32, 128)          147584    ['conv3_block3_1_relu[0][0]'] \n",
      " D)                                                                                               \n",
      "                                                                                                  \n",
      " conv3_block3_2_bn (BatchNo  (None, 32, 32, 128)          512       ['conv3_block3_2_conv[0][0]'] \n",
      " rmalization)                                                                                     \n",
      "                                                                                                  \n",
      " conv3_block3_2_relu (Activ  (None, 32, 32, 128)          0         ['conv3_block3_2_bn[0][0]']   \n",
      " ation)                                                                                           \n",
      "                                                                                                  \n",
      " conv3_block3_3_conv (Conv2  (None, 32, 32, 512)          66048     ['conv3_block3_2_relu[0][0]'] \n",
      " D)                                                                                               \n",
      "                                                                                                  \n",
      " conv3_block3_3_bn (BatchNo  (None, 32, 32, 512)          2048      ['conv3_block3_3_conv[0][0]'] \n",
      " rmalization)                                                                                     \n",
      "                                                                                                  \n",
      " conv3_block3_add (Add)      (None, 32, 32, 512)          0         ['conv3_block2_out[0][0]',    \n",
      "                                                                     'conv3_block3_3_bn[0][0]']   \n",
      "                                                                                                  \n",
      " conv3_block3_out (Activati  (None, 32, 32, 512)          0         ['conv3_block3_add[0][0]']    \n",
      " on)                                                                                              \n",
      "                                                                                                  \n",
      " conv3_block4_1_conv (Conv2  (None, 32, 32, 128)          65664     ['conv3_block3_out[0][0]']    \n",
      " D)                                                                                               \n",
      "                                                                                                  \n",
      " conv3_block4_1_bn (BatchNo  (None, 32, 32, 128)          512       ['conv3_block4_1_conv[0][0]'] \n",
      " rmalization)                                                                                     \n",
      "                                                                                                  \n",
      " conv3_block4_1_relu (Activ  (None, 32, 32, 128)          0         ['conv3_block4_1_bn[0][0]']   \n",
      " ation)                                                                                           \n",
      "                                                                                                  \n",
      " conv3_block4_2_conv (Conv2  (None, 32, 32, 128)          147584    ['conv3_block4_1_relu[0][0]'] \n",
      " D)                                                                                               \n",
      "                                                                                                  \n",
      " conv3_block4_2_bn (BatchNo  (None, 32, 32, 128)          512       ['conv3_block4_2_conv[0][0]'] \n",
      " rmalization)                                                                                     \n",
      "                                                                                                  \n",
      " conv3_block4_2_relu (Activ  (None, 32, 32, 128)          0         ['conv3_block4_2_bn[0][0]']   \n",
      " ation)                                                                                           \n",
      "                                                                                                  \n",
      " conv3_block4_3_conv (Conv2  (None, 32, 32, 512)          66048     ['conv3_block4_2_relu[0][0]'] \n",
      " D)                                                                                               \n",
      "                                                                                                  \n",
      " conv3_block4_3_bn (BatchNo  (None, 32, 32, 512)          2048      ['conv3_block4_3_conv[0][0]'] \n",
      " rmalization)                                                                                     \n",
      "                                                                                                  \n",
      " conv3_block4_add (Add)      (None, 32, 32, 512)          0         ['conv3_block3_out[0][0]',    \n",
      "                                                                     'conv3_block4_3_bn[0][0]']   \n",
      "                                                                                                  \n",
      " conv3_block4_out (Activati  (None, 32, 32, 512)          0         ['conv3_block4_add[0][0]']    \n",
      " on)                                                                                              \n",
      "                                                                                                  \n",
      " conv4_block1_1_conv (Conv2  (None, 16, 16, 256)          131328    ['conv3_block4_out[0][0]']    \n",
      " D)                                                                                               \n",
      "                                                                                                  \n",
      " conv4_block1_1_bn (BatchNo  (None, 16, 16, 256)          1024      ['conv4_block1_1_conv[0][0]'] \n",
      " rmalization)                                                                                     \n",
      "                                                                                                  \n",
      " conv4_block1_1_relu (Activ  (None, 16, 16, 256)          0         ['conv4_block1_1_bn[0][0]']   \n",
      " ation)                                                                                           \n",
      "                                                                                                  \n",
      " conv4_block1_2_conv (Conv2  (None, 16, 16, 256)          590080    ['conv4_block1_1_relu[0][0]'] \n",
      " D)                                                                                               \n",
      "                                                                                                  \n",
      " conv4_block1_2_bn (BatchNo  (None, 16, 16, 256)          1024      ['conv4_block1_2_conv[0][0]'] \n",
      " rmalization)                                                                                     \n",
      "                                                                                                  \n",
      " conv4_block1_2_relu (Activ  (None, 16, 16, 256)          0         ['conv4_block1_2_bn[0][0]']   \n",
      " ation)                                                                                           \n",
      "                                                                                                  \n",
      " conv4_block1_0_conv (Conv2  (None, 16, 16, 1024)         525312    ['conv3_block4_out[0][0]']    \n",
      " D)                                                                                               \n",
      "                                                                                                  \n",
      " conv4_block1_3_conv (Conv2  (None, 16, 16, 1024)         263168    ['conv4_block1_2_relu[0][0]'] \n",
      " D)                                                                                               \n",
      "                                                                                                  \n",
      " conv4_block1_0_bn (BatchNo  (None, 16, 16, 1024)         4096      ['conv4_block1_0_conv[0][0]'] \n",
      " rmalization)                                                                                     \n",
      "                                                                                                  \n",
      " conv4_block1_3_bn (BatchNo  (None, 16, 16, 1024)         4096      ['conv4_block1_3_conv[0][0]'] \n",
      " rmalization)                                                                                     \n",
      "                                                                                                  \n",
      " conv4_block1_add (Add)      (None, 16, 16, 1024)         0         ['conv4_block1_0_bn[0][0]',   \n",
      "                                                                     'conv4_block1_3_bn[0][0]']   \n",
      "                                                                                                  \n",
      " conv4_block1_out (Activati  (None, 16, 16, 1024)         0         ['conv4_block1_add[0][0]']    \n",
      " on)                                                                                              \n",
      "                                                                                                  \n",
      " conv4_block2_1_conv (Conv2  (None, 16, 16, 256)          262400    ['conv4_block1_out[0][0]']    \n",
      " D)                                                                                               \n",
      "                                                                                                  \n",
      " conv4_block2_1_bn (BatchNo  (None, 16, 16, 256)          1024      ['conv4_block2_1_conv[0][0]'] \n",
      " rmalization)                                                                                     \n",
      "                                                                                                  \n",
      " conv4_block2_1_relu (Activ  (None, 16, 16, 256)          0         ['conv4_block2_1_bn[0][0]']   \n",
      " ation)                                                                                           \n",
      "                                                                                                  \n",
      " conv4_block2_2_conv (Conv2  (None, 16, 16, 256)          590080    ['conv4_block2_1_relu[0][0]'] \n",
      " D)                                                                                               \n",
      "                                                                                                  \n",
      " conv4_block2_2_bn (BatchNo  (None, 16, 16, 256)          1024      ['conv4_block2_2_conv[0][0]'] \n",
      " rmalization)                                                                                     \n",
      "                                                                                                  \n",
      " conv4_block2_2_relu (Activ  (None, 16, 16, 256)          0         ['conv4_block2_2_bn[0][0]']   \n",
      " ation)                                                                                           \n",
      "                                                                                                  \n",
      " conv4_block2_3_conv (Conv2  (None, 16, 16, 1024)         263168    ['conv4_block2_2_relu[0][0]'] \n",
      " D)                                                                                               \n",
      "                                                                                                  \n",
      " conv4_block2_3_bn (BatchNo  (None, 16, 16, 1024)         4096      ['conv4_block2_3_conv[0][0]'] \n",
      " rmalization)                                                                                     \n",
      "                                                                                                  \n",
      " conv4_block2_add (Add)      (None, 16, 16, 1024)         0         ['conv4_block1_out[0][0]',    \n",
      "                                                                     'conv4_block2_3_bn[0][0]']   \n",
      "                                                                                                  \n",
      " conv4_block2_out (Activati  (None, 16, 16, 1024)         0         ['conv4_block2_add[0][0]']    \n",
      " on)                                                                                              \n",
      "                                                                                                  \n",
      " conv4_block3_1_conv (Conv2  (None, 16, 16, 256)          262400    ['conv4_block2_out[0][0]']    \n",
      " D)                                                                                               \n",
      "                                                                                                  \n",
      " conv4_block3_1_bn (BatchNo  (None, 16, 16, 256)          1024      ['conv4_block3_1_conv[0][0]'] \n",
      " rmalization)                                                                                     \n",
      "                                                                                                  \n",
      " conv4_block3_1_relu (Activ  (None, 16, 16, 256)          0         ['conv4_block3_1_bn[0][0]']   \n",
      " ation)                                                                                           \n",
      "                                                                                                  \n",
      " conv4_block3_2_conv (Conv2  (None, 16, 16, 256)          590080    ['conv4_block3_1_relu[0][0]'] \n",
      " D)                                                                                               \n",
      "                                                                                                  \n",
      " conv4_block3_2_bn (BatchNo  (None, 16, 16, 256)          1024      ['conv4_block3_2_conv[0][0]'] \n",
      " rmalization)                                                                                     \n",
      "                                                                                                  \n",
      " conv4_block3_2_relu (Activ  (None, 16, 16, 256)          0         ['conv4_block3_2_bn[0][0]']   \n",
      " ation)                                                                                           \n",
      "                                                                                                  \n",
      " conv4_block3_3_conv (Conv2  (None, 16, 16, 1024)         263168    ['conv4_block3_2_relu[0][0]'] \n",
      " D)                                                                                               \n",
      "                                                                                                  \n",
      " conv4_block3_3_bn (BatchNo  (None, 16, 16, 1024)         4096      ['conv4_block3_3_conv[0][0]'] \n",
      " rmalization)                                                                                     \n",
      "                                                                                                  \n",
      " conv4_block3_add (Add)      (None, 16, 16, 1024)         0         ['conv4_block2_out[0][0]',    \n",
      "                                                                     'conv4_block3_3_bn[0][0]']   \n",
      "                                                                                                  \n",
      " conv4_block3_out (Activati  (None, 16, 16, 1024)         0         ['conv4_block3_add[0][0]']    \n",
      " on)                                                                                              \n",
      "                                                                                                  \n",
      " conv4_block4_1_conv (Conv2  (None, 16, 16, 256)          262400    ['conv4_block3_out[0][0]']    \n",
      " D)                                                                                               \n",
      "                                                                                                  \n",
      " conv4_block4_1_bn (BatchNo  (None, 16, 16, 256)          1024      ['conv4_block4_1_conv[0][0]'] \n",
      " rmalization)                                                                                     \n",
      "                                                                                                  \n",
      " conv4_block4_1_relu (Activ  (None, 16, 16, 256)          0         ['conv4_block4_1_bn[0][0]']   \n",
      " ation)                                                                                           \n",
      "                                                                                                  \n",
      " conv4_block4_2_conv (Conv2  (None, 16, 16, 256)          590080    ['conv4_block4_1_relu[0][0]'] \n",
      " D)                                                                                               \n",
      "                                                                                                  \n",
      " conv4_block4_2_bn (BatchNo  (None, 16, 16, 256)          1024      ['conv4_block4_2_conv[0][0]'] \n",
      " rmalization)                                                                                     \n",
      "                                                                                                  \n",
      " conv4_block4_2_relu (Activ  (None, 16, 16, 256)          0         ['conv4_block4_2_bn[0][0]']   \n",
      " ation)                                                                                           \n",
      "                                                                                                  \n",
      " conv4_block4_3_conv (Conv2  (None, 16, 16, 1024)         263168    ['conv4_block4_2_relu[0][0]'] \n",
      " D)                                                                                               \n",
      "                                                                                                  \n",
      " conv4_block4_3_bn (BatchNo  (None, 16, 16, 1024)         4096      ['conv4_block4_3_conv[0][0]'] \n",
      " rmalization)                                                                                     \n",
      "                                                                                                  \n",
      " conv4_block4_add (Add)      (None, 16, 16, 1024)         0         ['conv4_block3_out[0][0]',    \n",
      "                                                                     'conv4_block4_3_bn[0][0]']   \n",
      "                                                                                                  \n",
      " conv4_block4_out (Activati  (None, 16, 16, 1024)         0         ['conv4_block4_add[0][0]']    \n",
      " on)                                                                                              \n",
      "                                                                                                  \n",
      " conv4_block5_1_conv (Conv2  (None, 16, 16, 256)          262400    ['conv4_block4_out[0][0]']    \n",
      " D)                                                                                               \n",
      "                                                                                                  \n",
      " conv4_block5_1_bn (BatchNo  (None, 16, 16, 256)          1024      ['conv4_block5_1_conv[0][0]'] \n",
      " rmalization)                                                                                     \n",
      "                                                                                                  \n",
      " conv4_block5_1_relu (Activ  (None, 16, 16, 256)          0         ['conv4_block5_1_bn[0][0]']   \n",
      " ation)                                                                                           \n",
      "                                                                                                  \n",
      " conv4_block5_2_conv (Conv2  (None, 16, 16, 256)          590080    ['conv4_block5_1_relu[0][0]'] \n",
      " D)                                                                                               \n",
      "                                                                                                  \n",
      " conv4_block5_2_bn (BatchNo  (None, 16, 16, 256)          1024      ['conv4_block5_2_conv[0][0]'] \n",
      " rmalization)                                                                                     \n",
      "                                                                                                  \n",
      " conv4_block5_2_relu (Activ  (None, 16, 16, 256)          0         ['conv4_block5_2_bn[0][0]']   \n",
      " ation)                                                                                           \n",
      "                                                                                                  \n",
      " conv4_block5_3_conv (Conv2  (None, 16, 16, 1024)         263168    ['conv4_block5_2_relu[0][0]'] \n",
      " D)                                                                                               \n",
      "                                                                                                  \n",
      " conv4_block5_3_bn (BatchNo  (None, 16, 16, 1024)         4096      ['conv4_block5_3_conv[0][0]'] \n",
      " rmalization)                                                                                     \n",
      "                                                                                                  \n",
      " conv4_block5_add (Add)      (None, 16, 16, 1024)         0         ['conv4_block4_out[0][0]',    \n",
      "                                                                     'conv4_block5_3_bn[0][0]']   \n",
      "                                                                                                  \n",
      " conv4_block5_out (Activati  (None, 16, 16, 1024)         0         ['conv4_block5_add[0][0]']    \n",
      " on)                                                                                              \n",
      "                                                                                                  \n",
      " conv4_block6_1_conv (Conv2  (None, 16, 16, 256)          262400    ['conv4_block5_out[0][0]']    \n",
      " D)                                                                                               \n",
      "                                                                                                  \n",
      " conv4_block6_1_bn (BatchNo  (None, 16, 16, 256)          1024      ['conv4_block6_1_conv[0][0]'] \n",
      " rmalization)                                                                                     \n",
      "                                                                                                  \n",
      " conv4_block6_1_relu (Activ  (None, 16, 16, 256)          0         ['conv4_block6_1_bn[0][0]']   \n",
      " ation)                                                                                           \n",
      "                                                                                                  \n",
      " conv4_block6_2_conv (Conv2  (None, 16, 16, 256)          590080    ['conv4_block6_1_relu[0][0]'] \n",
      " D)                                                                                               \n",
      "                                                                                                  \n",
      " conv4_block6_2_bn (BatchNo  (None, 16, 16, 256)          1024      ['conv4_block6_2_conv[0][0]'] \n",
      " rmalization)                                                                                     \n",
      "                                                                                                  \n",
      " conv4_block6_2_relu (Activ  (None, 16, 16, 256)          0         ['conv4_block6_2_bn[0][0]']   \n",
      " ation)                                                                                           \n",
      "                                                                                                  \n",
      " conv4_block6_3_conv (Conv2  (None, 16, 16, 1024)         263168    ['conv4_block6_2_relu[0][0]'] \n",
      " D)                                                                                               \n",
      "                                                                                                  \n",
      " conv4_block6_3_bn (BatchNo  (None, 16, 16, 1024)         4096      ['conv4_block6_3_conv[0][0]'] \n",
      " rmalization)                                                                                     \n",
      "                                                                                                  \n",
      " conv4_block6_add (Add)      (None, 16, 16, 1024)         0         ['conv4_block5_out[0][0]',    \n",
      "                                                                     'conv4_block6_3_bn[0][0]']   \n",
      "                                                                                                  \n",
      " conv4_block6_out (Activati  (None, 16, 16, 1024)         0         ['conv4_block6_add[0][0]']    \n",
      " on)                                                                                              \n",
      "                                                                                                  \n",
      " conv5_block1_1_conv (Conv2  (None, 8, 8, 512)            524800    ['conv4_block6_out[0][0]']    \n",
      " D)                                                                                               \n",
      "                                                                                                  \n",
      " conv5_block1_1_bn (BatchNo  (None, 8, 8, 512)            2048      ['conv5_block1_1_conv[0][0]'] \n",
      " rmalization)                                                                                     \n",
      "                                                                                                  \n",
      " conv5_block1_1_relu (Activ  (None, 8, 8, 512)            0         ['conv5_block1_1_bn[0][0]']   \n",
      " ation)                                                                                           \n",
      "                                                                                                  \n",
      " conv5_block1_2_conv (Conv2  (None, 8, 8, 512)            2359808   ['conv5_block1_1_relu[0][0]'] \n",
      " D)                                                                                               \n",
      "                                                                                                  \n",
      " conv5_block1_2_bn (BatchNo  (None, 8, 8, 512)            2048      ['conv5_block1_2_conv[0][0]'] \n",
      " rmalization)                                                                                     \n",
      "                                                                                                  \n",
      " conv5_block1_2_relu (Activ  (None, 8, 8, 512)            0         ['conv5_block1_2_bn[0][0]']   \n",
      " ation)                                                                                           \n",
      "                                                                                                  \n",
      " conv5_block1_0_conv (Conv2  (None, 8, 8, 2048)           2099200   ['conv4_block6_out[0][0]']    \n",
      " D)                                                                                               \n",
      "                                                                                                  \n",
      " conv5_block1_3_conv (Conv2  (None, 8, 8, 2048)           1050624   ['conv5_block1_2_relu[0][0]'] \n",
      " D)                                                                                               \n",
      "                                                                                                  \n",
      " conv5_block1_0_bn (BatchNo  (None, 8, 8, 2048)           8192      ['conv5_block1_0_conv[0][0]'] \n",
      " rmalization)                                                                                     \n",
      "                                                                                                  \n",
      " conv5_block1_3_bn (BatchNo  (None, 8, 8, 2048)           8192      ['conv5_block1_3_conv[0][0]'] \n",
      " rmalization)                                                                                     \n",
      "                                                                                                  \n",
      " conv5_block1_add (Add)      (None, 8, 8, 2048)           0         ['conv5_block1_0_bn[0][0]',   \n",
      "                                                                     'conv5_block1_3_bn[0][0]']   \n",
      "                                                                                                  \n",
      " conv5_block1_out (Activati  (None, 8, 8, 2048)           0         ['conv5_block1_add[0][0]']    \n",
      " on)                                                                                              \n",
      "                                                                                                  \n",
      " conv5_block2_1_conv (Conv2  (None, 8, 8, 512)            1049088   ['conv5_block1_out[0][0]']    \n",
      " D)                                                                                               \n",
      "                                                                                                  \n",
      " conv5_block2_1_bn (BatchNo  (None, 8, 8, 512)            2048      ['conv5_block2_1_conv[0][0]'] \n",
      " rmalization)                                                                                     \n",
      "                                                                                                  \n",
      " conv5_block2_1_relu (Activ  (None, 8, 8, 512)            0         ['conv5_block2_1_bn[0][0]']   \n",
      " ation)                                                                                           \n",
      "                                                                                                  \n",
      " conv5_block2_2_conv (Conv2  (None, 8, 8, 512)            2359808   ['conv5_block2_1_relu[0][0]'] \n",
      " D)                                                                                               \n",
      "                                                                                                  \n",
      " conv5_block2_2_bn (BatchNo  (None, 8, 8, 512)            2048      ['conv5_block2_2_conv[0][0]'] \n",
      " rmalization)                                                                                     \n",
      "                                                                                                  \n",
      " conv5_block2_2_relu (Activ  (None, 8, 8, 512)            0         ['conv5_block2_2_bn[0][0]']   \n",
      " ation)                                                                                           \n",
      "                                                                                                  \n",
      " conv5_block2_3_conv (Conv2  (None, 8, 8, 2048)           1050624   ['conv5_block2_2_relu[0][0]'] \n",
      " D)                                                                                               \n",
      "                                                                                                  \n",
      " conv5_block2_3_bn (BatchNo  (None, 8, 8, 2048)           8192      ['conv5_block2_3_conv[0][0]'] \n",
      " rmalization)                                                                                     \n",
      "                                                                                                  \n",
      " conv5_block2_add (Add)      (None, 8, 8, 2048)           0         ['conv5_block1_out[0][0]',    \n",
      "                                                                     'conv5_block2_3_bn[0][0]']   \n",
      "                                                                                                  \n",
      " conv5_block2_out (Activati  (None, 8, 8, 2048)           0         ['conv5_block2_add[0][0]']    \n",
      " on)                                                                                              \n",
      "                                                                                                  \n",
      " conv5_block3_1_conv (Conv2  (None, 8, 8, 512)            1049088   ['conv5_block2_out[0][0]']    \n",
      " D)                                                                                               \n",
      "                                                                                                  \n",
      " conv5_block3_1_bn (BatchNo  (None, 8, 8, 512)            2048      ['conv5_block3_1_conv[0][0]'] \n",
      " rmalization)                                                                                     \n",
      "                                                                                                  \n",
      " conv5_block3_1_relu (Activ  (None, 8, 8, 512)            0         ['conv5_block3_1_bn[0][0]']   \n",
      " ation)                                                                                           \n",
      "                                                                                                  \n",
      " conv5_block3_2_conv (Conv2  (None, 8, 8, 512)            2359808   ['conv5_block3_1_relu[0][0]'] \n",
      " D)                                                                                               \n",
      "                                                                                                  \n",
      " conv5_block3_2_bn (BatchNo  (None, 8, 8, 512)            2048      ['conv5_block3_2_conv[0][0]'] \n",
      " rmalization)                                                                                     \n",
      "                                                                                                  \n",
      " conv5_block3_2_relu (Activ  (None, 8, 8, 512)            0         ['conv5_block3_2_bn[0][0]']   \n",
      " ation)                                                                                           \n",
      "                                                                                                  \n",
      " conv5_block3_3_conv (Conv2  (None, 8, 8, 2048)           1050624   ['conv5_block3_2_relu[0][0]'] \n",
      " D)                                                                                               \n",
      "                                                                                                  \n",
      " conv5_block3_3_bn (BatchNo  (None, 8, 8, 2048)           8192      ['conv5_block3_3_conv[0][0]'] \n",
      " rmalization)                                                                                     \n",
      "                                                                                                  \n",
      " conv5_block3_add (Add)      (None, 8, 8, 2048)           0         ['conv5_block2_out[0][0]',    \n",
      "                                                                     'conv5_block3_3_bn[0][0]']   \n",
      "                                                                                                  \n",
      " conv5_block3_out (Activati  (None, 8, 8, 2048)           0         ['conv5_block3_add[0][0]']    \n",
      " on)                                                                                              \n",
      "                                                                                                  \n",
      "==================================================================================================\n",
      "Total params: 23587712 (89.98 MB)\n",
      "Trainable params: 23534592 (89.78 MB)\n",
      "Non-trainable params: 53120 (207.50 KB)\n",
      "__________________________________________________________________________________________________\n"
     ]
    }
   ],
   "source": [
    "convolutional_base.summary()"
   ]
  },
  {
   "cell_type": "code",
   "execution_count": 39,
   "id": "6d9c1c6d",
   "metadata": {
    "execution": {
     "iopub.execute_input": "2023-11-25T07:00:37.853896Z",
     "iopub.status.busy": "2023-11-25T07:00:37.853163Z",
     "iopub.status.idle": "2023-11-25T07:00:37.893688Z",
     "shell.execute_reply": "2023-11-25T07:00:37.892746Z"
    },
    "papermill": {
     "duration": 0.108807,
     "end_time": "2023-11-25T07:00:37.895658",
     "exception": false,
     "start_time": "2023-11-25T07:00:37.786851",
     "status": "completed"
    },
    "tags": []
   },
   "outputs": [],
   "source": [
    "num_of_classes = 10\n",
    "\n",
    "model = models.Sequential() \n",
    "model.add(layers.UpSampling2D((2,2))) # 32 * 2 = 64\n",
    "model.add(layers.UpSampling2D((2,2))) # 64 * 2 = 128\n",
    "model.add(layers.UpSampling2D((2,2))) # 128 * 2 = 256\n",
    "\n",
    "model.add(convolutional_base)\n",
    "\n",
    "model.add(layers.Flatten())  # transforms the input into a one-dimensional array (flattens it) without modifying the actual data. \n",
    "\n",
    "model.add(layers.BatchNormalization()) #normalization\n",
    "model.add(layers.Dense(128, activation='relu'))\n",
    "\n",
    "model.add(layers.Dropout(0.5)) #droping or making somen neuron inactive to avoid overfitting\n",
    "\n",
    "model.add(layers.BatchNormalization())\n",
    "model.add(layers.Dense(num_of_classes, activation='softmax'))\n"
   ]
  },
  {
   "cell_type": "markdown",
   "id": "ea4e02dc",
   "metadata": {
    "papermill": {
     "duration": 0.064547,
     "end_time": "2023-11-25T07:00:38.027841",
     "exception": false,
     "start_time": "2023-11-25T07:00:37.963294",
     "status": "completed"
    },
    "tags": []
   },
   "source": [
    "# Metrics and model compilation"
   ]
  },
  {
   "cell_type": "code",
   "execution_count": 40,
   "id": "88b7b224",
   "metadata": {
    "execution": {
     "iopub.execute_input": "2023-11-25T07:00:38.159813Z",
     "iopub.status.busy": "2023-11-25T07:00:38.158945Z",
     "iopub.status.idle": "2023-11-25T07:00:38.181172Z",
     "shell.execute_reply": "2023-11-25T07:00:38.180148Z"
    },
    "papermill": {
     "duration": 0.090473,
     "end_time": "2023-11-25T07:00:38.183100",
     "exception": false,
     "start_time": "2023-11-25T07:00:38.092627",
     "status": "completed"
    },
    "tags": []
   },
   "outputs": [],
   "source": [
    "model.compile(optimizer=optimizers.RMSprop(lr=2e-5), loss='sparse_categorical_crossentropy', metrics=['accuracy'])"
   ]
  },
  {
   "cell_type": "markdown",
   "id": "dd2f5acc",
   "metadata": {
    "papermill": {
     "duration": 0.064995,
     "end_time": "2023-11-25T07:00:38.312779",
     "exception": false,
     "start_time": "2023-11-25T07:00:38.247784",
     "status": "completed"
    },
    "tags": []
   },
   "source": [
    "# Model train"
   ]
  },
  {
   "cell_type": "code",
   "execution_count": 41,
   "id": "129c2d77",
   "metadata": {
    "execution": {
     "iopub.execute_input": "2023-11-25T07:00:38.445469Z",
     "iopub.status.busy": "2023-11-25T07:00:38.444525Z",
     "iopub.status.idle": "2023-11-25T07:36:34.857869Z",
     "shell.execute_reply": "2023-11-25T07:36:34.856676Z"
    },
    "papermill": {
     "duration": 2156.482094,
     "end_time": "2023-11-25T07:36:34.860146",
     "exception": false,
     "start_time": "2023-11-25T07:00:38.378052",
     "status": "completed"
    },
    "tags": []
   },
   "outputs": [
    {
     "name": "stdout",
     "output_type": "stream",
     "text": [
      "Epoch 1/10\n",
      "360/360 [==============================] - 252s 591ms/step - loss: 0.9336 - accuracy: 0.6948 - val_loss: 2.8099 - val_accuracy: 0.0980\n",
      "Epoch 2/10\n",
      "360/360 [==============================] - 211s 587ms/step - loss: 0.4589 - accuracy: 0.8506 - val_loss: 2.1221 - val_accuracy: 0.2715\n",
      "Epoch 3/10\n",
      "360/360 [==============================] - 211s 587ms/step - loss: 0.2972 - accuracy: 0.9034 - val_loss: 0.5918 - val_accuracy: 0.7980\n",
      "Epoch 4/10\n",
      "360/360 [==============================] - 211s 587ms/step - loss: 0.1968 - accuracy: 0.9364 - val_loss: 0.5138 - val_accuracy: 0.8438\n",
      "Epoch 5/10\n",
      "360/360 [==============================] - 211s 587ms/step - loss: 0.1360 - accuracy: 0.9547 - val_loss: 0.6454 - val_accuracy: 0.8225\n",
      "Epoch 6/10\n",
      "360/360 [==============================] - 211s 587ms/step - loss: 0.1103 - accuracy: 0.9647 - val_loss: 0.5535 - val_accuracy: 0.8425\n",
      "Epoch 7/10\n",
      "360/360 [==============================] - 211s 587ms/step - loss: 0.0834 - accuracy: 0.9730 - val_loss: 0.5606 - val_accuracy: 0.8543\n",
      "Epoch 8/10\n",
      "360/360 [==============================] - 211s 587ms/step - loss: 0.0726 - accuracy: 0.9753 - val_loss: 0.5064 - val_accuracy: 0.8650\n",
      "Epoch 9/10\n",
      "360/360 [==============================] - 211s 587ms/step - loss: 0.0648 - accuracy: 0.9794 - val_loss: 0.4997 - val_accuracy: 0.8590\n",
      "Epoch 10/10\n",
      "360/360 [==============================] - 211s 587ms/step - loss: 0.0586 - accuracy: 0.9810 - val_loss: 0.5215 - val_accuracy: 0.8670\n"
     ]
    }
   ],
   "source": [
    "history = model.fit(x_train_scaled, y_train, validation_split=0.1, epochs= 10, batch_size=100)"
   ]
  },
  {
   "cell_type": "markdown",
   "id": "fa0ed8ac",
   "metadata": {
    "papermill": {
     "duration": 0.352544,
     "end_time": "2023-11-25T07:36:35.567677",
     "exception": false,
     "start_time": "2023-11-25T07:36:35.215133",
     "status": "completed"
    },
    "tags": []
   },
   "source": [
    "# Model Evaluation with different metrics and plot"
   ]
  },
  {
   "cell_type": "code",
   "execution_count": 42,
   "id": "0e6d6066",
   "metadata": {
    "execution": {
     "iopub.execute_input": "2023-11-25T07:36:36.335843Z",
     "iopub.status.busy": "2023-11-25T07:36:36.334938Z",
     "iopub.status.idle": "2023-11-25T07:36:36.339522Z",
     "shell.execute_reply": "2023-11-25T07:36:36.338659Z"
    },
    "papermill": {
     "duration": 0.357247,
     "end_time": "2023-11-25T07:36:36.341617",
     "exception": false,
     "start_time": "2023-11-25T07:36:35.984370",
     "status": "completed"
    },
    "tags": []
   },
   "outputs": [],
   "source": [
    " from sklearn.metrics import f1_score"
   ]
  },
  {
   "cell_type": "code",
   "execution_count": 43,
   "id": "f95408b9",
   "metadata": {
    "execution": {
     "iopub.execute_input": "2023-11-25T07:36:37.065486Z",
     "iopub.status.busy": "2023-11-25T07:36:37.064574Z",
     "iopub.status.idle": "2023-11-25T07:36:59.778570Z",
     "shell.execute_reply": "2023-11-25T07:36:59.777462Z"
    },
    "papermill": {
     "duration": 23.069831,
     "end_time": "2023-11-25T07:36:59.780989",
     "exception": false,
     "start_time": "2023-11-25T07:36:36.711158",
     "status": "completed"
    },
    "tags": []
   },
   "outputs": [
    {
     "name": "stdout",
     "output_type": "stream",
     "text": [
      "313/313 [==============================] - 22s 63ms/step\n"
     ]
    }
   ],
   "source": [
    "y_pred = model.predict(x_test_scaled)\n"
   ]
  },
  {
   "cell_type": "code",
   "execution_count": 44,
   "id": "6faadcb7",
   "metadata": {
    "execution": {
     "iopub.execute_input": "2023-11-25T07:37:00.533210Z",
     "iopub.status.busy": "2023-11-25T07:37:00.532257Z",
     "iopub.status.idle": "2023-11-25T07:37:00.537161Z",
     "shell.execute_reply": "2023-11-25T07:37:00.536245Z"
    },
    "papermill": {
     "duration": 0.384289,
     "end_time": "2023-11-25T07:37:00.539139",
     "exception": false,
     "start_time": "2023-11-25T07:37:00.154850",
     "status": "completed"
    },
    "tags": []
   },
   "outputs": [],
   "source": [
    "y_pred_labels = y_pred.argmax(1)\n",
    "# y_pred_labels = [np.argmax(i) for i in y_pred]"
   ]
  },
  {
   "cell_type": "code",
   "execution_count": 45,
   "id": "dcd772b8",
   "metadata": {
    "execution": {
     "iopub.execute_input": "2023-11-25T07:37:01.299125Z",
     "iopub.status.busy": "2023-11-25T07:37:01.298340Z",
     "iopub.status.idle": "2023-11-25T07:37:01.311855Z",
     "shell.execute_reply": "2023-11-25T07:37:01.310914Z"
    },
    "papermill": {
     "duration": 0.391407,
     "end_time": "2023-11-25T07:37:01.314206",
     "exception": false,
     "start_time": "2023-11-25T07:37:00.922799",
     "status": "completed"
    },
    "tags": []
   },
   "outputs": [
    {
     "data": {
      "text/plain": [
       "0.862979042812217"
      ]
     },
     "execution_count": 45,
     "metadata": {},
     "output_type": "execute_result"
    }
   ],
   "source": [
    "f1_score(y_test, y_pred_labels, average=\"macro\")"
   ]
  },
  {
   "cell_type": "code",
   "execution_count": 46,
   "id": "dae7588f",
   "metadata": {
    "execution": {
     "iopub.execute_input": "2023-11-25T07:37:02.140272Z",
     "iopub.status.busy": "2023-11-25T07:37:02.139389Z",
     "iopub.status.idle": "2023-11-25T07:37:24.053274Z",
     "shell.execute_reply": "2023-11-25T07:37:24.052272Z"
    },
    "papermill": {
     "duration": 22.293807,
     "end_time": "2023-11-25T07:37:24.055428",
     "exception": false,
     "start_time": "2023-11-25T07:37:01.761621",
     "status": "completed"
    },
    "tags": []
   },
   "outputs": [
    {
     "name": "stdout",
     "output_type": "stream",
     "text": [
      "313/313 [==============================] - 21s 65ms/step - loss: 0.5468 - accuracy: 0.8624\n",
      "Test Accuracy = 0.8623999953269958\n"
     ]
    }
   ],
   "source": [
    "loss, accuracy  = model.evaluate(x_test_scaled, y_test)\n",
    "print('Test Accuracy =', accuracy)"
   ]
  },
  {
   "cell_type": "code",
   "execution_count": 47,
   "id": "83cbc80f",
   "metadata": {
    "execution": {
     "iopub.execute_input": "2023-11-25T07:37:24.878958Z",
     "iopub.status.busy": "2023-11-25T07:37:24.878091Z",
     "iopub.status.idle": "2023-11-25T07:37:25.434790Z",
     "shell.execute_reply": "2023-11-25T07:37:25.433694Z"
    },
    "papermill": {
     "duration": 0.962774,
     "end_time": "2023-11-25T07:37:25.436794",
     "exception": false,
     "start_time": "2023-11-25T07:37:24.474020",
     "status": "completed"
    },
    "tags": []
   },
   "outputs": [
    {
     "data": {
      "image/png": "[encoded data removed]",
      "text/plain": [
       "<Figure size 640x480 with 1 Axes>"
      ]
     },
     "metadata": {},
     "output_type": "display_data"
    },
    {
     "data": {
      "image/png": "[encoded data removed]",
      "text/plain": [
       "<Figure size 640x480 with 1 Axes>"
      ]
     },
     "metadata": {},
     "output_type": "display_data"
    }
   ],
   "source": [
    "\n",
    "# Extract the metrics from the history object\n",
    "train_accuracy = history.history['accuracy']\n",
    "val_accuracy = history.history['val_accuracy']\n",
    "train_loss = history.history['loss']\n",
    "val_loss = history.history['val_loss']\n",
    "\n",
    "\n",
    "# Plot accuracy\n",
    "plt.plot(train_accuracy, label='Train Accuracy')\n",
    "plt.plot(val_accuracy, label='Validation Accuracy')\n",
    "plt.legend()\n",
    "plt.xlabel('Epochs')\n",
    "plt.ylabel('Accuracy')\n",
    "plt.title('Training and Validation Accuracy')\n",
    "plt.show()\n",
    "\n",
    "# Plot loss\n",
    "plt.plot(train_loss, label='Train Loss')\n",
    "plt.plot(val_loss, label='Validation Loss')\n",
    "plt.legend()\n",
    "plt.xlabel('Epochs')\n",
    "plt.ylabel('Loss')\n",
    "plt.title('Training and Validation Loss')\n",
    "plt.show()"
   ]
  },
  {
   "cell_type": "markdown",
   "id": "10920fcc",
   "metadata": {
    "papermill": {
     "duration": 0.40348,
     "end_time": "2023-11-25T07:37:26.244491",
     "exception": false,
     "start_time": "2023-11-25T07:37:25.841011",
     "status": "completed"
    },
    "tags": []
   },
   "source": [
    "**Confusion Matrix**"
   ]
  },
  {
   "cell_type": "code",
   "execution_count": 48,
   "id": "34026511",
   "metadata": {
    "execution": {
     "iopub.execute_input": "2023-11-25T07:37:27.135484Z",
     "iopub.status.busy": "2023-11-25T07:37:27.134502Z",
     "iopub.status.idle": "2023-11-25T07:37:27.405257Z",
     "shell.execute_reply": "2023-11-25T07:37:27.404423Z"
    },
    "papermill": {
     "duration": 0.676862,
     "end_time": "2023-11-25T07:37:27.407578",
     "exception": false,
     "start_time": "2023-11-25T07:37:26.730716",
     "status": "completed"
    },
    "tags": []
   },
   "outputs": [],
   "source": [
    "import seaborn as sns\n",
    "from tensorflow.math import confusion_matrix"
   ]
  },
  {
   "cell_type": "code",
   "execution_count": 49,
   "id": "409b96ff",
   "metadata": {
    "execution": {
     "iopub.execute_input": "2023-11-25T07:37:28.215261Z",
     "iopub.status.busy": "2023-11-25T07:37:28.214839Z",
     "iopub.status.idle": "2023-11-25T07:37:28.246586Z",
     "shell.execute_reply": "2023-11-25T07:37:28.245840Z"
    },
    "papermill": {
     "duration": 0.437557,
     "end_time": "2023-11-25T07:37:28.248612",
     "exception": false,
     "start_time": "2023-11-25T07:37:27.811055",
     "status": "completed"
    },
    "tags": []
   },
   "outputs": [],
   "source": [
    "conf_mat = confusion_matrix(y_test, y_pred_labels)"
   ]
  },
  {
   "cell_type": "code",
   "execution_count": 50,
   "id": "37845442",
   "metadata": {
    "execution": {
     "iopub.execute_input": "2023-11-25T07:37:29.064516Z",
     "iopub.status.busy": "2023-11-25T07:37:29.064160Z",
     "iopub.status.idle": "2023-11-25T07:37:29.070167Z",
     "shell.execute_reply": "2023-11-25T07:37:29.069266Z"
    },
    "papermill": {
     "duration": 0.414796,
     "end_time": "2023-11-25T07:37:29.072074",
     "exception": false,
     "start_time": "2023-11-25T07:37:28.657278",
     "status": "completed"
    },
    "tags": []
   },
   "outputs": [
    {
     "name": "stdout",
     "output_type": "stream",
     "text": [
      "tf.Tensor(\n",
      "[[955   4  24   4   4   3   1   5  25   4]\n",
      " [ 15 935   1   1   0   1   1   1  19  22]\n",
      " [ 46   2 869  33  13  33  10  10  14   1]\n",
      " [ 16   4  34 708  20 154  17  14  13   2]\n",
      " [  8   1  41  33 850  34   8  24   9   0]\n",
      " [  6   2  26 102  16 810   7  25   4   0]\n",
      " [ 10   5  34  29  27  31 843   4  10   1]\n",
      " [  9   2  16  30  27  37   0 873   4   0]\n",
      " [ 32   2   3   8   1   4   0   2 931   6]\n",
      " [ 31  49   3  10   3   7   1   7  14 850]], shape=(10, 10), dtype=int32)\n"
     ]
    }
   ],
   "source": [
    "print(conf_mat)"
   ]
  },
  {
   "cell_type": "code",
   "execution_count": 51,
   "id": "0350febd",
   "metadata": {
    "execution": {
     "iopub.execute_input": "2023-11-25T07:37:29.963392Z",
     "iopub.status.busy": "2023-11-25T07:37:29.962484Z",
     "iopub.status.idle": "2023-11-25T07:37:30.597858Z",
     "shell.execute_reply": "2023-11-25T07:37:30.596832Z"
    },
    "papermill": {
     "duration": 1.043347,
     "end_time": "2023-11-25T07:37:30.600278",
     "exception": false,
     "start_time": "2023-11-25T07:37:29.556931",
     "status": "completed"
    },
    "tags": []
   },
   "outputs": [
    {
     "data": {
      "text/plain": [
       "Text(0.5, 47.7222222222222, 'Predicted Labels')"
      ]
     },
     "execution_count": 51,
     "metadata": {},
     "output_type": "execute_result"
    },
    {
     "data": {
      "image/png": "[encoded data removed]",
      "text/plain": [
       "<Figure size 1500x700 with 2 Axes>"
      ]
     },
     "metadata": {},
     "output_type": "display_data"
    }
   ],
   "source": [
    "plt.figure(figsize=(15,7))\n",
    "sns.heatmap(conf_mat, annot=True, fmt='d', cmap='Blues')\n",
    "plt.ylabel('True Labels')\n",
    "plt.xlabel('Predicted Labels')"
   ]
  },
  {
   "cell_type": "markdown",
   "id": "becb2182",
   "metadata": {
    "papermill": {
     "duration": 0.401322,
     "end_time": "2023-11-25T07:37:31.406233",
     "exception": false,
     "start_time": "2023-11-25T07:37:31.004911",
     "status": "completed"
    },
    "tags": []
   },
   "source": [
    "# Saving the model"
   ]
  },
  {
   "cell_type": "code",
   "execution_count": 52,
   "id": "f3b97254",
   "metadata": {
    "execution": {
     "iopub.execute_input": "2023-11-25T07:37:32.218523Z",
     "iopub.status.busy": "2023-11-25T07:37:32.217689Z",
     "iopub.status.idle": "2023-11-25T07:37:33.618532Z",
     "shell.execute_reply": "2023-11-25T07:37:33.617496Z"
    },
    "papermill": {
     "duration": 1.81096,
     "end_time": "2023-11-25T07:37:33.621025",
     "exception": false,
     "start_time": "2023-11-25T07:37:31.810065",
     "status": "completed"
    },
    "tags": []
   },
   "outputs": [
    {
     "name": "stderr",
     "output_type": "stream",
     "text": [
      "/opt/conda/lib/python3.10/site-packages/keras/src/engine/training.py:3000: UserWarning: You are saving your model as an HDF5 file via `model.save()`. This file format is considered legacy. We recommend using instead the native Keras format, e.g. `model.save('my_model.keras')`.\n",
      "  saving_api.save_model(\n"
     ]
    }
   ],
   "source": [
    "\n",
    "model.save('/kaggle/working/CIFAR_resnet_model.h5')\n"
   ]
  },
  {
   "cell_type": "code",
   "execution_count": null,
   "id": "a37b2042",
   "metadata": {
    "papermill": {
     "duration": 0.426354,
     "end_time": "2023-11-25T07:37:34.517461",
     "exception": false,
     "start_time": "2023-11-25T07:37:34.091107",
     "status": "completed"
    },
    "tags": []
   },
   "outputs": [],
   "source": []
  },
  {
   "cell_type": "code",
   "execution_count": null,
   "id": "ebd6d63d",
   "metadata": {
    "papermill": {
     "duration": 0.400066,
     "end_time": "2023-11-25T07:37:35.319616",
     "exception": false,
     "start_time": "2023-11-25T07:37:34.919550",
     "status": "completed"
    },
    "tags": []
   },
   "outputs": [],
   "source": []
  }
 ],
 "metadata": {
  "kaggle": {
   "accelerator": "none",
   "dataSources": [
    {
     "databundleVersionId": 46718,
     "sourceId": 3649,
     "sourceType": "competition"
    },
    {
     "sourceId": 152217357,
     "sourceType": "kernelVersion"
    }
   ],
   "dockerImageVersionId": 30588,
   "isGpuEnabled": false,
   "isInternetEnabled": true,
   "language": "python",
   "sourceType": "notebook"
  },
  "kernelspec": {
   "display_name": "Python 3",
   "language": "python",
   "name": "python3"
  },
  "language_info": {
   "codemirror_mode": {
    "name": "ipython",
    "version": 3
   },
   "file_extension": ".py",
   "mimetype": "text/x-python",
   "name": "python",
   "nbconvert_exporter": "python",
   "pygments_lexer": "ipython3",
   "version": "3.10.12"
  },
  "papermill": {
   "default_parameters": {},
   "duration": 2252.023504,
   "end_time": "2023-11-25T07:37:39.513630",
   "environment_variables": {},
   "exception": null,
   "input_path": "__notebook__.ipynb",
   "output_path": "__notebook__.ipynb",
   "parameters": {},
   "start_time": "2023-11-25T07:00:07.490126",
   "version": "2.4.0"
  }
 },
 "nbformat": 4,
 "nbformat_minor": 5
}
