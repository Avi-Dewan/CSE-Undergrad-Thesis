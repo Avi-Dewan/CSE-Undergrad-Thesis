{
 "cells": [
  {
   "cell_type": "markdown",
   "id": "ae102da6",
   "metadata": {
    "papermill": {
     "duration": 0.016051,
     "end_time": "2023-12-10T19:44:19.182004",
     "exception": false,
     "start_time": "2023-12-10T19:44:19.165953",
     "status": "completed"
    },
    "tags": []
   },
   "source": [
    "# **Importing dependencies**"
   ]
  },
  {
   "cell_type": "code",
   "execution_count": 1,
   "id": "73f02ea8",
   "metadata": {
    "execution": {
     "iopub.execute_input": "2023-12-10T19:44:19.214516Z",
     "iopub.status.busy": "2023-12-10T19:44:19.214108Z",
     "iopub.status.idle": "2023-12-10T19:44:20.762348Z",
     "shell.execute_reply": "2023-12-10T19:44:20.761501Z"
    },
    "papermill": {
     "duration": 1.567101,
     "end_time": "2023-12-10T19:44:20.764762",
     "exception": false,
     "start_time": "2023-12-10T19:44:19.197661",
     "status": "completed"
    },
    "tags": []
   },
   "outputs": [
    {
     "name": "stderr",
     "output_type": "stream",
     "text": [
      "/opt/conda/lib/python3.10/site-packages/scipy/__init__.py:146: UserWarning: A NumPy version >=1.16.5 and <1.23.0 is required for this version of SciPy (detected version 1.24.3\n",
      "  warnings.warn(f\"A NumPy version >={np_minversion} and <{np_maxversion}\"\n"
     ]
    }
   ],
   "source": [
    "import os\n",
    "import cv2\n",
    "import numpy as np\n",
    "import pandas as pd\n",
    "from PIL import Image\n",
    "import matplotlib.pyplot as plt\n",
    "import matplotlib.image as mpimg\n",
    "from sklearn.model_selection import train_test_split"
   ]
  },
  {
   "cell_type": "markdown",
   "id": "e85456a0",
   "metadata": {
    "papermill": {
     "duration": 0.015481,
     "end_time": "2023-12-10T19:44:20.796344",
     "exception": false,
     "start_time": "2023-12-10T19:44:20.780863",
     "status": "completed"
    },
    "tags": []
   },
   "source": [
    "# Image Processing"
   ]
  },
  {
   "cell_type": "markdown",
   "id": "83ecf72a",
   "metadata": {
    "papermill": {
     "duration": 0.015392,
     "end_time": "2023-12-10T19:44:20.827367",
     "exception": false,
     "start_time": "2023-12-10T19:44:20.811975",
     "status": "completed"
    },
    "tags": []
   },
   "source": [
    "**Convert images to numpy arrays**\n",
    "\n",
    "Done in traing in Extracting train notebook\n",
    "\n",
    "Exporting the process image of numpyarray in data from extracting-train notebook"
   ]
  },
  {
   "cell_type": "code",
   "execution_count": 2,
   "id": "547d5f6d",
   "metadata": {
    "execution": {
     "iopub.execute_input": "2023-12-10T19:44:20.860574Z",
     "iopub.status.busy": "2023-12-10T19:44:20.859657Z",
     "iopub.status.idle": "2023-12-10T19:44:21.973435Z",
     "shell.execute_reply": "2023-12-10T19:44:21.972355Z"
    },
    "papermill": {
     "duration": 1.133023,
     "end_time": "2023-12-10T19:44:21.975875",
     "exception": false,
     "start_time": "2023-12-10T19:44:20.842852",
     "status": "completed"
    },
    "tags": []
   },
   "outputs": [],
   "source": [
    "# Load the data\n",
    "loaded_data = np.load('/kaggle/input/extracting-train/training_data.npz')\n",
    "\n",
    "# Access the NumPy array\n",
    "data = loaded_data['data']"
   ]
  },
  {
   "cell_type": "markdown",
   "id": "4aaaecba",
   "metadata": {
    "papermill": {
     "duration": 0.015569,
     "end_time": "2023-12-10T19:44:22.007498",
     "exception": false,
     "start_time": "2023-12-10T19:44:21.991929",
     "status": "completed"
    },
    "tags": []
   },
   "source": [
    "# **Analyzing the train set**"
   ]
  },
  {
   "cell_type": "code",
   "execution_count": 3,
   "id": "6fc8b457",
   "metadata": {
    "execution": {
     "iopub.execute_input": "2023-12-10T19:44:22.040315Z",
     "iopub.status.busy": "2023-12-10T19:44:22.039748Z",
     "iopub.status.idle": "2023-12-10T19:44:22.044745Z",
     "shell.execute_reply": "2023-12-10T19:44:22.043870Z"
    },
    "papermill": {
     "duration": 0.023514,
     "end_time": "2023-12-10T19:44:22.046655",
     "exception": false,
     "start_time": "2023-12-10T19:44:22.023141",
     "status": "completed"
    },
    "tags": []
   },
   "outputs": [
    {
     "name": "stdout",
     "output_type": "stream",
     "text": [
      "Number of images:  50000\n"
     ]
    }
   ],
   "source": [
    "image_count = data.shape[0]\n",
    "print('Number of images: ', image_count)"
   ]
  },
  {
   "cell_type": "markdown",
   "id": "eeb4e091",
   "metadata": {
    "papermill": {
     "duration": 0.015568,
     "end_time": "2023-12-10T19:44:22.077818",
     "exception": false,
     "start_time": "2023-12-10T19:44:22.062250",
     "status": "completed"
    },
    "tags": []
   },
   "source": [
    "**Displaying the images**"
   ]
  },
  {
   "cell_type": "code",
   "execution_count": 4,
   "id": "87370722",
   "metadata": {
    "execution": {
     "iopub.execute_input": "2023-12-10T19:44:22.110411Z",
     "iopub.status.busy": "2023-12-10T19:44:22.110101Z",
     "iopub.status.idle": "2023-12-10T19:44:22.314698Z",
     "shell.execute_reply": "2023-12-10T19:44:22.313815Z"
    },
    "papermill": {
     "duration": 0.223298,
     "end_time": "2023-12-10T19:44:22.316703",
     "exception": false,
     "start_time": "2023-12-10T19:44:22.093405",
     "status": "completed"
    },
    "tags": []
   },
   "outputs": [
    {
     "data": {
      "text/plain": [
       "<matplotlib.image.AxesImage at 0x7b02b9ad02e0>"
      ]
     },
     "execution_count": 4,
     "metadata": {},
     "output_type": "execute_result"
    },
    {
     "data": {
      "image/png": "[encoded data removed]",
      "text/plain": [
       "<Figure size 200x100 with 1 Axes>"
      ]
     },
     "metadata": {},
     "output_type": "display_data"
    }
   ],
   "source": [
    "#display an image\n",
    "img = data[9998]\n",
    "plt.figure(figsize=(2,1))\n",
    "plt.imshow(img)"
   ]
  },
  {
   "cell_type": "code",
   "execution_count": 5,
   "id": "34be05f6",
   "metadata": {
    "execution": {
     "iopub.execute_input": "2023-12-10T19:44:22.351220Z",
     "iopub.status.busy": "2023-12-10T19:44:22.350547Z",
     "iopub.status.idle": "2023-12-10T19:44:22.587691Z",
     "shell.execute_reply": "2023-12-10T19:44:22.586865Z"
    },
    "papermill": {
     "duration": 0.256672,
     "end_time": "2023-12-10T19:44:22.589788",
     "exception": false,
     "start_time": "2023-12-10T19:44:22.333116",
     "status": "completed"
    },
    "tags": []
   },
   "outputs": [
    {
     "data": {
      "text/plain": [
       "<matplotlib.image.AxesImage at 0x7b02b03b5b40>"
      ]
     },
     "execution_count": 5,
     "metadata": {},
     "output_type": "execute_result"
    },
    {
     "data": {
      "image/png": "[encoded data removed]",
      "text/plain": [
       "<Figure size 200x100 with 1 Axes>"
      ]
     },
     "metadata": {},
     "output_type": "display_data"
    }
   ],
   "source": [
    "#display an image\n",
    "img = data[10012]\n",
    "plt.figure(figsize=(2,1))\n",
    "plt.imshow(img)"
   ]
  },
  {
   "cell_type": "markdown",
   "id": "afa26446",
   "metadata": {
    "papermill": {
     "duration": 0.016227,
     "end_time": "2023-12-10T19:44:22.623951",
     "exception": false,
     "start_time": "2023-12-10T19:44:22.607724",
     "status": "completed"
    },
    "tags": []
   },
   "source": [
    "# **Labels Processing**"
   ]
  },
  {
   "cell_type": "code",
   "execution_count": 6,
   "id": "fb235914",
   "metadata": {
    "execution": {
     "iopub.execute_input": "2023-12-10T19:44:22.700448Z",
     "iopub.status.busy": "2023-12-10T19:44:22.699782Z",
     "iopub.status.idle": "2023-12-10T19:44:22.737210Z",
     "shell.execute_reply": "2023-12-10T19:44:22.736471Z"
    },
    "papermill": {
     "duration": 0.057114,
     "end_time": "2023-12-10T19:44:22.739187",
     "exception": false,
     "start_time": "2023-12-10T19:44:22.682073",
     "status": "completed"
    },
    "tags": []
   },
   "outputs": [],
   "source": [
    "labels_df = pd.read_csv('/kaggle/input/cifar-10/trainLabels.csv')"
   ]
  },
  {
   "cell_type": "code",
   "execution_count": 7,
   "id": "4488d4b5",
   "metadata": {
    "execution": {
     "iopub.execute_input": "2023-12-10T19:44:22.773979Z",
     "iopub.status.busy": "2023-12-10T19:44:22.773464Z",
     "iopub.status.idle": "2023-12-10T19:44:22.778975Z",
     "shell.execute_reply": "2023-12-10T19:44:22.778144Z"
    },
    "papermill": {
     "duration": 0.024922,
     "end_time": "2023-12-10T19:44:22.780898",
     "exception": false,
     "start_time": "2023-12-10T19:44:22.755976",
     "status": "completed"
    },
    "tags": []
   },
   "outputs": [
    {
     "data": {
      "text/plain": [
       "(50000, 2)"
      ]
     },
     "execution_count": 7,
     "metadata": {},
     "output_type": "execute_result"
    }
   ],
   "source": [
    "labels_df.shape"
   ]
  },
  {
   "cell_type": "code",
   "execution_count": 8,
   "id": "98b843e1",
   "metadata": {
    "execution": {
     "iopub.execute_input": "2023-12-10T19:44:22.815769Z",
     "iopub.status.busy": "2023-12-10T19:44:22.815256Z",
     "iopub.status.idle": "2023-12-10T19:44:22.830108Z",
     "shell.execute_reply": "2023-12-10T19:44:22.829219Z"
    },
    "papermill": {
     "duration": 0.034602,
     "end_time": "2023-12-10T19:44:22.832081",
     "exception": false,
     "start_time": "2023-12-10T19:44:22.797479",
     "status": "completed"
    },
    "tags": []
   },
   "outputs": [
    {
     "data": {
      "text/html": [
       "<div>\n",
       "<style scoped>\n",
       "    .dataframe tbody tr th:only-of-type {\n",
       "        vertical-align: middle;\n",
       "    }\n",
       "\n",
       "    .dataframe tbody tr th {\n",
       "        vertical-align: top;\n",
       "    }\n",
       "\n",
       "    .dataframe thead th {\n",
       "        text-align: right;\n",
       "    }\n",
       "</style>\n",
       "<table border=\"1\" class=\"dataframe\">\n",
       "  <thead>\n",
       "    <tr style=\"text-align: right;\">\n",
       "      <th></th>\n",
       "      <th>id</th>\n",
       "      <th>label</th>\n",
       "    </tr>\n",
       "  </thead>\n",
       "  <tbody>\n",
       "    <tr>\n",
       "      <th>0</th>\n",
       "      <td>1</td>\n",
       "      <td>frog</td>\n",
       "    </tr>\n",
       "    <tr>\n",
       "      <th>1</th>\n",
       "      <td>2</td>\n",
       "      <td>truck</td>\n",
       "    </tr>\n",
       "    <tr>\n",
       "      <th>2</th>\n",
       "      <td>3</td>\n",
       "      <td>truck</td>\n",
       "    </tr>\n",
       "    <tr>\n",
       "      <th>3</th>\n",
       "      <td>4</td>\n",
       "      <td>deer</td>\n",
       "    </tr>\n",
       "    <tr>\n",
       "      <th>4</th>\n",
       "      <td>5</td>\n",
       "      <td>automobile</td>\n",
       "    </tr>\n",
       "  </tbody>\n",
       "</table>\n",
       "</div>"
      ],
      "text/plain": [
       "   id       label\n",
       "0   1        frog\n",
       "1   2       truck\n",
       "2   3       truck\n",
       "3   4        deer\n",
       "4   5  automobile"
      ]
     },
     "execution_count": 8,
     "metadata": {},
     "output_type": "execute_result"
    }
   ],
   "source": [
    "labels_df.head()"
   ]
  },
  {
   "cell_type": "code",
   "execution_count": 9,
   "id": "02176430",
   "metadata": {
    "execution": {
     "iopub.execute_input": "2023-12-10T19:44:22.867508Z",
     "iopub.status.busy": "2023-12-10T19:44:22.866780Z",
     "iopub.status.idle": "2023-12-10T19:44:22.878174Z",
     "shell.execute_reply": "2023-12-10T19:44:22.877353Z"
    },
    "papermill": {
     "duration": 0.031054,
     "end_time": "2023-12-10T19:44:22.880125",
     "exception": false,
     "start_time": "2023-12-10T19:44:22.849071",
     "status": "completed"
    },
    "tags": []
   },
   "outputs": [
    {
     "data": {
      "text/html": [
       "<div>\n",
       "<style scoped>\n",
       "    .dataframe tbody tr th:only-of-type {\n",
       "        vertical-align: middle;\n",
       "    }\n",
       "\n",
       "    .dataframe tbody tr th {\n",
       "        vertical-align: top;\n",
       "    }\n",
       "\n",
       "    .dataframe thead th {\n",
       "        text-align: right;\n",
       "    }\n",
       "</style>\n",
       "<table border=\"1\" class=\"dataframe\">\n",
       "  <thead>\n",
       "    <tr style=\"text-align: right;\">\n",
       "      <th></th>\n",
       "      <th>id</th>\n",
       "      <th>label</th>\n",
       "    </tr>\n",
       "  </thead>\n",
       "  <tbody>\n",
       "    <tr>\n",
       "      <th>7795</th>\n",
       "      <td>7796</td>\n",
       "      <td>frog</td>\n",
       "    </tr>\n",
       "  </tbody>\n",
       "</table>\n",
       "</div>"
      ],
      "text/plain": [
       "        id label\n",
       "7795  7796  frog"
      ]
     },
     "execution_count": 9,
     "metadata": {},
     "output_type": "execute_result"
    }
   ],
   "source": [
    "labels_df[labels_df['id'] == 7796]"
   ]
  },
  {
   "cell_type": "code",
   "execution_count": 10,
   "id": "06cb3a31",
   "metadata": {
    "execution": {
     "iopub.execute_input": "2023-12-10T19:44:22.915379Z",
     "iopub.status.busy": "2023-12-10T19:44:22.915111Z",
     "iopub.status.idle": "2023-12-10T19:44:22.923206Z",
     "shell.execute_reply": "2023-12-10T19:44:22.922481Z"
    },
    "papermill": {
     "duration": 0.027717,
     "end_time": "2023-12-10T19:44:22.925004",
     "exception": false,
     "start_time": "2023-12-10T19:44:22.897287",
     "status": "completed"
    },
    "tags": []
   },
   "outputs": [
    {
     "data": {
      "text/html": [
       "<div>\n",
       "<style scoped>\n",
       "    .dataframe tbody tr th:only-of-type {\n",
       "        vertical-align: middle;\n",
       "    }\n",
       "\n",
       "    .dataframe tbody tr th {\n",
       "        vertical-align: top;\n",
       "    }\n",
       "\n",
       "    .dataframe thead th {\n",
       "        text-align: right;\n",
       "    }\n",
       "</style>\n",
       "<table border=\"1\" class=\"dataframe\">\n",
       "  <thead>\n",
       "    <tr style=\"text-align: right;\">\n",
       "      <th></th>\n",
       "      <th>id</th>\n",
       "      <th>label</th>\n",
       "    </tr>\n",
       "  </thead>\n",
       "  <tbody>\n",
       "    <tr>\n",
       "      <th>0</th>\n",
       "      <td>1</td>\n",
       "      <td>frog</td>\n",
       "    </tr>\n",
       "    <tr>\n",
       "      <th>1</th>\n",
       "      <td>2</td>\n",
       "      <td>truck</td>\n",
       "    </tr>\n",
       "    <tr>\n",
       "      <th>2</th>\n",
       "      <td>3</td>\n",
       "      <td>truck</td>\n",
       "    </tr>\n",
       "    <tr>\n",
       "      <th>3</th>\n",
       "      <td>4</td>\n",
       "      <td>deer</td>\n",
       "    </tr>\n",
       "    <tr>\n",
       "      <th>4</th>\n",
       "      <td>5</td>\n",
       "      <td>automobile</td>\n",
       "    </tr>\n",
       "    <tr>\n",
       "      <th>5</th>\n",
       "      <td>6</td>\n",
       "      <td>automobile</td>\n",
       "    </tr>\n",
       "    <tr>\n",
       "      <th>6</th>\n",
       "      <td>7</td>\n",
       "      <td>bird</td>\n",
       "    </tr>\n",
       "    <tr>\n",
       "      <th>7</th>\n",
       "      <td>8</td>\n",
       "      <td>horse</td>\n",
       "    </tr>\n",
       "    <tr>\n",
       "      <th>8</th>\n",
       "      <td>9</td>\n",
       "      <td>ship</td>\n",
       "    </tr>\n",
       "    <tr>\n",
       "      <th>9</th>\n",
       "      <td>10</td>\n",
       "      <td>cat</td>\n",
       "    </tr>\n",
       "  </tbody>\n",
       "</table>\n",
       "</div>"
      ],
      "text/plain": [
       "   id       label\n",
       "0   1        frog\n",
       "1   2       truck\n",
       "2   3       truck\n",
       "3   4        deer\n",
       "4   5  automobile\n",
       "5   6  automobile\n",
       "6   7        bird\n",
       "7   8       horse\n",
       "8   9        ship\n",
       "9  10         cat"
      ]
     },
     "execution_count": 10,
     "metadata": {},
     "output_type": "execute_result"
    }
   ],
   "source": [
    "labels_df.head(10)"
   ]
  },
  {
   "cell_type": "code",
   "execution_count": 11,
   "id": "53710dae",
   "metadata": {
    "execution": {
     "iopub.execute_input": "2023-12-10T19:44:22.960515Z",
     "iopub.status.busy": "2023-12-10T19:44:22.960248Z",
     "iopub.status.idle": "2023-12-10T19:44:22.968487Z",
     "shell.execute_reply": "2023-12-10T19:44:22.967619Z"
    },
    "papermill": {
     "duration": 0.028395,
     "end_time": "2023-12-10T19:44:22.970536",
     "exception": false,
     "start_time": "2023-12-10T19:44:22.942141",
     "status": "completed"
    },
    "tags": []
   },
   "outputs": [
    {
     "data": {
      "text/html": [
       "<div>\n",
       "<style scoped>\n",
       "    .dataframe tbody tr th:only-of-type {\n",
       "        vertical-align: middle;\n",
       "    }\n",
       "\n",
       "    .dataframe tbody tr th {\n",
       "        vertical-align: top;\n",
       "    }\n",
       "\n",
       "    .dataframe thead th {\n",
       "        text-align: right;\n",
       "    }\n",
       "</style>\n",
       "<table border=\"1\" class=\"dataframe\">\n",
       "  <thead>\n",
       "    <tr style=\"text-align: right;\">\n",
       "      <th></th>\n",
       "      <th>id</th>\n",
       "      <th>label</th>\n",
       "    </tr>\n",
       "  </thead>\n",
       "  <tbody>\n",
       "    <tr>\n",
       "      <th>49990</th>\n",
       "      <td>49991</td>\n",
       "      <td>deer</td>\n",
       "    </tr>\n",
       "    <tr>\n",
       "      <th>49991</th>\n",
       "      <td>49992</td>\n",
       "      <td>bird</td>\n",
       "    </tr>\n",
       "    <tr>\n",
       "      <th>49992</th>\n",
       "      <td>49993</td>\n",
       "      <td>airplane</td>\n",
       "    </tr>\n",
       "    <tr>\n",
       "      <th>49993</th>\n",
       "      <td>49994</td>\n",
       "      <td>automobile</td>\n",
       "    </tr>\n",
       "    <tr>\n",
       "      <th>49994</th>\n",
       "      <td>49995</td>\n",
       "      <td>airplane</td>\n",
       "    </tr>\n",
       "    <tr>\n",
       "      <th>49995</th>\n",
       "      <td>49996</td>\n",
       "      <td>bird</td>\n",
       "    </tr>\n",
       "    <tr>\n",
       "      <th>49996</th>\n",
       "      <td>49997</td>\n",
       "      <td>frog</td>\n",
       "    </tr>\n",
       "    <tr>\n",
       "      <th>49997</th>\n",
       "      <td>49998</td>\n",
       "      <td>truck</td>\n",
       "    </tr>\n",
       "    <tr>\n",
       "      <th>49998</th>\n",
       "      <td>49999</td>\n",
       "      <td>automobile</td>\n",
       "    </tr>\n",
       "    <tr>\n",
       "      <th>49999</th>\n",
       "      <td>50000</td>\n",
       "      <td>automobile</td>\n",
       "    </tr>\n",
       "  </tbody>\n",
       "</table>\n",
       "</div>"
      ],
      "text/plain": [
       "          id       label\n",
       "49990  49991        deer\n",
       "49991  49992        bird\n",
       "49992  49993    airplane\n",
       "49993  49994  automobile\n",
       "49994  49995    airplane\n",
       "49995  49996        bird\n",
       "49996  49997        frog\n",
       "49997  49998       truck\n",
       "49998  49999  automobile\n",
       "49999  50000  automobile"
      ]
     },
     "execution_count": 11,
     "metadata": {},
     "output_type": "execute_result"
    }
   ],
   "source": [
    "labels_df.tail(10)"
   ]
  },
  {
   "cell_type": "markdown",
   "id": "f3b5764a",
   "metadata": {
    "papermill": {
     "duration": 0.017058,
     "end_time": "2023-12-10T19:44:23.005212",
     "exception": false,
     "start_time": "2023-12-10T19:44:22.988154",
     "status": "completed"
    },
    "tags": []
   },
   "source": [
    "Labels are marked serially by id and evenly distributed ( below )"
   ]
  },
  {
   "cell_type": "code",
   "execution_count": 12,
   "id": "5b233a4e",
   "metadata": {
    "execution": {
     "iopub.execute_input": "2023-12-10T19:44:23.041076Z",
     "iopub.status.busy": "2023-12-10T19:44:23.040797Z",
     "iopub.status.idle": "2023-12-10T19:44:23.056415Z",
     "shell.execute_reply": "2023-12-10T19:44:23.055617Z"
    },
    "papermill": {
     "duration": 0.035895,
     "end_time": "2023-12-10T19:44:23.058423",
     "exception": false,
     "start_time": "2023-12-10T19:44:23.022528",
     "status": "completed"
    },
    "tags": []
   },
   "outputs": [
    {
     "data": {
      "text/plain": [
       "label\n",
       "frog          5000\n",
       "truck         5000\n",
       "deer          5000\n",
       "automobile    5000\n",
       "bird          5000\n",
       "horse         5000\n",
       "ship          5000\n",
       "cat           5000\n",
       "dog           5000\n",
       "airplane      5000\n",
       "Name: count, dtype: int64"
      ]
     },
     "execution_count": 12,
     "metadata": {},
     "output_type": "execute_result"
    }
   ],
   "source": [
    "labels_df['label'].value_counts()"
   ]
  },
  {
   "cell_type": "code",
   "execution_count": 13,
   "id": "21ad5ed8",
   "metadata": {
    "execution": {
     "iopub.execute_input": "2023-12-10T19:44:23.095587Z",
     "iopub.status.busy": "2023-12-10T19:44:23.095308Z",
     "iopub.status.idle": "2023-12-10T19:44:23.101995Z",
     "shell.execute_reply": "2023-12-10T19:44:23.101211Z"
    },
    "papermill": {
     "duration": 0.027826,
     "end_time": "2023-12-10T19:44:23.103924",
     "exception": false,
     "start_time": "2023-12-10T19:44:23.076098",
     "status": "completed"
    },
    "tags": []
   },
   "outputs": [
    {
     "data": {
      "text/plain": [
       "0              frog\n",
       "1             truck\n",
       "2             truck\n",
       "3              deer\n",
       "4        automobile\n",
       "            ...    \n",
       "49995          bird\n",
       "49996          frog\n",
       "49997         truck\n",
       "49998    automobile\n",
       "49999    automobile\n",
       "Name: label, Length: 50000, dtype: object"
      ]
     },
     "execution_count": 13,
     "metadata": {},
     "output_type": "execute_result"
    }
   ],
   "source": [
    "labels_df['label']"
   ]
  },
  {
   "cell_type": "code",
   "execution_count": 14,
   "id": "ad35273d",
   "metadata": {
    "execution": {
     "iopub.execute_input": "2023-12-10T19:44:23.140930Z",
     "iopub.status.busy": "2023-12-10T19:44:23.140223Z",
     "iopub.status.idle": "2023-12-10T19:44:23.153796Z",
     "shell.execute_reply": "2023-12-10T19:44:23.153044Z"
    },
    "papermill": {
     "duration": 0.033955,
     "end_time": "2023-12-10T19:44:23.155611",
     "exception": false,
     "start_time": "2023-12-10T19:44:23.121656",
     "status": "completed"
    },
    "tags": []
   },
   "outputs": [],
   "source": [
    "labels_dictionary = {'airplane':0, 'automobile':1, 'bird':2, 'cat':3, 'deer':4, 'dog':5, 'frog':6, 'horse':7, 'ship':8, 'truck':9}\n",
    "\n",
    "labels = [labels_dictionary[i] for i in labels_df['label']]"
   ]
  },
  {
   "cell_type": "code",
   "execution_count": 15,
   "id": "9b648b8d",
   "metadata": {
    "execution": {
     "iopub.execute_input": "2023-12-10T19:44:23.192264Z",
     "iopub.status.busy": "2023-12-10T19:44:23.191985Z",
     "iopub.status.idle": "2023-12-10T19:44:23.197172Z",
     "shell.execute_reply": "2023-12-10T19:44:23.196350Z"
    },
    "papermill": {
     "duration": 0.025851,
     "end_time": "2023-12-10T19:44:23.199128",
     "exception": false,
     "start_time": "2023-12-10T19:44:23.173277",
     "status": "completed"
    },
    "tags": []
   },
   "outputs": [
    {
     "data": {
      "text/plain": [
       "50000"
      ]
     },
     "execution_count": 15,
     "metadata": {},
     "output_type": "execute_result"
    }
   ],
   "source": [
    "len(labels)"
   ]
  },
  {
   "cell_type": "code",
   "execution_count": 16,
   "id": "599708d0",
   "metadata": {
    "execution": {
     "iopub.execute_input": "2023-12-10T19:44:23.235984Z",
     "iopub.status.busy": "2023-12-10T19:44:23.235664Z",
     "iopub.status.idle": "2023-12-10T19:44:23.240466Z",
     "shell.execute_reply": "2023-12-10T19:44:23.239523Z"
    },
    "papermill": {
     "duration": 0.025505,
     "end_time": "2023-12-10T19:44:23.242409",
     "exception": false,
     "start_time": "2023-12-10T19:44:23.216904",
     "status": "completed"
    },
    "tags": []
   },
   "outputs": [
    {
     "name": "stdout",
     "output_type": "stream",
     "text": [
      "[6, 9, 9, 4, 1]\n",
      "[2, 6, 9, 1, 1]\n"
     ]
    }
   ],
   "source": [
    "print(labels[0:5])\n",
    "print(labels[-5:])"
   ]
  },
  {
   "cell_type": "code",
   "execution_count": 17,
   "id": "8429236e",
   "metadata": {
    "execution": {
     "iopub.execute_input": "2023-12-10T19:44:23.279109Z",
     "iopub.status.busy": "2023-12-10T19:44:23.278846Z",
     "iopub.status.idle": "2023-12-10T19:44:23.283958Z",
     "shell.execute_reply": "2023-12-10T19:44:23.283154Z"
    },
    "papermill": {
     "duration": 0.025694,
     "end_time": "2023-12-10T19:44:23.285888",
     "exception": false,
     "start_time": "2023-12-10T19:44:23.260194",
     "status": "completed"
    },
    "tags": []
   },
   "outputs": [
    {
     "data": {
      "text/plain": [
       "50000"
      ]
     },
     "execution_count": 17,
     "metadata": {},
     "output_type": "execute_result"
    }
   ],
   "source": [
    "len(labels)"
   ]
  },
  {
   "cell_type": "markdown",
   "id": "ebf9a0f0",
   "metadata": {
    "papermill": {
     "duration": 0.017684,
     "end_time": "2023-12-10T19:44:23.321651",
     "exception": false,
     "start_time": "2023-12-10T19:44:23.303967",
     "status": "completed"
    },
    "tags": []
   },
   "source": [
    "Checking labels correctness:"
   ]
  },
  {
   "cell_type": "code",
   "execution_count": 18,
   "id": "d5dde910",
   "metadata": {
    "execution": {
     "iopub.execute_input": "2023-12-10T19:44:23.359161Z",
     "iopub.status.busy": "2023-12-10T19:44:23.358854Z",
     "iopub.status.idle": "2023-12-10T19:44:23.481708Z",
     "shell.execute_reply": "2023-12-10T19:44:23.480717Z"
    },
    "papermill": {
     "duration": 0.144454,
     "end_time": "2023-12-10T19:44:23.484027",
     "exception": false,
     "start_time": "2023-12-10T19:44:23.339573",
     "status": "completed"
    },
    "tags": []
   },
   "outputs": [
    {
     "data": {
      "text/plain": [
       "<matplotlib.image.AxesImage at 0x7b02ae227130>"
      ]
     },
     "execution_count": 18,
     "metadata": {},
     "output_type": "execute_result"
    },
    {
     "data": {
      "image/png": "[encoded data removed]",
      "text/plain": [
       "<Figure size 200x100 with 1 Axes>"
      ]
     },
     "metadata": {},
     "output_type": "display_data"
    }
   ],
   "source": [
    "img = data[9998]\n",
    "plt.figure(figsize=(2,1))\n",
    "plt.imshow(img)"
   ]
  },
  {
   "cell_type": "code",
   "execution_count": 19,
   "id": "4f14ae72",
   "metadata": {
    "execution": {
     "iopub.execute_input": "2023-12-10T19:44:23.524017Z",
     "iopub.status.busy": "2023-12-10T19:44:23.523728Z",
     "iopub.status.idle": "2023-12-10T19:44:23.532879Z",
     "shell.execute_reply": "2023-12-10T19:44:23.532033Z"
    },
    "papermill": {
     "duration": 0.030701,
     "end_time": "2023-12-10T19:44:23.534908",
     "exception": false,
     "start_time": "2023-12-10T19:44:23.504207",
     "status": "completed"
    },
    "tags": []
   },
   "outputs": [
    {
     "data": {
      "text/html": [
       "<div>\n",
       "<style scoped>\n",
       "    .dataframe tbody tr th:only-of-type {\n",
       "        vertical-align: middle;\n",
       "    }\n",
       "\n",
       "    .dataframe tbody tr th {\n",
       "        vertical-align: top;\n",
       "    }\n",
       "\n",
       "    .dataframe thead th {\n",
       "        text-align: right;\n",
       "    }\n",
       "</style>\n",
       "<table border=\"1\" class=\"dataframe\">\n",
       "  <thead>\n",
       "    <tr style=\"text-align: right;\">\n",
       "      <th></th>\n",
       "      <th>id</th>\n",
       "      <th>label</th>\n",
       "    </tr>\n",
       "  </thead>\n",
       "  <tbody>\n",
       "    <tr>\n",
       "      <th>9998</th>\n",
       "      <td>9999</td>\n",
       "      <td>automobile</td>\n",
       "    </tr>\n",
       "  </tbody>\n",
       "</table>\n",
       "</div>"
      ],
      "text/plain": [
       "        id       label\n",
       "9998  9999  automobile"
      ]
     },
     "execution_count": 19,
     "metadata": {},
     "output_type": "execute_result"
    }
   ],
   "source": [
    "labels_df[labels_df['id'] == 9999]"
   ]
  },
  {
   "cell_type": "code",
   "execution_count": 20,
   "id": "e8988d5f",
   "metadata": {
    "execution": {
     "iopub.execute_input": "2023-12-10T19:44:23.573569Z",
     "iopub.status.busy": "2023-12-10T19:44:23.573297Z",
     "iopub.status.idle": "2023-12-10T19:44:23.578367Z",
     "shell.execute_reply": "2023-12-10T19:44:23.577569Z"
    },
    "papermill": {
     "duration": 0.026549,
     "end_time": "2023-12-10T19:44:23.580335",
     "exception": false,
     "start_time": "2023-12-10T19:44:23.553786",
     "status": "completed"
    },
    "tags": []
   },
   "outputs": [
    {
     "data": {
      "text/plain": [
       "1"
      ]
     },
     "execution_count": 20,
     "metadata": {},
     "output_type": "execute_result"
    }
   ],
   "source": [
    "labels[9998] # automobile = 1 , and 0 base indexing in List"
   ]
  },
  {
   "cell_type": "code",
   "execution_count": 21,
   "id": "032dc94b",
   "metadata": {
    "execution": {
     "iopub.execute_input": "2023-12-10T19:44:23.619857Z",
     "iopub.status.busy": "2023-12-10T19:44:23.619076Z",
     "iopub.status.idle": "2023-12-10T19:44:23.630548Z",
     "shell.execute_reply": "2023-12-10T19:44:23.629714Z"
    },
    "papermill": {
     "duration": 0.033376,
     "end_time": "2023-12-10T19:44:23.632438",
     "exception": false,
     "start_time": "2023-12-10T19:44:23.599062",
     "status": "completed"
    },
    "tags": []
   },
   "outputs": [],
   "source": [
    "id_list = list(labels_df['id'])"
   ]
  },
  {
   "cell_type": "code",
   "execution_count": 22,
   "id": "a74ef581",
   "metadata": {
    "execution": {
     "iopub.execute_input": "2023-12-10T19:44:23.671601Z",
     "iopub.status.busy": "2023-12-10T19:44:23.671314Z",
     "iopub.status.idle": "2023-12-10T19:44:23.675799Z",
     "shell.execute_reply": "2023-12-10T19:44:23.674945Z"
    },
    "papermill": {
     "duration": 0.026425,
     "end_time": "2023-12-10T19:44:23.677629",
     "exception": false,
     "start_time": "2023-12-10T19:44:23.651204",
     "status": "completed"
    },
    "tags": []
   },
   "outputs": [
    {
     "name": "stdout",
     "output_type": "stream",
     "text": [
      "[1, 2, 3, 4, 5]\n",
      "[49996, 49997, 49998, 49999, 50000]\n"
     ]
    }
   ],
   "source": [
    "print(id_list[0:5])\n",
    "print(id_list[-5:])"
   ]
  },
  {
   "cell_type": "markdown",
   "id": "b83ecead",
   "metadata": {
    "papermill": {
     "duration": 0.018728,
     "end_time": "2023-12-10T19:44:23.715294",
     "exception": false,
     "start_time": "2023-12-10T19:44:23.696566",
     "status": "completed"
    },
    "tags": []
   },
   "source": [
    "# **Train Test Split**"
   ]
  },
  {
   "cell_type": "code",
   "execution_count": 23,
   "id": "76b55a8f",
   "metadata": {
    "execution": {
     "iopub.execute_input": "2023-12-10T19:44:23.754549Z",
     "iopub.status.busy": "2023-12-10T19:44:23.753774Z",
     "iopub.status.idle": "2023-12-10T19:44:23.759529Z",
     "shell.execute_reply": "2023-12-10T19:44:23.758715Z"
    },
    "papermill": {
     "duration": 0.027387,
     "end_time": "2023-12-10T19:44:23.761402",
     "exception": false,
     "start_time": "2023-12-10T19:44:23.734015",
     "status": "completed"
    },
    "tags": []
   },
   "outputs": [
    {
     "data": {
      "text/plain": [
       "numpy.ndarray"
      ]
     },
     "execution_count": 23,
     "metadata": {},
     "output_type": "execute_result"
    }
   ],
   "source": [
    "type(data)"
   ]
  },
  {
   "cell_type": "code",
   "execution_count": 24,
   "id": "d1368ba3",
   "metadata": {
    "execution": {
     "iopub.execute_input": "2023-12-10T19:44:23.800891Z",
     "iopub.status.busy": "2023-12-10T19:44:23.800348Z",
     "iopub.status.idle": "2023-12-10T19:44:23.805812Z",
     "shell.execute_reply": "2023-12-10T19:44:23.804986Z"
    },
    "papermill": {
     "duration": 0.0275,
     "end_time": "2023-12-10T19:44:23.807852",
     "exception": false,
     "start_time": "2023-12-10T19:44:23.780352",
     "status": "completed"
    },
    "tags": []
   },
   "outputs": [
    {
     "data": {
      "text/plain": [
       "50000"
      ]
     },
     "execution_count": 24,
     "metadata": {},
     "output_type": "execute_result"
    }
   ],
   "source": [
    "len(data)"
   ]
  },
  {
   "cell_type": "code",
   "execution_count": 25,
   "id": "081b6f3c",
   "metadata": {
    "execution": {
     "iopub.execute_input": "2023-12-10T19:44:23.847865Z",
     "iopub.status.busy": "2023-12-10T19:44:23.847327Z",
     "iopub.status.idle": "2023-12-10T19:44:23.853048Z",
     "shell.execute_reply": "2023-12-10T19:44:23.852202Z"
    },
    "papermill": {
     "duration": 0.028021,
     "end_time": "2023-12-10T19:44:23.855074",
     "exception": false,
     "start_time": "2023-12-10T19:44:23.827053",
     "status": "completed"
    },
    "tags": []
   },
   "outputs": [
    {
     "data": {
      "text/plain": [
       "numpy.ndarray"
      ]
     },
     "execution_count": 25,
     "metadata": {},
     "output_type": "execute_result"
    }
   ],
   "source": [
    "type(data[0])"
   ]
  },
  {
   "cell_type": "code",
   "execution_count": 26,
   "id": "9220df08",
   "metadata": {
    "execution": {
     "iopub.execute_input": "2023-12-10T19:44:23.895302Z",
     "iopub.status.busy": "2023-12-10T19:44:23.894981Z",
     "iopub.status.idle": "2023-12-10T19:44:23.900558Z",
     "shell.execute_reply": "2023-12-10T19:44:23.899734Z"
    },
    "papermill": {
     "duration": 0.028041,
     "end_time": "2023-12-10T19:44:23.902580",
     "exception": false,
     "start_time": "2023-12-10T19:44:23.874539",
     "status": "completed"
    },
    "tags": []
   },
   "outputs": [
    {
     "data": {
      "text/plain": [
       "(32, 32, 3)"
      ]
     },
     "execution_count": 26,
     "metadata": {},
     "output_type": "execute_result"
    }
   ],
   "source": [
    "data[0].shape"
   ]
  },
  {
   "cell_type": "code",
   "execution_count": 27,
   "id": "b191e8c5",
   "metadata": {
    "execution": {
     "iopub.execute_input": "2023-12-10T19:44:23.942824Z",
     "iopub.status.busy": "2023-12-10T19:44:23.942508Z",
     "iopub.status.idle": "2023-12-10T19:44:23.950945Z",
     "shell.execute_reply": "2023-12-10T19:44:23.950163Z"
    },
    "papermill": {
     "duration": 0.030715,
     "end_time": "2023-12-10T19:44:23.952799",
     "exception": false,
     "start_time": "2023-12-10T19:44:23.922084",
     "status": "completed"
    },
    "tags": []
   },
   "outputs": [],
   "source": [
    "# convert image list and label list to numpy arrays\n",
    "\n",
    "x = data\n",
    "y = np.array(labels)"
   ]
  },
  {
   "cell_type": "code",
   "execution_count": 28,
   "id": "5c1acaa7",
   "metadata": {
    "execution": {
     "iopub.execute_input": "2023-12-10T19:44:23.992338Z",
     "iopub.status.busy": "2023-12-10T19:44:23.992068Z",
     "iopub.status.idle": "2023-12-10T19:44:23.996545Z",
     "shell.execute_reply": "2023-12-10T19:44:23.995724Z"
    },
    "papermill": {
     "duration": 0.026558,
     "end_time": "2023-12-10T19:44:23.998516",
     "exception": false,
     "start_time": "2023-12-10T19:44:23.971958",
     "status": "completed"
    },
    "tags": []
   },
   "outputs": [
    {
     "name": "stdout",
     "output_type": "stream",
     "text": [
      "(50000, 32, 32, 3)\n",
      "(50000,)\n"
     ]
    }
   ],
   "source": [
    "print(x.shape)\n",
    "print(y.shape)"
   ]
  },
  {
   "cell_type": "code",
   "execution_count": 29,
   "id": "52afcd59",
   "metadata": {
    "execution": {
     "iopub.execute_input": "2023-12-10T19:44:24.038325Z",
     "iopub.status.busy": "2023-12-10T19:44:24.038050Z",
     "iopub.status.idle": "2023-12-10T19:44:24.041864Z",
     "shell.execute_reply": "2023-12-10T19:44:24.041096Z"
    },
    "papermill": {
     "duration": 0.025875,
     "end_time": "2023-12-10T19:44:24.043640",
     "exception": false,
     "start_time": "2023-12-10T19:44:24.017765",
     "status": "completed"
    },
    "tags": []
   },
   "outputs": [],
   "source": [
    "# Swap the last two dimensions\n",
    "x = np.swapaxes(x, -1, -3)"
   ]
  },
  {
   "cell_type": "code",
   "execution_count": 30,
   "id": "bba5ab50",
   "metadata": {
    "execution": {
     "iopub.execute_input": "2023-12-10T19:44:24.084072Z",
     "iopub.status.busy": "2023-12-10T19:44:24.083368Z",
     "iopub.status.idle": "2023-12-10T19:44:24.088852Z",
     "shell.execute_reply": "2023-12-10T19:44:24.088051Z"
    },
    "papermill": {
     "duration": 0.027887,
     "end_time": "2023-12-10T19:44:24.090857",
     "exception": false,
     "start_time": "2023-12-10T19:44:24.062970",
     "status": "completed"
    },
    "tags": []
   },
   "outputs": [
    {
     "data": {
      "text/plain": [
       "numpy.ndarray"
      ]
     },
     "execution_count": 30,
     "metadata": {},
     "output_type": "execute_result"
    }
   ],
   "source": [
    "type(x)"
   ]
  },
  {
   "cell_type": "code",
   "execution_count": 31,
   "id": "e96eec78",
   "metadata": {
    "execution": {
     "iopub.execute_input": "2023-12-10T19:44:24.130872Z",
     "iopub.status.busy": "2023-12-10T19:44:24.130380Z",
     "iopub.status.idle": "2023-12-10T19:44:24.134898Z",
     "shell.execute_reply": "2023-12-10T19:44:24.134003Z"
    },
    "papermill": {
     "duration": 0.026622,
     "end_time": "2023-12-10T19:44:24.136872",
     "exception": false,
     "start_time": "2023-12-10T19:44:24.110250",
     "status": "completed"
    },
    "tags": []
   },
   "outputs": [
    {
     "name": "stdout",
     "output_type": "stream",
     "text": [
      "(50000, 3, 32, 32)\n",
      "(50000,)\n"
     ]
    }
   ],
   "source": [
    "print(x.shape)\n",
    "print(y.shape)"
   ]
  },
  {
   "cell_type": "code",
   "execution_count": 32,
   "id": "931e298e",
   "metadata": {
    "execution": {
     "iopub.execute_input": "2023-12-10T19:44:24.177320Z",
     "iopub.status.busy": "2023-12-10T19:44:24.176868Z",
     "iopub.status.idle": "2023-12-10T19:44:24.180457Z",
     "shell.execute_reply": "2023-12-10T19:44:24.179645Z"
    },
    "papermill": {
     "duration": 0.026019,
     "end_time": "2023-12-10T19:44:24.182426",
     "exception": false,
     "start_time": "2023-12-10T19:44:24.156407",
     "status": "completed"
    },
    "tags": []
   },
   "outputs": [],
   "source": [
    "# small data for testing while naking the model\n",
    "# x = x[:1000]\n",
    "# y = y[:1000]"
   ]
  },
  {
   "cell_type": "code",
   "execution_count": 33,
   "id": "b0db24bf",
   "metadata": {
    "execution": {
     "iopub.execute_input": "2023-12-10T19:44:24.226349Z",
     "iopub.status.busy": "2023-12-10T19:44:24.226086Z",
     "iopub.status.idle": "2023-12-10T19:44:24.232426Z",
     "shell.execute_reply": "2023-12-10T19:44:24.231603Z"
    },
    "papermill": {
     "duration": 0.030403,
     "end_time": "2023-12-10T19:44:24.234428",
     "exception": false,
     "start_time": "2023-12-10T19:44:24.204025",
     "status": "completed"
    },
    "tags": []
   },
   "outputs": [
    {
     "data": {
      "text/plain": [
       "array([[[ 59,  16,  25, ..., 208, 180, 177],\n",
       "        [ 43,   0,  16, ..., 201, 173, 168],\n",
       "        [ 50,  18,  49, ..., 198, 186, 179],\n",
       "        ...,\n",
       "        [158, 123, 118, ..., 160, 184, 216],\n",
       "        [152, 119, 120, ...,  56,  97, 151],\n",
       "        [148, 122, 109, ...,  53,  83, 123]],\n",
       "\n",
       "       [[ 62,  20,  24, ..., 170, 139, 144],\n",
       "        [ 46,   0,   7, ..., 153, 123, 129],\n",
       "        [ 48,   8,  27, ..., 161, 144, 142],\n",
       "        ...,\n",
       "        [132,  88,  84, ..., 133, 148, 184],\n",
       "        [125,  83,  84, ...,  31,  62, 118],\n",
       "        [124,  87,  73, ...,  34,  53,  92]],\n",
       "\n",
       "       [[ 63,  20,  21, ...,  96,  96, 116],\n",
       "        [ 45,   0,   0, ...,  34,  42,  94],\n",
       "        [ 43,   0,   8, ...,  26,  30,  87],\n",
       "        ...,\n",
       "        [108,  55,  50, ...,  70,  94, 140],\n",
       "        [102,  50,  50, ...,   7,  34,  84],\n",
       "        [103,  57,  42, ...,  20,  34,  72]]], dtype=uint8)"
      ]
     },
     "execution_count": 33,
     "metadata": {},
     "output_type": "execute_result"
    }
   ],
   "source": [
    "x[0]"
   ]
  },
  {
   "cell_type": "code",
   "execution_count": 34,
   "id": "bc452ba2",
   "metadata": {
    "execution": {
     "iopub.execute_input": "2023-12-10T19:44:24.275093Z",
     "iopub.status.busy": "2023-12-10T19:44:24.274849Z",
     "iopub.status.idle": "2023-12-10T19:44:24.279162Z",
     "shell.execute_reply": "2023-12-10T19:44:24.278322Z"
    },
    "papermill": {
     "duration": 0.026501,
     "end_time": "2023-12-10T19:44:24.281063",
     "exception": false,
     "start_time": "2023-12-10T19:44:24.254562",
     "status": "completed"
    },
    "tags": []
   },
   "outputs": [
    {
     "name": "stdout",
     "output_type": "stream",
     "text": [
      "(50000, 3, 32, 32)\n",
      "(50000,)\n"
     ]
    }
   ],
   "source": [
    "print(x.shape)\n",
    "print(y.shape)"
   ]
  },
  {
   "cell_type": "code",
   "execution_count": 35,
   "id": "a07a778c",
   "metadata": {
    "execution": {
     "iopub.execute_input": "2023-12-10T19:44:24.321499Z",
     "iopub.status.busy": "2023-12-10T19:44:24.321230Z",
     "iopub.status.idle": "2023-12-10T19:44:24.379467Z",
     "shell.execute_reply": "2023-12-10T19:44:24.378694Z"
    },
    "papermill": {
     "duration": 0.081121,
     "end_time": "2023-12-10T19:44:24.381822",
     "exception": false,
     "start_time": "2023-12-10T19:44:24.300701",
     "status": "completed"
    },
    "tags": []
   },
   "outputs": [],
   "source": [
    "x_train, x_mid, y_train, y_mid = train_test_split(x, y, test_size=0.2, random_state=2)"
   ]
  },
  {
   "cell_type": "code",
   "execution_count": 36,
   "id": "b0c193fb",
   "metadata": {
    "execution": {
     "iopub.execute_input": "2023-12-10T19:44:24.434227Z",
     "iopub.status.busy": "2023-12-10T19:44:24.433617Z",
     "iopub.status.idle": "2023-12-10T19:44:24.452937Z",
     "shell.execute_reply": "2023-12-10T19:44:24.451985Z"
    },
    "papermill": {
     "duration": 0.05033,
     "end_time": "2023-12-10T19:44:24.455054",
     "exception": false,
     "start_time": "2023-12-10T19:44:24.404724",
     "status": "completed"
    },
    "tags": []
   },
   "outputs": [],
   "source": [
    "x_val, x_test, y_val, y_test = train_test_split(x_mid, y_mid, test_size=0.5, random_state=2)"
   ]
  },
  {
   "cell_type": "code",
   "execution_count": 37,
   "id": "fa3bbeab",
   "metadata": {
    "execution": {
     "iopub.execute_input": "2023-12-10T19:44:24.506340Z",
     "iopub.status.busy": "2023-12-10T19:44:24.506003Z",
     "iopub.status.idle": "2023-12-10T19:44:24.511315Z",
     "shell.execute_reply": "2023-12-10T19:44:24.510195Z"
    },
    "papermill": {
     "duration": 0.033674,
     "end_time": "2023-12-10T19:44:24.513534",
     "exception": false,
     "start_time": "2023-12-10T19:44:24.479860",
     "status": "completed"
    },
    "tags": []
   },
   "outputs": [
    {
     "name": "stdout",
     "output_type": "stream",
     "text": [
      "(50000, 3, 32, 32) (40000, 3, 32, 32) (5000, 3, 32, 32)\n"
     ]
    }
   ],
   "source": [
    "print(x.shape, x_train.shape, x_test.shape)"
   ]
  },
  {
   "cell_type": "code",
   "execution_count": 38,
   "id": "64345125",
   "metadata": {
    "execution": {
     "iopub.execute_input": "2023-12-10T19:44:24.558861Z",
     "iopub.status.busy": "2023-12-10T19:44:24.558547Z",
     "iopub.status.idle": "2023-12-10T19:44:24.949688Z",
     "shell.execute_reply": "2023-12-10T19:44:24.948708Z"
    },
    "papermill": {
     "duration": 0.414472,
     "end_time": "2023-12-10T19:44:24.951985",
     "exception": false,
     "start_time": "2023-12-10T19:44:24.537513",
     "status": "completed"
    },
    "tags": []
   },
   "outputs": [],
   "source": [
    "# scaling the data\n",
    "\n",
    "x_train_scaled = x_train/255\n",
    "\n",
    "x_test_scaled = x_test/255\n",
    "\n",
    "x_val_scaled = x_val/255"
   ]
  },
  {
   "cell_type": "code",
   "execution_count": 39,
   "id": "c6bcd28a",
   "metadata": {
    "execution": {
     "iopub.execute_input": "2023-12-10T19:44:24.994254Z",
     "iopub.status.busy": "2023-12-10T19:44:24.993531Z",
     "iopub.status.idle": "2023-12-10T19:44:25.000871Z",
     "shell.execute_reply": "2023-12-10T19:44:24.999947Z"
    },
    "papermill": {
     "duration": 0.030364,
     "end_time": "2023-12-10T19:44:25.002952",
     "exception": false,
     "start_time": "2023-12-10T19:44:24.972588",
     "status": "completed"
    },
    "tags": []
   },
   "outputs": [
    {
     "data": {
      "text/plain": [
       "array([[[0.81960784, 0.82352941, 0.80784314, ..., 0.49803922,\n",
       "         0.56862745, 0.54117647],\n",
       "        [0.83529412, 0.83529412, 0.81960784, ..., 0.54117647,\n",
       "         0.58039216, 0.54901961],\n",
       "        [0.85490196, 0.85490196, 0.83529412, ..., 0.55294118,\n",
       "         0.53333333, 0.53333333],\n",
       "        ...,\n",
       "        [0.49803922, 0.48627451, 0.48627451, ..., 0.61960784,\n",
       "         0.68627451, 0.58823529],\n",
       "        [0.47843137, 0.4745098 , 0.51372549, ..., 0.63137255,\n",
       "         0.62745098, 0.56862745],\n",
       "        [0.45490196, 0.48235294, 0.51372549, ..., 0.53333333,\n",
       "         0.56078431, 0.54901961]],\n",
       "\n",
       "       [[0.82352941, 0.82352941, 0.80392157, ..., 0.42352941,\n",
       "         0.50980392, 0.50196078],\n",
       "        [0.83921569, 0.83921569, 0.81960784, ..., 0.47843137,\n",
       "         0.52941176, 0.51764706],\n",
       "        [0.85882353, 0.8627451 , 0.84313725, ..., 0.49803922,\n",
       "         0.49803922, 0.51372549],\n",
       "        ...,\n",
       "        [0.29019608, 0.2745098 , 0.2745098 , ..., 0.58431373,\n",
       "         0.68235294, 0.60392157],\n",
       "        [0.26666667, 0.2627451 , 0.30196078, ..., 0.61176471,\n",
       "         0.63137255, 0.58431373],\n",
       "        [0.24705882, 0.27058824, 0.30588235, ..., 0.5372549 ,\n",
       "         0.58039216, 0.56862745]],\n",
       "\n",
       "       [[0.79607843, 0.79215686, 0.76470588, ..., 0.38039216,\n",
       "         0.46666667, 0.48235294],\n",
       "        [0.81960784, 0.81176471, 0.79215686, ..., 0.43137255,\n",
       "         0.50196078, 0.53333333],\n",
       "        [0.84313725, 0.83921569, 0.81960784, ..., 0.4627451 ,\n",
       "         0.50196078, 0.54901961],\n",
       "        ...,\n",
       "        [0.15294118, 0.1372549 , 0.14509804, ..., 0.5254902 ,\n",
       "         0.6745098 , 0.6627451 ],\n",
       "        [0.1372549 , 0.12941176, 0.16470588, ..., 0.59215686,\n",
       "         0.66666667, 0.65098039],\n",
       "        [0.1254902 , 0.14117647, 0.16078431, ..., 0.58039216,\n",
       "         0.64313725, 0.63921569]]])"
      ]
     },
     "execution_count": 39,
     "metadata": {},
     "output_type": "execute_result"
    }
   ],
   "source": [
    "x_train_scaled[0]"
   ]
  },
  {
   "cell_type": "markdown",
   "id": "f5b035e6",
   "metadata": {
    "papermill": {
     "duration": 0.020048,
     "end_time": "2023-12-10T19:44:25.044219",
     "exception": false,
     "start_time": "2023-12-10T19:44:25.024171",
     "status": "completed"
    },
    "tags": []
   },
   "source": [
    "# Covert the train and test data( Numpy array) into torch tensor"
   ]
  },
  {
   "cell_type": "code",
   "execution_count": 40,
   "id": "a26491e3",
   "metadata": {
    "execution": {
     "iopub.execute_input": "2023-12-10T19:44:25.085695Z",
     "iopub.status.busy": "2023-12-10T19:44:25.085051Z",
     "iopub.status.idle": "2023-12-10T19:44:28.720261Z",
     "shell.execute_reply": "2023-12-10T19:44:28.719457Z"
    },
    "papermill": {
     "duration": 3.658517,
     "end_time": "2023-12-10T19:44:28.722555",
     "exception": false,
     "start_time": "2023-12-10T19:44:25.064038",
     "status": "completed"
    },
    "tags": []
   },
   "outputs": [],
   "source": [
    "import torch\n",
    "import torch.nn as nn\n",
    "import torch.optim as optim\n",
    "from torchvision import models, transforms\n",
    "from torch.utils.data import DataLoader, TensorDataset"
   ]
  },
  {
   "cell_type": "code",
   "execution_count": 41,
   "id": "839ddc80",
   "metadata": {
    "execution": {
     "iopub.execute_input": "2023-12-10T19:44:28.765536Z",
     "iopub.status.busy": "2023-12-10T19:44:28.765060Z",
     "iopub.status.idle": "2023-12-10T19:44:29.039752Z",
     "shell.execute_reply": "2023-12-10T19:44:29.038743Z"
    },
    "papermill": {
     "duration": 0.298366,
     "end_time": "2023-12-10T19:44:29.042186",
     "exception": false,
     "start_time": "2023-12-10T19:44:28.743820",
     "status": "completed"
    },
    "tags": []
   },
   "outputs": [],
   "source": [
    "x_train_scaled = torch.tensor(x_train_scaled, dtype=torch.float32)\n",
    "x_test_scaled = torch.tensor(x_test_scaled, dtype=torch.float32)\n",
    "x_val_scaled = torch.tensor(x_val_scaled, dtype=torch.float32)\n",
    "y_train = torch.tensor(y_train, dtype=torch.long)\n",
    "y_test = torch.tensor(y_test, dtype=torch.long)\n",
    "y_val = torch.tensor(y_val, dtype=torch.long)"
   ]
  },
  {
   "cell_type": "markdown",
   "id": "3b98e4b1",
   "metadata": {
    "papermill": {
     "duration": 0.019912,
     "end_time": "2023-12-10T19:44:29.084477",
     "exception": false,
     "start_time": "2023-12-10T19:44:29.064565",
     "status": "completed"
    },
    "tags": []
   },
   "source": [
    "# Building the model class using pretrained VGG16"
   ]
  },
  {
   "cell_type": "code",
   "execution_count": 42,
   "id": "a6d9ee78",
   "metadata": {
    "execution": {
     "iopub.execute_input": "2023-12-10T19:44:29.125607Z",
     "iopub.status.busy": "2023-12-10T19:44:29.125269Z",
     "iopub.status.idle": "2023-12-10T19:44:29.132705Z",
     "shell.execute_reply": "2023-12-10T19:44:29.131867Z"
    },
    "papermill": {
     "duration": 0.03014,
     "end_time": "2023-12-10T19:44:29.134545",
     "exception": false,
     "start_time": "2023-12-10T19:44:29.104405",
     "status": "completed"
    },
    "tags": []
   },
   "outputs": [],
   "source": [
    "class model_VGG16(nn.Module):\n",
    "    def __init__(self, num_classes):\n",
    "        super(model_VGG16, self).__init__()\n",
    "        # Load pre-trained VGG16 model\n",
    "        vgg16_model = models.vgg16(weights='IMAGENET1K_V1')\n",
    "        \n",
    "        # Modify the first convolutional layer to accept the specified number of input channels\n",
    "        self.features = vgg16_model.features\n",
    "#         self.features[0] = nn.Conv2d(num_input_channels, 64, kernel_size=3, padding=1)\n",
    "        \n",
    "        \n",
    "        # Additional layers similar to the ResNet50 model\n",
    "        self.additional_layers = nn.Sequential(\n",
    "            nn.Flatten(),\n",
    "            nn.BatchNorm1d(512), # 128 -> 512\n",
    "            nn.Linear(512, 512), # 128x128 -> 512x512\n",
    "            nn.ReLU(),\n",
    "            nn.Dropout(0.5),\n",
    "            nn.BatchNorm1d(512), # 128 -> 512\n",
    "            nn.Linear(512, num_classes), # 128 -> 512\n",
    "            nn.Softmax(dim=1)\n",
    "        )\n",
    "\n",
    "    def forward(self, x):\n",
    "        x = self.features(x)\n",
    "        x = x.view(x.size(0), -1)\n",
    "        x = self.additional_layers(x)\n",
    "        return x"
   ]
  },
  {
   "cell_type": "markdown",
   "id": "ce9e94dc",
   "metadata": {
    "papermill": {
     "duration": 0.019647,
     "end_time": "2023-12-10T19:44:29.174408",
     "exception": false,
     "start_time": "2023-12-10T19:44:29.154761",
     "status": "completed"
    },
    "tags": []
   },
   "source": [
    "# Instantiating the model, loss function, optimizer"
   ]
  },
  {
   "cell_type": "code",
   "execution_count": 43,
   "id": "84d4ae82",
   "metadata": {
    "execution": {
     "iopub.execute_input": "2023-12-10T19:44:29.215451Z",
     "iopub.status.busy": "2023-12-10T19:44:29.215166Z",
     "iopub.status.idle": "2023-12-10T19:44:37.484051Z",
     "shell.execute_reply": "2023-12-10T19:44:37.483107Z"
    },
    "papermill": {
     "duration": 8.292145,
     "end_time": "2023-12-10T19:44:37.486370",
     "exception": false,
     "start_time": "2023-12-10T19:44:29.194225",
     "status": "completed"
    },
    "tags": []
   },
   "outputs": [
    {
     "name": "stderr",
     "output_type": "stream",
     "text": [
      "Downloading: \"https://download.pytorch.org/models/vgg16-397923af.pth\" to /root/.cache/torch/hub/checkpoints/vgg16-397923af.pth\n",
      "100%|██████████| 528M/528M [00:06<00:00, 82.9MB/s]\n"
     ]
    }
   ],
   "source": [
    "# Instantiate the VGG16 model with additional layers\n",
    "num_of_classes = 10 \n",
    "model = model_VGG16(num_of_classes)"
   ]
  },
  {
   "cell_type": "code",
   "execution_count": 44,
   "id": "11e01cd6",
   "metadata": {
    "execution": {
     "iopub.execute_input": "2023-12-10T19:44:37.539092Z",
     "iopub.status.busy": "2023-12-10T19:44:37.538795Z",
     "iopub.status.idle": "2023-12-10T19:44:40.656047Z",
     "shell.execute_reply": "2023-12-10T19:44:40.655215Z"
    },
    "papermill": {
     "duration": 3.145986,
     "end_time": "2023-12-10T19:44:40.658423",
     "exception": false,
     "start_time": "2023-12-10T19:44:37.512437",
     "status": "completed"
    },
    "tags": []
   },
   "outputs": [],
   "source": [
    "\n",
    "# Move the model to GPU if available\n",
    "device = torch.device(\"cuda\" if torch.cuda.is_available() else \"cpu\")\n",
    "model = model.to(device)"
   ]
  },
  {
   "cell_type": "code",
   "execution_count": 45,
   "id": "fc40f529",
   "metadata": {
    "execution": {
     "iopub.execute_input": "2023-12-10T19:44:40.711556Z",
     "iopub.status.busy": "2023-12-10T19:44:40.710997Z",
     "iopub.status.idle": "2023-12-10T19:44:40.715999Z",
     "shell.execute_reply": "2023-12-10T19:44:40.715116Z"
    },
    "papermill": {
     "duration": 0.033285,
     "end_time": "2023-12-10T19:44:40.717869",
     "exception": false,
     "start_time": "2023-12-10T19:44:40.684584",
     "status": "completed"
    },
    "tags": []
   },
   "outputs": [],
   "source": [
    "# Define loss function and optimizer\n",
    "criterion = nn.CrossEntropyLoss()\n",
    "optimizer = optim.RMSprop(model.parameters(), lr=2e-5)"
   ]
  },
  {
   "cell_type": "markdown",
   "id": "7552ff7f",
   "metadata": {
    "papermill": {
     "duration": 0.024919,
     "end_time": "2023-12-10T19:44:40.768043",
     "exception": false,
     "start_time": "2023-12-10T19:44:40.743124",
     "status": "completed"
    },
    "tags": []
   },
   "source": [
    "# Model train"
   ]
  },
  {
   "cell_type": "code",
   "execution_count": 46,
   "id": "ae9b0368",
   "metadata": {
    "execution": {
     "iopub.execute_input": "2023-12-10T19:44:40.819418Z",
     "iopub.status.busy": "2023-12-10T19:44:40.819127Z",
     "iopub.status.idle": "2023-12-10T19:44:40.823537Z",
     "shell.execute_reply": "2023-12-10T19:44:40.822726Z"
    },
    "papermill": {
     "duration": 0.032101,
     "end_time": "2023-12-10T19:44:40.825310",
     "exception": false,
     "start_time": "2023-12-10T19:44:40.793209",
     "status": "completed"
    },
    "tags": []
   },
   "outputs": [],
   "source": [
    "# Convert data to PyTorch DataLoader\n",
    "train_dataset = TensorDataset(x_train_scaled, y_train)\n",
    "train_loader = DataLoader(train_dataset, batch_size=100, shuffle=True)"
   ]
  },
  {
   "cell_type": "code",
   "execution_count": 47,
   "id": "0d96bcf6",
   "metadata": {
    "execution": {
     "iopub.execute_input": "2023-12-10T19:44:40.876596Z",
     "iopub.status.busy": "2023-12-10T19:44:40.876323Z",
     "iopub.status.idle": "2023-12-10T19:44:40.880005Z",
     "shell.execute_reply": "2023-12-10T19:44:40.879192Z"
    },
    "papermill": {
     "duration": 0.0315,
     "end_time": "2023-12-10T19:44:40.881939",
     "exception": false,
     "start_time": "2023-12-10T19:44:40.850439",
     "status": "completed"
    },
    "tags": []
   },
   "outputs": [],
   "source": [
    "# for inputs, labels in train_loader:\n",
    "#         inputs, labels = inputs.to(device), labels.to(device)\n",
    "        \n",
    "#         print(inputs.shape)"
   ]
  },
  {
   "cell_type": "code",
   "execution_count": 48,
   "id": "8dc5cc06",
   "metadata": {
    "execution": {
     "iopub.execute_input": "2023-12-10T19:44:40.933434Z",
     "iopub.status.busy": "2023-12-10T19:44:40.933192Z",
     "iopub.status.idle": "2023-12-10T19:44:40.936654Z",
     "shell.execute_reply": "2023-12-10T19:44:40.935896Z"
    },
    "papermill": {
     "duration": 0.031216,
     "end_time": "2023-12-10T19:44:40.938558",
     "exception": false,
     "start_time": "2023-12-10T19:44:40.907342",
     "status": "completed"
    },
    "tags": []
   },
   "outputs": [],
   "source": [
    "val_accuracy = []\n",
    "train_accuracy = []"
   ]
  },
  {
   "cell_type": "code",
   "execution_count": 49,
   "id": "cd7e0307",
   "metadata": {
    "execution": {
     "iopub.execute_input": "2023-12-10T19:44:40.990398Z",
     "iopub.status.busy": "2023-12-10T19:44:40.990128Z",
     "iopub.status.idle": "2023-12-10T19:44:40.994547Z",
     "shell.execute_reply": "2023-12-10T19:44:40.993739Z"
    },
    "papermill": {
     "duration": 0.032525,
     "end_time": "2023-12-10T19:44:40.996594",
     "exception": false,
     "start_time": "2023-12-10T19:44:40.964069",
     "status": "completed"
    },
    "tags": []
   },
   "outputs": [
    {
     "name": "stdout",
     "output_type": "stream",
     "text": [
      "torch.Size([40000, 3, 32, 32])\n",
      "torch.Size([40000])\n"
     ]
    }
   ],
   "source": [
    "print(x_train_scaled.shape)\n",
    "print(y_train.shape)"
   ]
  },
  {
   "cell_type": "code",
   "execution_count": 50,
   "id": "ab89a38c",
   "metadata": {
    "execution": {
     "iopub.execute_input": "2023-12-10T19:44:41.048472Z",
     "iopub.status.busy": "2023-12-10T19:44:41.048221Z",
     "iopub.status.idle": "2023-12-10T19:46:54.106830Z",
     "shell.execute_reply": "2023-12-10T19:46:54.105937Z"
    },
    "papermill": {
     "duration": 133.087814,
     "end_time": "2023-12-10T19:46:54.109745",
     "exception": false,
     "start_time": "2023-12-10T19:44:41.021931",
     "status": "completed"
    },
    "tags": []
   },
   "outputs": [
    {
     "name": "stdout",
     "output_type": "stream",
     "text": [
      "Epoch [1/10], Train Accuracy: 0.6600, Validation Accuracy: 0.6816\n",
      "Epoch [2/10], Train Accuracy: 0.7400, Validation Accuracy: 0.7684\n",
      "Epoch [3/10], Train Accuracy: 0.7800, Validation Accuracy: 0.7964\n",
      "Epoch [4/10], Train Accuracy: 0.8800, Validation Accuracy: 0.8154\n",
      "Epoch [5/10], Train Accuracy: 0.8500, Validation Accuracy: 0.8198\n",
      "Epoch [6/10], Train Accuracy: 0.8800, Validation Accuracy: 0.8266\n",
      "Epoch [7/10], Train Accuracy: 0.8700, Validation Accuracy: 0.8252\n",
      "Epoch [8/10], Train Accuracy: 0.9200, Validation Accuracy: 0.8298\n",
      "Epoch [9/10], Train Accuracy: 0.9600, Validation Accuracy: 0.8366\n",
      "Epoch [10/10], Train Accuracy: 0.8900, Validation Accuracy: 0.8386\n"
     ]
    },
    {
     "data": {
      "image/png": "[encoded data removed]",
      "text/plain": [
       "<Figure size 640x480 with 1 Axes>"
      ]
     },
     "metadata": {},
     "output_type": "display_data"
    }
   ],
   "source": [
    "num_epochs = 10\n",
    "for epoch in range(num_epochs):\n",
    "    model.train()\n",
    "    for inputs, labels in train_loader:\n",
    "        inputs, labels = inputs.to(device), labels.to(device)\n",
    "        optimizer.zero_grad()\n",
    "        outputs = model(inputs)\n",
    "        loss = criterion(outputs, labels)  # No need to specify dim when using class indices\n",
    "        loss.backward()\n",
    "        optimizer.step()\n",
    "\n",
    "    # Evaluation on validation set\n",
    "    model.eval()\n",
    "    with torch.no_grad():\n",
    "        \n",
    "        # Calculate training accuracy\n",
    "        _, train_pred = torch.max(outputs, 1)\n",
    "        train_acc = torch.sum(train_pred == labels).item() / len(labels)\n",
    "        train_accuracy.append(train_acc)\n",
    "        \n",
    "        # x_val_scaled and y_val are validation data\n",
    "        \n",
    "        x_val_scaled, y_val = x_val_scaled.to(device), y_val.to(device)\n",
    "\n",
    "        # Forward pass\n",
    "        val_outputs = model(x_val_scaled)\n",
    "        val_loss = criterion(val_outputs, y_val)\n",
    "\n",
    "        # Calculate accuracy\n",
    "        _, val_pred = torch.max(val_outputs, 1)\n",
    "        val_acc = torch.sum(val_pred == y_val).item() / len(y_val)\n",
    "        val_accuracy.append(val_acc)\n",
    "\n",
    "    # Print and store metrics\n",
    "    print(f'Epoch [{epoch+1}/{num_epochs}], Train Accuracy: {train_acc:.4f}, Validation Accuracy: {val_acc:.4f}')\n",
    "\n",
    "# Plot accuracy\n",
    "plt.plot(train_accuracy, label='Train Accuracy')\n",
    "plt.plot(val_accuracy, label='Validation Accuracy')\n",
    "plt.legend()\n",
    "plt.xlabel('Epochs')\n",
    "plt.ylabel('Accuracy')\n",
    "plt.title('Training and Validation Accuracy')\n",
    "plt.show()\n"
   ]
  },
  {
   "cell_type": "markdown",
   "id": "09e3fb35",
   "metadata": {
    "papermill": {
     "duration": 0.031272,
     "end_time": "2023-12-10T19:46:54.171613",
     "exception": false,
     "start_time": "2023-12-10T19:46:54.140341",
     "status": "completed"
    },
    "tags": []
   },
   "source": [
    "# Model Evaluation with different metrics and plot"
   ]
  },
  {
   "cell_type": "code",
   "execution_count": 51,
   "id": "9d61f2ee",
   "metadata": {
    "execution": {
     "iopub.execute_input": "2023-12-10T19:46:54.228000Z",
     "iopub.status.busy": "2023-12-10T19:46:54.227648Z",
     "iopub.status.idle": "2023-12-10T19:46:54.498747Z",
     "shell.execute_reply": "2023-12-10T19:46:54.497484Z"
    },
    "papermill": {
     "duration": 0.302367,
     "end_time": "2023-12-10T19:46:54.501600",
     "exception": false,
     "start_time": "2023-12-10T19:46:54.199233",
     "status": "completed"
    },
    "tags": []
   },
   "outputs": [],
   "source": [
    "from sklearn.metrics import confusion_matrix\n",
    "import seaborn as sns\n",
    "from sklearn.metrics import accuracy_score, f1_score"
   ]
  },
  {
   "cell_type": "code",
   "execution_count": 52,
   "id": "4aa5e1c7",
   "metadata": {
    "execution": {
     "iopub.execute_input": "2023-12-10T19:46:54.572473Z",
     "iopub.status.busy": "2023-12-10T19:46:54.572124Z",
     "iopub.status.idle": "2023-12-10T19:46:55.960270Z",
     "shell.execute_reply": "2023-12-10T19:46:55.959321Z"
    },
    "papermill": {
     "duration": 1.421951,
     "end_time": "2023-12-10T19:46:55.962637",
     "exception": false,
     "start_time": "2023-12-10T19:46:54.540686",
     "status": "completed"
    },
    "tags": []
   },
   "outputs": [
    {
     "name": "stdout",
     "output_type": "stream",
     "text": [
      "Test Accuracy: 0.8382\n",
      "Test F1 Score: 0.8360\n",
      "\n"
     ]
    },
    {
     "data": {
      "image/png": "[encoded data removed]",
      "text/plain": [
       "<Figure size 1500x700 with 2 Axes>"
      ]
     },
     "metadata": {},
     "output_type": "display_data"
    }
   ],
   "source": [
    "model.eval()\n",
    "with torch.no_grad():\n",
    "    x_test_scaled, y_test = x_test_scaled.to(device), y_test.to(device)\n",
    "\n",
    "    # Forward pass on test set\n",
    "    test_outputs = model(x_test_scaled)\n",
    "\n",
    "    # Calculate predictions and confusion matrix\n",
    "    _, test_pred = torch.max(test_outputs, 1)\n",
    "    conf_mat = confusion_matrix(y_test.cpu().numpy(), test_pred.cpu().numpy())\n",
    "    \n",
    "    # Calculate test accuracy\n",
    "    test_acc = accuracy_score(y_test.cpu().numpy(), test_pred.cpu().numpy())\n",
    "\n",
    "    # Calculate F1 score\n",
    "    test_f1 = f1_score(y_test.cpu().numpy(), test_pred.cpu().numpy(), average='weighted')\n",
    "\n",
    "# Print test accuracy and F1 score\n",
    "print(f'Test Accuracy: {test_acc:.4f}')\n",
    "print(f'Test F1 Score: {test_f1:.4f}\\n')\n",
    "\n",
    "# Plot confusion matrix\n",
    "plt.figure(figsize=(15, 7))\n",
    "sns.heatmap(conf_mat, annot=True, fmt='d', cmap='Blues')\n",
    "plt.ylabel('True Labels')\n",
    "plt.xlabel('Predicted Labels')\n",
    "plt.title('Confusion Matrix')\n",
    "plt.show()"
   ]
  },
  {
   "cell_type": "markdown",
   "id": "1e68ef7e",
   "metadata": {
    "papermill": {
     "duration": 0.02776,
     "end_time": "2023-12-10T19:46:56.019804",
     "exception": false,
     "start_time": "2023-12-10T19:46:55.992044",
     "status": "completed"
    },
    "tags": []
   },
   "source": [
    "# Saving the model"
   ]
  },
  {
   "cell_type": "code",
   "execution_count": 53,
   "id": "76878a2e",
   "metadata": {
    "execution": {
     "iopub.execute_input": "2023-12-10T19:46:56.076602Z",
     "iopub.status.busy": "2023-12-10T19:46:56.076281Z",
     "iopub.status.idle": "2023-12-10T19:46:56.161592Z",
     "shell.execute_reply": "2023-12-10T19:46:56.160806Z"
    },
    "papermill": {
     "duration": 0.116642,
     "end_time": "2023-12-10T19:46:56.163961",
     "exception": false,
     "start_time": "2023-12-10T19:46:56.047319",
     "status": "completed"
    },
    "tags": []
   },
   "outputs": [],
   "source": [
    "# Save the model state dictionary\n",
    "torch.save(model.state_dict(), '/kaggle/working/CIFAR_resnet_model.pth')"
   ]
  }
 ],
 "metadata": {
  "kaggle": {
   "accelerator": "none",
   "dataSources": [
    {
     "databundleVersionId": 46718,
     "sourceId": 3649,
     "sourceType": "competition"
    },
    {
     "sourceId": 152217357,
     "sourceType": "kernelVersion"
    }
   ],
   "dockerImageVersionId": 30588,
   "isGpuEnabled": false,
   "isInternetEnabled": true,
   "language": "python",
   "sourceType": "notebook"
  },
  "kernelspec": {
   "display_name": "Python 3 (ipykernel)",
   "language": "python",
   "name": "python3"
  },
  "language_info": {
   "codemirror_mode": {
    "name": "ipython",
    "version": 3
   },
   "file_extension": ".py",
   "mimetype": "text/x-python",
   "name": "python",
   "nbconvert_exporter": "python",
   "pygments_lexer": "ipython3",
   "version": "3.10.12"
  },
  "papermill": {
   "default_parameters": {},
   "duration": 162.549647,
   "end_time": "2023-12-10T19:46:58.416667",
   "environment_variables": {},
   "exception": null,
   "input_path": "__notebook__.ipynb",
   "output_path": "__notebook__.ipynb",
   "parameters": {},
   "start_time": "2023-12-10T19:44:15.867020",
   "version": "2.4.0"
  }
 },
 "nbformat": 4,
 "nbformat_minor": 5
}
