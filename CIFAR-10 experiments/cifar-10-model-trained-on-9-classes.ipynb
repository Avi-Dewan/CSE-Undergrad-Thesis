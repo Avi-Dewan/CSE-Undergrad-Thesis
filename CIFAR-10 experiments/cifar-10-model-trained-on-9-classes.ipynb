{
 "cells": [
  {
   "cell_type": "markdown",
   "id": "53931902",
   "metadata": {
    "papermill": {
     "duration": 0.019195,
     "end_time": "2023-11-26T04:37:33.887756",
     "exception": false,
     "start_time": "2023-11-26T04:37:33.868561",
     "status": "completed"
    },
    "tags": []
   },
   "source": [
    "# **Importing dependencies**"
   ]
  },
  {
   "cell_type": "code",
   "execution_count": 1,
   "id": "2d189c23",
   "metadata": {
    "execution": {
     "iopub.execute_input": "2023-11-26T04:37:33.926734Z",
     "iopub.status.busy": "2023-11-26T04:37:33.926053Z",
     "iopub.status.idle": "2023-11-26T04:37:35.748536Z",
     "shell.execute_reply": "2023-11-26T04:37:35.747629Z"
    },
    "papermill": {
     "duration": 1.844672,
     "end_time": "2023-11-26T04:37:35.751098",
     "exception": false,
     "start_time": "2023-11-26T04:37:33.906426",
     "status": "completed"
    },
    "tags": []
   },
   "outputs": [
    {
     "name": "stderr",
     "output_type": "stream",
     "text": [
      "/opt/conda/lib/python3.10/site-packages/scipy/__init__.py:146: UserWarning: A NumPy version >=1.16.5 and <1.23.0 is required for this version of SciPy (detected version 1.24.3\n",
      "  warnings.warn(f\"A NumPy version >={np_minversion} and <{np_maxversion}\"\n"
     ]
    }
   ],
   "source": [
    "import os\n",
    "import cv2\n",
    "import numpy as np\n",
    "import pandas as pd\n",
    "from PIL import Image\n",
    "import matplotlib.pyplot as plt\n",
    "import matplotlib.image as mpimg\n",
    "from sklearn.model_selection import train_test_split"
   ]
  },
  {
   "cell_type": "markdown",
   "id": "e0d0b9e0",
   "metadata": {
    "papermill": {
     "duration": 0.021083,
     "end_time": "2023-11-26T04:37:35.792907",
     "exception": false,
     "start_time": "2023-11-26T04:37:35.771824",
     "status": "completed"
    },
    "tags": []
   },
   "source": [
    "# Image Processing"
   ]
  },
  {
   "cell_type": "markdown",
   "id": "571f0d9e",
   "metadata": {
    "papermill": {
     "duration": 0.019447,
     "end_time": "2023-11-26T04:37:35.832075",
     "exception": false,
     "start_time": "2023-11-26T04:37:35.812628",
     "status": "completed"
    },
    "tags": []
   },
   "source": [
    "**Convert images to numpy arrays**\n",
    "\n",
    "Done in traing in Extracting train notebook\n",
    "\n",
    "Exporting the process image of numpyarray in data from extracting-train notebook"
   ]
  },
  {
   "cell_type": "code",
   "execution_count": 2,
   "id": "a3cbdce6",
   "metadata": {
    "execution": {
     "iopub.execute_input": "2023-11-26T04:37:35.873999Z",
     "iopub.status.busy": "2023-11-26T04:37:35.873506Z",
     "iopub.status.idle": "2023-11-26T04:37:37.135547Z",
     "shell.execute_reply": "2023-11-26T04:37:37.134467Z"
    },
    "papermill": {
     "duration": 1.286324,
     "end_time": "2023-11-26T04:37:37.137947",
     "exception": false,
     "start_time": "2023-11-26T04:37:35.851623",
     "status": "completed"
    },
    "tags": []
   },
   "outputs": [],
   "source": [
    "# Load the data\n",
    "loaded_data = np.load('/kaggle/input/extracting-train/training_data.npz')\n",
    "\n",
    "# Access the NumPy array\n",
    "data = loaded_data['data']"
   ]
  },
  {
   "cell_type": "code",
   "execution_count": 3,
   "id": "12e4b3b5",
   "metadata": {
    "execution": {
     "iopub.execute_input": "2023-11-26T04:37:37.179890Z",
     "iopub.status.busy": "2023-11-26T04:37:37.179494Z",
     "iopub.status.idle": "2023-11-26T04:37:37.184632Z",
     "shell.execute_reply": "2023-11-26T04:37:37.183711Z"
    },
    "papermill": {
     "duration": 0.028578,
     "end_time": "2023-11-26T04:37:37.186854",
     "exception": false,
     "start_time": "2023-11-26T04:37:37.158276",
     "status": "completed"
    },
    "tags": []
   },
   "outputs": [
    {
     "name": "stdout",
     "output_type": "stream",
     "text": [
      "Number of images:  50000\n"
     ]
    }
   ],
   "source": [
    "image_count = data.shape[0]\n",
    "print('Number of images: ', image_count)"
   ]
  },
  {
   "cell_type": "markdown",
   "id": "f6dc3314",
   "metadata": {
    "papermill": {
     "duration": 0.019521,
     "end_time": "2023-11-26T04:37:37.226429",
     "exception": false,
     "start_time": "2023-11-26T04:37:37.206908",
     "status": "completed"
    },
    "tags": []
   },
   "source": [
    "# **Labels Processing**"
   ]
  },
  {
   "cell_type": "code",
   "execution_count": 4,
   "id": "8c171241",
   "metadata": {
    "execution": {
     "iopub.execute_input": "2023-11-26T04:37:37.268168Z",
     "iopub.status.busy": "2023-11-26T04:37:37.267450Z",
     "iopub.status.idle": "2023-11-26T04:37:37.306440Z",
     "shell.execute_reply": "2023-11-26T04:37:37.305497Z"
    },
    "papermill": {
     "duration": 0.062436,
     "end_time": "2023-11-26T04:37:37.308915",
     "exception": false,
     "start_time": "2023-11-26T04:37:37.246479",
     "status": "completed"
    },
    "tags": []
   },
   "outputs": [],
   "source": [
    "labels_df = pd.read_csv('/kaggle/input/cifar-10/trainLabels.csv')"
   ]
  },
  {
   "cell_type": "code",
   "execution_count": 5,
   "id": "00f87af0",
   "metadata": {
    "execution": {
     "iopub.execute_input": "2023-11-26T04:37:37.400223Z",
     "iopub.status.busy": "2023-11-26T04:37:37.399483Z",
     "iopub.status.idle": "2023-11-26T04:37:37.406566Z",
     "shell.execute_reply": "2023-11-26T04:37:37.405594Z"
    },
    "papermill": {
     "duration": 0.03074,
     "end_time": "2023-11-26T04:37:37.408690",
     "exception": false,
     "start_time": "2023-11-26T04:37:37.377950",
     "status": "completed"
    },
    "tags": []
   },
   "outputs": [
    {
     "data": {
      "text/plain": [
       "(50000, 2)"
      ]
     },
     "execution_count": 5,
     "metadata": {},
     "output_type": "execute_result"
    }
   ],
   "source": [
    "labels_df.shape"
   ]
  },
  {
   "cell_type": "code",
   "execution_count": 6,
   "id": "3c4977e2",
   "metadata": {
    "execution": {
     "iopub.execute_input": "2023-11-26T04:37:37.452191Z",
     "iopub.status.busy": "2023-11-26T04:37:37.451825Z",
     "iopub.status.idle": "2023-11-26T04:37:37.467764Z",
     "shell.execute_reply": "2023-11-26T04:37:37.466706Z"
    },
    "papermill": {
     "duration": 0.040833,
     "end_time": "2023-11-26T04:37:37.470287",
     "exception": false,
     "start_time": "2023-11-26T04:37:37.429454",
     "status": "completed"
    },
    "tags": []
   },
   "outputs": [
    {
     "data": {
      "text/html": [
       "<div>\n",
       "<style scoped>\n",
       "    .dataframe tbody tr th:only-of-type {\n",
       "        vertical-align: middle;\n",
       "    }\n",
       "\n",
       "    .dataframe tbody tr th {\n",
       "        vertical-align: top;\n",
       "    }\n",
       "\n",
       "    .dataframe thead th {\n",
       "        text-align: right;\n",
       "    }\n",
       "</style>\n",
       "<table border=\"1\" class=\"dataframe\">\n",
       "  <thead>\n",
       "    <tr style=\"text-align: right;\">\n",
       "      <th></th>\n",
       "      <th>id</th>\n",
       "      <th>label</th>\n",
       "    </tr>\n",
       "  </thead>\n",
       "  <tbody>\n",
       "    <tr>\n",
       "      <th>0</th>\n",
       "      <td>1</td>\n",
       "      <td>frog</td>\n",
       "    </tr>\n",
       "    <tr>\n",
       "      <th>1</th>\n",
       "      <td>2</td>\n",
       "      <td>truck</td>\n",
       "    </tr>\n",
       "    <tr>\n",
       "      <th>2</th>\n",
       "      <td>3</td>\n",
       "      <td>truck</td>\n",
       "    </tr>\n",
       "    <tr>\n",
       "      <th>3</th>\n",
       "      <td>4</td>\n",
       "      <td>deer</td>\n",
       "    </tr>\n",
       "    <tr>\n",
       "      <th>4</th>\n",
       "      <td>5</td>\n",
       "      <td>automobile</td>\n",
       "    </tr>\n",
       "  </tbody>\n",
       "</table>\n",
       "</div>"
      ],
      "text/plain": [
       "   id       label\n",
       "0   1        frog\n",
       "1   2       truck\n",
       "2   3       truck\n",
       "3   4        deer\n",
       "4   5  automobile"
      ]
     },
     "execution_count": 6,
     "metadata": {},
     "output_type": "execute_result"
    }
   ],
   "source": [
    "labels_df.head()"
   ]
  },
  {
   "cell_type": "code",
   "execution_count": 7,
   "id": "7129cd93",
   "metadata": {
    "execution": {
     "iopub.execute_input": "2023-11-26T04:37:37.512612Z",
     "iopub.status.busy": "2023-11-26T04:37:37.512224Z",
     "iopub.status.idle": "2023-11-26T04:37:37.524230Z",
     "shell.execute_reply": "2023-11-26T04:37:37.523208Z"
    },
    "papermill": {
     "duration": 0.035833,
     "end_time": "2023-11-26T04:37:37.526666",
     "exception": false,
     "start_time": "2023-11-26T04:37:37.490833",
     "status": "completed"
    },
    "tags": []
   },
   "outputs": [
    {
     "data": {
      "text/html": [
       "<div>\n",
       "<style scoped>\n",
       "    .dataframe tbody tr th:only-of-type {\n",
       "        vertical-align: middle;\n",
       "    }\n",
       "\n",
       "    .dataframe tbody tr th {\n",
       "        vertical-align: top;\n",
       "    }\n",
       "\n",
       "    .dataframe thead th {\n",
       "        text-align: right;\n",
       "    }\n",
       "</style>\n",
       "<table border=\"1\" class=\"dataframe\">\n",
       "  <thead>\n",
       "    <tr style=\"text-align: right;\">\n",
       "      <th></th>\n",
       "      <th>id</th>\n",
       "      <th>label</th>\n",
       "    </tr>\n",
       "  </thead>\n",
       "  <tbody>\n",
       "    <tr>\n",
       "      <th>7795</th>\n",
       "      <td>7796</td>\n",
       "      <td>frog</td>\n",
       "    </tr>\n",
       "  </tbody>\n",
       "</table>\n",
       "</div>"
      ],
      "text/plain": [
       "        id label\n",
       "7795  7796  frog"
      ]
     },
     "execution_count": 7,
     "metadata": {},
     "output_type": "execute_result"
    }
   ],
   "source": [
    "labels_df[labels_df['id'] == 7796]"
   ]
  },
  {
   "cell_type": "code",
   "execution_count": 8,
   "id": "350fe299",
   "metadata": {
    "execution": {
     "iopub.execute_input": "2023-11-26T04:37:37.572064Z",
     "iopub.status.busy": "2023-11-26T04:37:37.571402Z",
     "iopub.status.idle": "2023-11-26T04:37:37.581311Z",
     "shell.execute_reply": "2023-11-26T04:37:37.580323Z"
    },
    "papermill": {
     "duration": 0.034295,
     "end_time": "2023-11-26T04:37:37.583597",
     "exception": false,
     "start_time": "2023-11-26T04:37:37.549302",
     "status": "completed"
    },
    "tags": []
   },
   "outputs": [
    {
     "data": {
      "text/html": [
       "<div>\n",
       "<style scoped>\n",
       "    .dataframe tbody tr th:only-of-type {\n",
       "        vertical-align: middle;\n",
       "    }\n",
       "\n",
       "    .dataframe tbody tr th {\n",
       "        vertical-align: top;\n",
       "    }\n",
       "\n",
       "    .dataframe thead th {\n",
       "        text-align: right;\n",
       "    }\n",
       "</style>\n",
       "<table border=\"1\" class=\"dataframe\">\n",
       "  <thead>\n",
       "    <tr style=\"text-align: right;\">\n",
       "      <th></th>\n",
       "      <th>id</th>\n",
       "      <th>label</th>\n",
       "    </tr>\n",
       "  </thead>\n",
       "  <tbody>\n",
       "    <tr>\n",
       "      <th>0</th>\n",
       "      <td>1</td>\n",
       "      <td>frog</td>\n",
       "    </tr>\n",
       "    <tr>\n",
       "      <th>1</th>\n",
       "      <td>2</td>\n",
       "      <td>truck</td>\n",
       "    </tr>\n",
       "    <tr>\n",
       "      <th>2</th>\n",
       "      <td>3</td>\n",
       "      <td>truck</td>\n",
       "    </tr>\n",
       "    <tr>\n",
       "      <th>3</th>\n",
       "      <td>4</td>\n",
       "      <td>deer</td>\n",
       "    </tr>\n",
       "    <tr>\n",
       "      <th>4</th>\n",
       "      <td>5</td>\n",
       "      <td>automobile</td>\n",
       "    </tr>\n",
       "    <tr>\n",
       "      <th>5</th>\n",
       "      <td>6</td>\n",
       "      <td>automobile</td>\n",
       "    </tr>\n",
       "    <tr>\n",
       "      <th>6</th>\n",
       "      <td>7</td>\n",
       "      <td>bird</td>\n",
       "    </tr>\n",
       "    <tr>\n",
       "      <th>7</th>\n",
       "      <td>8</td>\n",
       "      <td>horse</td>\n",
       "    </tr>\n",
       "    <tr>\n",
       "      <th>8</th>\n",
       "      <td>9</td>\n",
       "      <td>ship</td>\n",
       "    </tr>\n",
       "    <tr>\n",
       "      <th>9</th>\n",
       "      <td>10</td>\n",
       "      <td>cat</td>\n",
       "    </tr>\n",
       "  </tbody>\n",
       "</table>\n",
       "</div>"
      ],
      "text/plain": [
       "   id       label\n",
       "0   1        frog\n",
       "1   2       truck\n",
       "2   3       truck\n",
       "3   4        deer\n",
       "4   5  automobile\n",
       "5   6  automobile\n",
       "6   7        bird\n",
       "7   8       horse\n",
       "8   9        ship\n",
       "9  10         cat"
      ]
     },
     "execution_count": 8,
     "metadata": {},
     "output_type": "execute_result"
    }
   ],
   "source": [
    "labels_df.head(10)"
   ]
  },
  {
   "cell_type": "code",
   "execution_count": 9,
   "id": "4609bbf3",
   "metadata": {
    "execution": {
     "iopub.execute_input": "2023-11-26T04:37:37.631705Z",
     "iopub.status.busy": "2023-11-26T04:37:37.631360Z",
     "iopub.status.idle": "2023-11-26T04:37:37.642342Z",
     "shell.execute_reply": "2023-11-26T04:37:37.641017Z"
    },
    "papermill": {
     "duration": 0.037837,
     "end_time": "2023-11-26T04:37:37.644855",
     "exception": false,
     "start_time": "2023-11-26T04:37:37.607018",
     "status": "completed"
    },
    "tags": []
   },
   "outputs": [
    {
     "data": {
      "text/html": [
       "<div>\n",
       "<style scoped>\n",
       "    .dataframe tbody tr th:only-of-type {\n",
       "        vertical-align: middle;\n",
       "    }\n",
       "\n",
       "    .dataframe tbody tr th {\n",
       "        vertical-align: top;\n",
       "    }\n",
       "\n",
       "    .dataframe thead th {\n",
       "        text-align: right;\n",
       "    }\n",
       "</style>\n",
       "<table border=\"1\" class=\"dataframe\">\n",
       "  <thead>\n",
       "    <tr style=\"text-align: right;\">\n",
       "      <th></th>\n",
       "      <th>id</th>\n",
       "      <th>label</th>\n",
       "    </tr>\n",
       "  </thead>\n",
       "  <tbody>\n",
       "    <tr>\n",
       "      <th>49990</th>\n",
       "      <td>49991</td>\n",
       "      <td>deer</td>\n",
       "    </tr>\n",
       "    <tr>\n",
       "      <th>49991</th>\n",
       "      <td>49992</td>\n",
       "      <td>bird</td>\n",
       "    </tr>\n",
       "    <tr>\n",
       "      <th>49992</th>\n",
       "      <td>49993</td>\n",
       "      <td>airplane</td>\n",
       "    </tr>\n",
       "    <tr>\n",
       "      <th>49993</th>\n",
       "      <td>49994</td>\n",
       "      <td>automobile</td>\n",
       "    </tr>\n",
       "    <tr>\n",
       "      <th>49994</th>\n",
       "      <td>49995</td>\n",
       "      <td>airplane</td>\n",
       "    </tr>\n",
       "    <tr>\n",
       "      <th>49995</th>\n",
       "      <td>49996</td>\n",
       "      <td>bird</td>\n",
       "    </tr>\n",
       "    <tr>\n",
       "      <th>49996</th>\n",
       "      <td>49997</td>\n",
       "      <td>frog</td>\n",
       "    </tr>\n",
       "    <tr>\n",
       "      <th>49997</th>\n",
       "      <td>49998</td>\n",
       "      <td>truck</td>\n",
       "    </tr>\n",
       "    <tr>\n",
       "      <th>49998</th>\n",
       "      <td>49999</td>\n",
       "      <td>automobile</td>\n",
       "    </tr>\n",
       "    <tr>\n",
       "      <th>49999</th>\n",
       "      <td>50000</td>\n",
       "      <td>automobile</td>\n",
       "    </tr>\n",
       "  </tbody>\n",
       "</table>\n",
       "</div>"
      ],
      "text/plain": [
       "          id       label\n",
       "49990  49991        deer\n",
       "49991  49992        bird\n",
       "49992  49993    airplane\n",
       "49993  49994  automobile\n",
       "49994  49995    airplane\n",
       "49995  49996        bird\n",
       "49996  49997        frog\n",
       "49997  49998       truck\n",
       "49998  49999  automobile\n",
       "49999  50000  automobile"
      ]
     },
     "execution_count": 9,
     "metadata": {},
     "output_type": "execute_result"
    }
   ],
   "source": [
    "labels_df.tail(10)"
   ]
  },
  {
   "cell_type": "markdown",
   "id": "464d1c3f",
   "metadata": {
    "papermill": {
     "duration": 0.023637,
     "end_time": "2023-11-26T04:37:37.695247",
     "exception": false,
     "start_time": "2023-11-26T04:37:37.671610",
     "status": "completed"
    },
    "tags": []
   },
   "source": [
    "Labels are marked serially by id and evenly distributed ( below )"
   ]
  },
  {
   "cell_type": "code",
   "execution_count": 10,
   "id": "4f6db9e7",
   "metadata": {
    "execution": {
     "iopub.execute_input": "2023-11-26T04:37:37.744064Z",
     "iopub.status.busy": "2023-11-26T04:37:37.742887Z",
     "iopub.status.idle": "2023-11-26T04:37:37.763381Z",
     "shell.execute_reply": "2023-11-26T04:37:37.762504Z"
    },
    "papermill": {
     "duration": 0.049075,
     "end_time": "2023-11-26T04:37:37.765814",
     "exception": false,
     "start_time": "2023-11-26T04:37:37.716739",
     "status": "completed"
    },
    "tags": []
   },
   "outputs": [
    {
     "data": {
      "text/plain": [
       "label\n",
       "frog          5000\n",
       "truck         5000\n",
       "deer          5000\n",
       "automobile    5000\n",
       "bird          5000\n",
       "horse         5000\n",
       "ship          5000\n",
       "cat           5000\n",
       "dog           5000\n",
       "airplane      5000\n",
       "Name: count, dtype: int64"
      ]
     },
     "execution_count": 10,
     "metadata": {},
     "output_type": "execute_result"
    }
   ],
   "source": [
    "labels_df['label'].value_counts()"
   ]
  },
  {
   "cell_type": "code",
   "execution_count": 11,
   "id": "b6d7d8d0",
   "metadata": {
    "execution": {
     "iopub.execute_input": "2023-11-26T04:37:37.819720Z",
     "iopub.status.busy": "2023-11-26T04:37:37.819267Z",
     "iopub.status.idle": "2023-11-26T04:37:37.828303Z",
     "shell.execute_reply": "2023-11-26T04:37:37.827286Z"
    },
    "papermill": {
     "duration": 0.037492,
     "end_time": "2023-11-26T04:37:37.830282",
     "exception": false,
     "start_time": "2023-11-26T04:37:37.792790",
     "status": "completed"
    },
    "tags": []
   },
   "outputs": [
    {
     "data": {
      "text/plain": [
       "0              frog\n",
       "1             truck\n",
       "2             truck\n",
       "3              deer\n",
       "4        automobile\n",
       "            ...    \n",
       "49995          bird\n",
       "49996          frog\n",
       "49997         truck\n",
       "49998    automobile\n",
       "49999    automobile\n",
       "Name: label, Length: 50000, dtype: object"
      ]
     },
     "execution_count": 11,
     "metadata": {},
     "output_type": "execute_result"
    }
   ],
   "source": [
    "labels_df['label']"
   ]
  },
  {
   "cell_type": "code",
   "execution_count": 12,
   "id": "fdc930d6",
   "metadata": {
    "execution": {
     "iopub.execute_input": "2023-11-26T04:37:37.876466Z",
     "iopub.status.busy": "2023-11-26T04:37:37.876024Z",
     "iopub.status.idle": "2023-11-26T04:37:37.891956Z",
     "shell.execute_reply": "2023-11-26T04:37:37.891019Z"
    },
    "papermill": {
     "duration": 0.041054,
     "end_time": "2023-11-26T04:37:37.894123",
     "exception": false,
     "start_time": "2023-11-26T04:37:37.853069",
     "status": "completed"
    },
    "tags": []
   },
   "outputs": [],
   "source": [
    "labels_dictionary = {'airplane':0, 'automobile':1, 'bird':2, 'cat':3, 'deer':4, 'dog':5, 'frog':6, 'horse':7, 'ship':8, 'truck':9}\n",
    "\n",
    "labels = [labels_dictionary[i] for i in labels_df['label']]"
   ]
  },
  {
   "cell_type": "code",
   "execution_count": 13,
   "id": "a90906fb",
   "metadata": {
    "execution": {
     "iopub.execute_input": "2023-11-26T04:37:37.941626Z",
     "iopub.status.busy": "2023-11-26T04:37:37.940931Z",
     "iopub.status.idle": "2023-11-26T04:37:37.945941Z",
     "shell.execute_reply": "2023-11-26T04:37:37.945037Z"
    },
    "papermill": {
     "duration": 0.029532,
     "end_time": "2023-11-26T04:37:37.948249",
     "exception": false,
     "start_time": "2023-11-26T04:37:37.918717",
     "status": "completed"
    },
    "tags": []
   },
   "outputs": [
    {
     "name": "stdout",
     "output_type": "stream",
     "text": [
      "[6, 9, 9, 4, 1]\n",
      "[2, 6, 9, 1, 1]\n"
     ]
    }
   ],
   "source": [
    "print(labels[0:5])\n",
    "print(labels[-5:])"
   ]
  },
  {
   "cell_type": "code",
   "execution_count": 14,
   "id": "18e494f8",
   "metadata": {
    "execution": {
     "iopub.execute_input": "2023-11-26T04:37:37.990838Z",
     "iopub.status.busy": "2023-11-26T04:37:37.990529Z",
     "iopub.status.idle": "2023-11-26T04:37:37.995963Z",
     "shell.execute_reply": "2023-11-26T04:37:37.995125Z"
    },
    "papermill": {
     "duration": 0.028599,
     "end_time": "2023-11-26T04:37:37.997920",
     "exception": false,
     "start_time": "2023-11-26T04:37:37.969321",
     "status": "completed"
    },
    "tags": []
   },
   "outputs": [
    {
     "data": {
      "text/plain": [
       "50000"
      ]
     },
     "execution_count": 14,
     "metadata": {},
     "output_type": "execute_result"
    }
   ],
   "source": [
    "len(labels)"
   ]
  },
  {
   "cell_type": "markdown",
   "id": "3ee18d55",
   "metadata": {
    "papermill": {
     "duration": 0.025476,
     "end_time": "2023-11-26T04:37:38.044833",
     "exception": false,
     "start_time": "2023-11-26T04:37:38.019357",
     "status": "completed"
    },
    "tags": []
   },
   "source": [
    "Checking labels correctness:"
   ]
  },
  {
   "cell_type": "code",
   "execution_count": 15,
   "id": "cf07a6a4",
   "metadata": {
    "execution": {
     "iopub.execute_input": "2023-11-26T04:37:38.092244Z",
     "iopub.status.busy": "2023-11-26T04:37:38.091574Z",
     "iopub.status.idle": "2023-11-26T04:37:38.314803Z",
     "shell.execute_reply": "2023-11-26T04:37:38.313751Z"
    },
    "papermill": {
     "duration": 0.248271,
     "end_time": "2023-11-26T04:37:38.317082",
     "exception": false,
     "start_time": "2023-11-26T04:37:38.068811",
     "status": "completed"
    },
    "tags": []
   },
   "outputs": [
    {
     "data": {
      "text/plain": [
       "<matplotlib.image.AxesImage at 0x7e540bbddcf0>"
      ]
     },
     "execution_count": 15,
     "metadata": {},
     "output_type": "execute_result"
    },
    {
     "data": {
      "image/png": "[encoded data removed]",
      "text/plain": [
       "<Figure size 200x100 with 1 Axes>"
      ]
     },
     "metadata": {},
     "output_type": "display_data"
    }
   ],
   "source": [
    "img = data[9998]\n",
    "plt.figure(figsize=(2,1))\n",
    "plt.imshow(img)"
   ]
  },
  {
   "cell_type": "code",
   "execution_count": 16,
   "id": "6f44cdd0",
   "metadata": {
    "execution": {
     "iopub.execute_input": "2023-11-26T04:37:38.362507Z",
     "iopub.status.busy": "2023-11-26T04:37:38.362125Z",
     "iopub.status.idle": "2023-11-26T04:37:38.372416Z",
     "shell.execute_reply": "2023-11-26T04:37:38.371227Z"
    },
    "papermill": {
     "duration": 0.035464,
     "end_time": "2023-11-26T04:37:38.374487",
     "exception": false,
     "start_time": "2023-11-26T04:37:38.339023",
     "status": "completed"
    },
    "tags": []
   },
   "outputs": [
    {
     "data": {
      "text/html": [
       "<div>\n",
       "<style scoped>\n",
       "    .dataframe tbody tr th:only-of-type {\n",
       "        vertical-align: middle;\n",
       "    }\n",
       "\n",
       "    .dataframe tbody tr th {\n",
       "        vertical-align: top;\n",
       "    }\n",
       "\n",
       "    .dataframe thead th {\n",
       "        text-align: right;\n",
       "    }\n",
       "</style>\n",
       "<table border=\"1\" class=\"dataframe\">\n",
       "  <thead>\n",
       "    <tr style=\"text-align: right;\">\n",
       "      <th></th>\n",
       "      <th>id</th>\n",
       "      <th>label</th>\n",
       "    </tr>\n",
       "  </thead>\n",
       "  <tbody>\n",
       "    <tr>\n",
       "      <th>9998</th>\n",
       "      <td>9999</td>\n",
       "      <td>automobile</td>\n",
       "    </tr>\n",
       "  </tbody>\n",
       "</table>\n",
       "</div>"
      ],
      "text/plain": [
       "        id       label\n",
       "9998  9999  automobile"
      ]
     },
     "execution_count": 16,
     "metadata": {},
     "output_type": "execute_result"
    }
   ],
   "source": [
    "labels_df[labels_df['id'] == 9999]"
   ]
  },
  {
   "cell_type": "code",
   "execution_count": 17,
   "id": "935cb911",
   "metadata": {
    "execution": {
     "iopub.execute_input": "2023-11-26T04:37:38.420822Z",
     "iopub.status.busy": "2023-11-26T04:37:38.419995Z",
     "iopub.status.idle": "2023-11-26T04:37:38.425977Z",
     "shell.execute_reply": "2023-11-26T04:37:38.425077Z"
    },
    "papermill": {
     "duration": 0.031554,
     "end_time": "2023-11-26T04:37:38.428225",
     "exception": false,
     "start_time": "2023-11-26T04:37:38.396671",
     "status": "completed"
    },
    "tags": []
   },
   "outputs": [
    {
     "data": {
      "text/plain": [
       "1"
      ]
     },
     "execution_count": 17,
     "metadata": {},
     "output_type": "execute_result"
    }
   ],
   "source": [
    "labels[9998] # automobile = 1 , and 0 base indexing in List"
   ]
  },
  {
   "cell_type": "code",
   "execution_count": 18,
   "id": "ac108d3d",
   "metadata": {
    "execution": {
     "iopub.execute_input": "2023-11-26T04:37:38.473101Z",
     "iopub.status.busy": "2023-11-26T04:37:38.472754Z",
     "iopub.status.idle": "2023-11-26T04:37:38.484956Z",
     "shell.execute_reply": "2023-11-26T04:37:38.483989Z"
    },
    "papermill": {
     "duration": 0.037264,
     "end_time": "2023-11-26T04:37:38.487192",
     "exception": false,
     "start_time": "2023-11-26T04:37:38.449928",
     "status": "completed"
    },
    "tags": []
   },
   "outputs": [],
   "source": [
    "id_list = list(labels_df['id'])"
   ]
  },
  {
   "cell_type": "code",
   "execution_count": 19,
   "id": "746e8991",
   "metadata": {
    "execution": {
     "iopub.execute_input": "2023-11-26T04:37:38.532428Z",
     "iopub.status.busy": "2023-11-26T04:37:38.531739Z",
     "iopub.status.idle": "2023-11-26T04:37:38.536486Z",
     "shell.execute_reply": "2023-11-26T04:37:38.535631Z"
    },
    "papermill": {
     "duration": 0.029668,
     "end_time": "2023-11-26T04:37:38.538779",
     "exception": false,
     "start_time": "2023-11-26T04:37:38.509111",
     "status": "completed"
    },
    "tags": []
   },
   "outputs": [
    {
     "name": "stdout",
     "output_type": "stream",
     "text": [
      "[1, 2, 3, 4, 5]\n",
      "[49996, 49997, 49998, 49999, 50000]\n"
     ]
    }
   ],
   "source": [
    "print(id_list[0:5])\n",
    "print(id_list[-5:])"
   ]
  },
  {
   "cell_type": "markdown",
   "id": "9eab0b63",
   "metadata": {
    "papermill": {
     "duration": 0.021053,
     "end_time": "2023-11-26T04:37:38.581007",
     "exception": false,
     "start_time": "2023-11-26T04:37:38.559954",
     "status": "completed"
    },
    "tags": []
   },
   "source": [
    "# **Analyzing the train set**"
   ]
  },
  {
   "cell_type": "markdown",
   "id": "389d9577",
   "metadata": {
    "papermill": {
     "duration": 0.022127,
     "end_time": "2023-11-26T04:37:38.625180",
     "exception": false,
     "start_time": "2023-11-26T04:37:38.603053",
     "status": "completed"
    },
    "tags": []
   },
   "source": [
    "**Displaying the images**"
   ]
  },
  {
   "cell_type": "code",
   "execution_count": 20,
   "id": "9f0fd3d6",
   "metadata": {
    "execution": {
     "iopub.execute_input": "2023-11-26T04:37:38.672250Z",
     "iopub.status.busy": "2023-11-26T04:37:38.671885Z",
     "iopub.status.idle": "2023-11-26T04:37:38.949478Z",
     "shell.execute_reply": "2023-11-26T04:37:38.948461Z"
    },
    "papermill": {
     "duration": 0.304105,
     "end_time": "2023-11-26T04:37:38.951612",
     "exception": false,
     "start_time": "2023-11-26T04:37:38.647507",
     "status": "completed"
    },
    "tags": []
   },
   "outputs": [
    {
     "data": {
      "text/html": [
       "<div>\n",
       "<style scoped>\n",
       "    .dataframe tbody tr th:only-of-type {\n",
       "        vertical-align: middle;\n",
       "    }\n",
       "\n",
       "    .dataframe tbody tr th {\n",
       "        vertical-align: top;\n",
       "    }\n",
       "\n",
       "    .dataframe thead th {\n",
       "        text-align: right;\n",
       "    }\n",
       "</style>\n",
       "<table border=\"1\" class=\"dataframe\">\n",
       "  <thead>\n",
       "    <tr style=\"text-align: right;\">\n",
       "      <th></th>\n",
       "      <th>id</th>\n",
       "      <th>label</th>\n",
       "    </tr>\n",
       "  </thead>\n",
       "  <tbody>\n",
       "    <tr>\n",
       "      <th>9998</th>\n",
       "      <td>9999</td>\n",
       "      <td>automobile</td>\n",
       "    </tr>\n",
       "  </tbody>\n",
       "</table>\n",
       "</div>"
      ],
      "text/plain": [
       "        id       label\n",
       "9998  9999  automobile"
      ]
     },
     "execution_count": 20,
     "metadata": {},
     "output_type": "execute_result"
    },
    {
     "data": {
      "image/png": "[encoded data removed]",
      "text/plain": [
       "<Figure size 200x100 with 1 Axes>"
      ]
     },
     "metadata": {},
     "output_type": "display_data"
    }
   ],
   "source": [
    "#display an image\n",
    "img = data[9998]\n",
    "plt.figure(figsize=(2,1))\n",
    "plt.imshow(img)\n",
    "\n",
    "labels_df[labels_df['id'] == 9999]"
   ]
  },
  {
   "cell_type": "code",
   "execution_count": 21,
   "id": "9f09b109",
   "metadata": {
    "execution": {
     "iopub.execute_input": "2023-11-26T04:37:38.999196Z",
     "iopub.status.busy": "2023-11-26T04:37:38.998439Z",
     "iopub.status.idle": "2023-11-26T04:37:39.196827Z",
     "shell.execute_reply": "2023-11-26T04:37:39.195737Z"
    },
    "papermill": {
     "duration": 0.224754,
     "end_time": "2023-11-26T04:37:39.198961",
     "exception": false,
     "start_time": "2023-11-26T04:37:38.974207",
     "status": "completed"
    },
    "tags": []
   },
   "outputs": [
    {
     "data": {
      "text/html": [
       "<div>\n",
       "<style scoped>\n",
       "    .dataframe tbody tr th:only-of-type {\n",
       "        vertical-align: middle;\n",
       "    }\n",
       "\n",
       "    .dataframe tbody tr th {\n",
       "        vertical-align: top;\n",
       "    }\n",
       "\n",
       "    .dataframe thead th {\n",
       "        text-align: right;\n",
       "    }\n",
       "</style>\n",
       "<table border=\"1\" class=\"dataframe\">\n",
       "  <thead>\n",
       "    <tr style=\"text-align: right;\">\n",
       "      <th></th>\n",
       "      <th>id</th>\n",
       "      <th>label</th>\n",
       "    </tr>\n",
       "  </thead>\n",
       "  <tbody>\n",
       "    <tr>\n",
       "      <th>10012</th>\n",
       "      <td>10013</td>\n",
       "      <td>frog</td>\n",
       "    </tr>\n",
       "  </tbody>\n",
       "</table>\n",
       "</div>"
      ],
      "text/plain": [
       "          id label\n",
       "10012  10013  frog"
      ]
     },
     "execution_count": 21,
     "metadata": {},
     "output_type": "execute_result"
    },
    {
     "data": {
      "image/png": "[encoded data removed]",
      "text/plain": [
       "<Figure size 200x100 with 1 Axes>"
      ]
     },
     "metadata": {},
     "output_type": "display_data"
    }
   ],
   "source": [
    "#display an image\n",
    "img = data[10012]\n",
    "plt.figure(figsize=(2,1))\n",
    "plt.imshow(img)\n",
    "\n",
    "labels_df[labels_df['id'] == 10013]"
   ]
  },
  {
   "cell_type": "code",
   "execution_count": 22,
   "id": "14452c57",
   "metadata": {
    "execution": {
     "iopub.execute_input": "2023-11-26T04:37:39.247265Z",
     "iopub.status.busy": "2023-11-26T04:37:39.246361Z",
     "iopub.status.idle": "2023-11-26T04:37:39.251644Z",
     "shell.execute_reply": "2023-11-26T04:37:39.250792Z"
    },
    "papermill": {
     "duration": 0.031391,
     "end_time": "2023-11-26T04:37:39.253713",
     "exception": false,
     "start_time": "2023-11-26T04:37:39.222322",
     "status": "completed"
    },
    "tags": []
   },
   "outputs": [
    {
     "name": "stdout",
     "output_type": "stream",
     "text": [
      "Number of images:  50000\n"
     ]
    }
   ],
   "source": [
    "image_count = data.shape[0]\n",
    "print('Number of images: ', image_count)"
   ]
  },
  {
   "cell_type": "markdown",
   "id": "42af168c",
   "metadata": {
    "papermill": {
     "duration": 0.022871,
     "end_time": "2023-11-26T04:37:39.300364",
     "exception": false,
     "start_time": "2023-11-26T04:37:39.277493",
     "status": "completed"
    },
    "tags": []
   },
   "source": [
    "**Distribution of Classes**"
   ]
  },
  {
   "cell_type": "code",
   "execution_count": 23,
   "id": "dc952d72",
   "metadata": {
    "execution": {
     "iopub.execute_input": "2023-11-26T04:37:39.348947Z",
     "iopub.status.busy": "2023-11-26T04:37:39.348204Z",
     "iopub.status.idle": "2023-11-26T04:37:39.563973Z",
     "shell.execute_reply": "2023-11-26T04:37:39.562893Z"
    },
    "papermill": {
     "duration": 0.242913,
     "end_time": "2023-11-26T04:37:39.566441",
     "exception": false,
     "start_time": "2023-11-26T04:37:39.323528",
     "status": "completed"
    },
    "tags": []
   },
   "outputs": [
    {
     "data": {
      "image/png": "[encoded data removed]",
      "text/plain": [
       "<Figure size 800x800 with 1 Axes>"
      ]
     },
     "metadata": {},
     "output_type": "display_data"
    }
   ],
   "source": [
    "class_counts = labels_df['label'].value_counts()\n",
    "\n",
    "# Plotting a pie chart\n",
    "plt.figure(figsize=(8, 8))\n",
    "plt.pie(class_counts, labels=class_counts.index, autopct='%1.1f%%', startangle=140)\n",
    "plt.title('Distribution of Classes')\n",
    "plt.show()"
   ]
  },
  {
   "cell_type": "markdown",
   "id": "76c82b8f",
   "metadata": {
    "papermill": {
     "duration": 0.023499,
     "end_time": "2023-11-26T04:37:39.614362",
     "exception": false,
     "start_time": "2023-11-26T04:37:39.590863",
     "status": "completed"
    },
    "tags": []
   },
   "source": [
    "The classes are equally distributed. Our target is removing the truck class from train data so that the model can be trained in 9 classes and Truck becomes a **novel  class**"
   ]
  },
  {
   "cell_type": "markdown",
   "id": "5c069a0a",
   "metadata": {
    "papermill": {
     "duration": 0.023567,
     "end_time": "2023-11-26T04:37:39.662678",
     "exception": false,
     "start_time": "2023-11-26T04:37:39.639111",
     "status": "completed"
    },
    "tags": []
   },
   "source": [
    "# **Train Test Split**"
   ]
  },
  {
   "cell_type": "code",
   "execution_count": 24,
   "id": "8cf57041",
   "metadata": {
    "execution": {
     "iopub.execute_input": "2023-11-26T04:37:39.712047Z",
     "iopub.status.busy": "2023-11-26T04:37:39.711683Z",
     "iopub.status.idle": "2023-11-26T04:37:39.717592Z",
     "shell.execute_reply": "2023-11-26T04:37:39.716699Z"
    },
    "papermill": {
     "duration": 0.032209,
     "end_time": "2023-11-26T04:37:39.719447",
     "exception": false,
     "start_time": "2023-11-26T04:37:39.687238",
     "status": "completed"
    },
    "tags": []
   },
   "outputs": [
    {
     "data": {
      "text/plain": [
       "numpy.ndarray"
      ]
     },
     "execution_count": 24,
     "metadata": {},
     "output_type": "execute_result"
    }
   ],
   "source": [
    "type(data)"
   ]
  },
  {
   "cell_type": "code",
   "execution_count": 25,
   "id": "6afcb67d",
   "metadata": {
    "execution": {
     "iopub.execute_input": "2023-11-26T04:37:39.769922Z",
     "iopub.status.busy": "2023-11-26T04:37:39.769017Z",
     "iopub.status.idle": "2023-11-26T04:37:39.775199Z",
     "shell.execute_reply": "2023-11-26T04:37:39.774257Z"
    },
    "papermill": {
     "duration": 0.033602,
     "end_time": "2023-11-26T04:37:39.777262",
     "exception": false,
     "start_time": "2023-11-26T04:37:39.743660",
     "status": "completed"
    },
    "tags": []
   },
   "outputs": [
    {
     "data": {
      "text/plain": [
       "50000"
      ]
     },
     "execution_count": 25,
     "metadata": {},
     "output_type": "execute_result"
    }
   ],
   "source": [
    "len(data)"
   ]
  },
  {
   "cell_type": "code",
   "execution_count": 26,
   "id": "8859c3d9",
   "metadata": {
    "execution": {
     "iopub.execute_input": "2023-11-26T04:37:39.826760Z",
     "iopub.status.busy": "2023-11-26T04:37:39.826083Z",
     "iopub.status.idle": "2023-11-26T04:37:39.832321Z",
     "shell.execute_reply": "2023-11-26T04:37:39.831450Z"
    },
    "papermill": {
     "duration": 0.033091,
     "end_time": "2023-11-26T04:37:39.834256",
     "exception": false,
     "start_time": "2023-11-26T04:37:39.801165",
     "status": "completed"
    },
    "tags": []
   },
   "outputs": [
    {
     "data": {
      "text/plain": [
       "numpy.ndarray"
      ]
     },
     "execution_count": 26,
     "metadata": {},
     "output_type": "execute_result"
    }
   ],
   "source": [
    "type(data[0])"
   ]
  },
  {
   "cell_type": "code",
   "execution_count": 27,
   "id": "126d4cff",
   "metadata": {
    "execution": {
     "iopub.execute_input": "2023-11-26T04:37:39.884361Z",
     "iopub.status.busy": "2023-11-26T04:37:39.883911Z",
     "iopub.status.idle": "2023-11-26T04:37:39.889970Z",
     "shell.execute_reply": "2023-11-26T04:37:39.889078Z"
    },
    "papermill": {
     "duration": 0.033327,
     "end_time": "2023-11-26T04:37:39.891907",
     "exception": false,
     "start_time": "2023-11-26T04:37:39.858580",
     "status": "completed"
    },
    "tags": []
   },
   "outputs": [
    {
     "data": {
      "text/plain": [
       "(32, 32, 3)"
      ]
     },
     "execution_count": 27,
     "metadata": {},
     "output_type": "execute_result"
    }
   ],
   "source": [
    "data[0].shape"
   ]
  },
  {
   "cell_type": "code",
   "execution_count": 28,
   "id": "20165baf",
   "metadata": {
    "execution": {
     "iopub.execute_input": "2023-11-26T04:37:39.941882Z",
     "iopub.status.busy": "2023-11-26T04:37:39.941564Z",
     "iopub.status.idle": "2023-11-26T04:37:39.950316Z",
     "shell.execute_reply": "2023-11-26T04:37:39.949442Z"
    },
    "papermill": {
     "duration": 0.0361,
     "end_time": "2023-11-26T04:37:39.952292",
     "exception": false,
     "start_time": "2023-11-26T04:37:39.916192",
     "status": "completed"
    },
    "tags": []
   },
   "outputs": [],
   "source": [
    "# convert image list and label list to numpy arrays\n",
    "\n",
    "x = data\n",
    "y = np.array(labels)"
   ]
  },
  {
   "cell_type": "code",
   "execution_count": 29,
   "id": "f94ee38f",
   "metadata": {
    "execution": {
     "iopub.execute_input": "2023-11-26T04:37:40.000583Z",
     "iopub.status.busy": "2023-11-26T04:37:40.000287Z",
     "iopub.status.idle": "2023-11-26T04:37:40.005973Z",
     "shell.execute_reply": "2023-11-26T04:37:40.005148Z"
    },
    "papermill": {
     "duration": 0.03205,
     "end_time": "2023-11-26T04:37:40.007996",
     "exception": false,
     "start_time": "2023-11-26T04:37:39.975946",
     "status": "completed"
    },
    "tags": []
   },
   "outputs": [
    {
     "data": {
      "text/plain": [
       "6"
      ]
     },
     "execution_count": 29,
     "metadata": {},
     "output_type": "execute_result"
    }
   ],
   "source": [
    "y[0]"
   ]
  },
  {
   "cell_type": "code",
   "execution_count": 30,
   "id": "b9238262",
   "metadata": {
    "execution": {
     "iopub.execute_input": "2023-11-26T04:37:40.059018Z",
     "iopub.status.busy": "2023-11-26T04:37:40.058201Z",
     "iopub.status.idle": "2023-11-26T04:37:40.063089Z",
     "shell.execute_reply": "2023-11-26T04:37:40.062177Z"
    },
    "papermill": {
     "duration": 0.033437,
     "end_time": "2023-11-26T04:37:40.065615",
     "exception": false,
     "start_time": "2023-11-26T04:37:40.032178",
     "status": "completed"
    },
    "tags": []
   },
   "outputs": [
    {
     "name": "stdout",
     "output_type": "stream",
     "text": [
      "(50000, 32, 32, 3)\n",
      "(50000,)\n"
     ]
    }
   ],
   "source": [
    "print(x.shape)\n",
    "print(y.shape)"
   ]
  },
  {
   "cell_type": "code",
   "execution_count": 31,
   "id": "40cd788a",
   "metadata": {
    "execution": {
     "iopub.execute_input": "2023-11-26T04:37:40.116097Z",
     "iopub.status.busy": "2023-11-26T04:37:40.115756Z",
     "iopub.status.idle": "2023-11-26T04:37:40.119956Z",
     "shell.execute_reply": "2023-11-26T04:37:40.118974Z"
    },
    "papermill": {
     "duration": 0.031926,
     "end_time": "2023-11-26T04:37:40.122044",
     "exception": false,
     "start_time": "2023-11-26T04:37:40.090118",
     "status": "completed"
    },
    "tags": []
   },
   "outputs": [],
   "source": [
    "#small data for testing while naking the model\n",
    "# x = x[:100]\n",
    "# y = y[:100]"
   ]
  },
  {
   "cell_type": "code",
   "execution_count": 32,
   "id": "8bf7f744",
   "metadata": {
    "execution": {
     "iopub.execute_input": "2023-11-26T04:37:40.172413Z",
     "iopub.status.busy": "2023-11-26T04:37:40.172080Z",
     "iopub.status.idle": "2023-11-26T04:37:40.179309Z",
     "shell.execute_reply": "2023-11-26T04:37:40.178437Z"
    },
    "papermill": {
     "duration": 0.034732,
     "end_time": "2023-11-26T04:37:40.181248",
     "exception": false,
     "start_time": "2023-11-26T04:37:40.146516",
     "status": "completed"
    },
    "tags": []
   },
   "outputs": [
    {
     "data": {
      "text/plain": [
       "array([[[ 59,  62,  63],\n",
       "        [ 43,  46,  45],\n",
       "        [ 50,  48,  43],\n",
       "        ...,\n",
       "        [158, 132, 108],\n",
       "        [152, 125, 102],\n",
       "        [148, 124, 103]],\n",
       "\n",
       "       [[ 16,  20,  20],\n",
       "        [  0,   0,   0],\n",
       "        [ 18,   8,   0],\n",
       "        ...,\n",
       "        [123,  88,  55],\n",
       "        [119,  83,  50],\n",
       "        [122,  87,  57]],\n",
       "\n",
       "       [[ 25,  24,  21],\n",
       "        [ 16,   7,   0],\n",
       "        [ 49,  27,   8],\n",
       "        ...,\n",
       "        [118,  84,  50],\n",
       "        [120,  84,  50],\n",
       "        [109,  73,  42]],\n",
       "\n",
       "       ...,\n",
       "\n",
       "       [[208, 170,  96],\n",
       "        [201, 153,  34],\n",
       "        [198, 161,  26],\n",
       "        ...,\n",
       "        [160, 133,  70],\n",
       "        [ 56,  31,   7],\n",
       "        [ 53,  34,  20]],\n",
       "\n",
       "       [[180, 139,  96],\n",
       "        [173, 123,  42],\n",
       "        [186, 144,  30],\n",
       "        ...,\n",
       "        [184, 148,  94],\n",
       "        [ 97,  62,  34],\n",
       "        [ 83,  53,  34]],\n",
       "\n",
       "       [[177, 144, 116],\n",
       "        [168, 129,  94],\n",
       "        [179, 142,  87],\n",
       "        ...,\n",
       "        [216, 184, 140],\n",
       "        [151, 118,  84],\n",
       "        [123,  92,  72]]], dtype=uint8)"
      ]
     },
     "execution_count": 32,
     "metadata": {},
     "output_type": "execute_result"
    }
   ],
   "source": [
    "x[0]"
   ]
  },
  {
   "cell_type": "code",
   "execution_count": 33,
   "id": "b218252e",
   "metadata": {
    "execution": {
     "iopub.execute_input": "2023-11-26T04:37:40.231907Z",
     "iopub.status.busy": "2023-11-26T04:37:40.231334Z",
     "iopub.status.idle": "2023-11-26T04:37:40.290426Z",
     "shell.execute_reply": "2023-11-26T04:37:40.289406Z"
    },
    "papermill": {
     "duration": 0.087217,
     "end_time": "2023-11-26T04:37:40.293059",
     "exception": false,
     "start_time": "2023-11-26T04:37:40.205842",
     "status": "completed"
    },
    "tags": []
   },
   "outputs": [],
   "source": [
    "x_train, x_test, y_train, y_test = train_test_split(x, y, test_size=0.2, random_state=2)"
   ]
  },
  {
   "cell_type": "code",
   "execution_count": 34,
   "id": "1966fef6",
   "metadata": {
    "execution": {
     "iopub.execute_input": "2023-11-26T04:37:40.344204Z",
     "iopub.status.busy": "2023-11-26T04:37:40.343820Z",
     "iopub.status.idle": "2023-11-26T04:37:40.349081Z",
     "shell.execute_reply": "2023-11-26T04:37:40.348183Z"
    },
    "papermill": {
     "duration": 0.033487,
     "end_time": "2023-11-26T04:37:40.351306",
     "exception": false,
     "start_time": "2023-11-26T04:37:40.317819",
     "status": "completed"
    },
    "tags": []
   },
   "outputs": [
    {
     "name": "stdout",
     "output_type": "stream",
     "text": [
      "(50000, 32, 32, 3) (40000, 32, 32, 3) (10000, 32, 32, 3)\n"
     ]
    }
   ],
   "source": [
    "print(x.shape, x_train.shape, x_test.shape)"
   ]
  },
  {
   "cell_type": "code",
   "execution_count": 35,
   "id": "f43ec5ab",
   "metadata": {
    "execution": {
     "iopub.execute_input": "2023-11-26T04:37:40.403110Z",
     "iopub.status.busy": "2023-11-26T04:37:40.402441Z",
     "iopub.status.idle": "2023-11-26T04:37:40.795146Z",
     "shell.execute_reply": "2023-11-26T04:37:40.794056Z"
    },
    "papermill": {
     "duration": 0.4212,
     "end_time": "2023-11-26T04:37:40.797681",
     "exception": false,
     "start_time": "2023-11-26T04:37:40.376481",
     "status": "completed"
    },
    "tags": []
   },
   "outputs": [],
   "source": [
    "# scaling the data\n",
    "\n",
    "x_train_scaled = x_train/255\n",
    "\n",
    "x_test_scaled = x_test/255"
   ]
  },
  {
   "cell_type": "code",
   "execution_count": 36,
   "id": "d3a03f1b",
   "metadata": {
    "execution": {
     "iopub.execute_input": "2023-11-26T04:37:40.848315Z",
     "iopub.status.busy": "2023-11-26T04:37:40.847521Z",
     "iopub.status.idle": "2023-11-26T04:37:40.855179Z",
     "shell.execute_reply": "2023-11-26T04:37:40.854301Z"
    },
    "papermill": {
     "duration": 0.034752,
     "end_time": "2023-11-26T04:37:40.857263",
     "exception": false,
     "start_time": "2023-11-26T04:37:40.822511",
     "status": "completed"
    },
    "tags": []
   },
   "outputs": [
    {
     "data": {
      "text/plain": [
       "array([[[0.81960784, 0.82352941, 0.79607843],\n",
       "        [0.83529412, 0.83921569, 0.81960784],\n",
       "        [0.85490196, 0.85882353, 0.84313725],\n",
       "        ...,\n",
       "        [0.49803922, 0.29019608, 0.15294118],\n",
       "        [0.47843137, 0.26666667, 0.1372549 ],\n",
       "        [0.45490196, 0.24705882, 0.1254902 ]],\n",
       "\n",
       "       [[0.82352941, 0.82352941, 0.79215686],\n",
       "        [0.83529412, 0.83921569, 0.81176471],\n",
       "        [0.85490196, 0.8627451 , 0.83921569],\n",
       "        ...,\n",
       "        [0.48627451, 0.2745098 , 0.1372549 ],\n",
       "        [0.4745098 , 0.2627451 , 0.12941176],\n",
       "        [0.48235294, 0.27058824, 0.14117647]],\n",
       "\n",
       "       [[0.80784314, 0.80392157, 0.76470588],\n",
       "        [0.81960784, 0.81960784, 0.79215686],\n",
       "        [0.83529412, 0.84313725, 0.81960784],\n",
       "        ...,\n",
       "        [0.48627451, 0.2745098 , 0.14509804],\n",
       "        [0.51372549, 0.30196078, 0.16470588],\n",
       "        [0.51372549, 0.30588235, 0.16078431]],\n",
       "\n",
       "       ...,\n",
       "\n",
       "       [[0.49803922, 0.42352941, 0.38039216],\n",
       "        [0.54117647, 0.47843137, 0.43137255],\n",
       "        [0.55294118, 0.49803922, 0.4627451 ],\n",
       "        ...,\n",
       "        [0.61960784, 0.58431373, 0.5254902 ],\n",
       "        [0.63137255, 0.61176471, 0.59215686],\n",
       "        [0.53333333, 0.5372549 , 0.58039216]],\n",
       "\n",
       "       [[0.56862745, 0.50980392, 0.46666667],\n",
       "        [0.58039216, 0.52941176, 0.50196078],\n",
       "        [0.53333333, 0.49803922, 0.50196078],\n",
       "        ...,\n",
       "        [0.68627451, 0.68235294, 0.6745098 ],\n",
       "        [0.62745098, 0.63137255, 0.66666667],\n",
       "        [0.56078431, 0.58039216, 0.64313725]],\n",
       "\n",
       "       [[0.54117647, 0.50196078, 0.48235294],\n",
       "        [0.54901961, 0.51764706, 0.53333333],\n",
       "        [0.53333333, 0.51372549, 0.54901961],\n",
       "        ...,\n",
       "        [0.58823529, 0.60392157, 0.6627451 ],\n",
       "        [0.56862745, 0.58431373, 0.65098039],\n",
       "        [0.54901961, 0.56862745, 0.63921569]]])"
      ]
     },
     "execution_count": 36,
     "metadata": {},
     "output_type": "execute_result"
    }
   ],
   "source": [
    "x_train_scaled[0]"
   ]
  },
  {
   "cell_type": "markdown",
   "id": "79845806",
   "metadata": {
    "papermill": {
     "duration": 0.024272,
     "end_time": "2023-11-26T04:37:40.905484",
     "exception": false,
     "start_time": "2023-11-26T04:37:40.881212",
     "status": "completed"
    },
    "tags": []
   },
   "source": [
    "# Removing the label: Truck( encoding = 9) from training sample"
   ]
  },
  {
   "cell_type": "code",
   "execution_count": 37,
   "id": "1a86d8e6",
   "metadata": {
    "execution": {
     "iopub.execute_input": "2023-11-26T04:37:40.956744Z",
     "iopub.status.busy": "2023-11-26T04:37:40.956378Z",
     "iopub.status.idle": "2023-11-26T04:37:40.960593Z",
     "shell.execute_reply": "2023-11-26T04:37:40.959702Z"
    },
    "papermill": {
     "duration": 0.032335,
     "end_time": "2023-11-26T04:37:40.962517",
     "exception": false,
     "start_time": "2023-11-26T04:37:40.930182",
     "status": "completed"
    },
    "tags": []
   },
   "outputs": [],
   "source": [
    "x_train_9_classes = []\n",
    "y_train_9_classes = []"
   ]
  },
  {
   "cell_type": "code",
   "execution_count": 38,
   "id": "de4a050f",
   "metadata": {
    "execution": {
     "iopub.execute_input": "2023-11-26T04:37:41.014836Z",
     "iopub.status.busy": "2023-11-26T04:37:41.014008Z",
     "iopub.status.idle": "2023-11-26T04:37:41.054423Z",
     "shell.execute_reply": "2023-11-26T04:37:41.053428Z"
    },
    "papermill": {
     "duration": 0.068297,
     "end_time": "2023-11-26T04:37:41.056581",
     "exception": false,
     "start_time": "2023-11-26T04:37:40.988284",
     "status": "completed"
    },
    "tags": []
   },
   "outputs": [],
   "source": [
    "for i, y_label in enumerate(y_train):\n",
    "    if y_label != 9:\n",
    "        x_train_9_classes.append(x_train_scaled[i])\n",
    "        y_train_9_classes.append(y_label)"
   ]
  },
  {
   "cell_type": "code",
   "execution_count": 39,
   "id": "eca46b83",
   "metadata": {
    "execution": {
     "iopub.execute_input": "2023-11-26T04:37:41.112728Z",
     "iopub.status.busy": "2023-11-26T04:37:41.112187Z",
     "iopub.status.idle": "2023-11-26T04:37:41.418965Z",
     "shell.execute_reply": "2023-11-26T04:37:41.418183Z"
    },
    "papermill": {
     "duration": 0.338743,
     "end_time": "2023-11-26T04:37:41.421482",
     "exception": false,
     "start_time": "2023-11-26T04:37:41.082739",
     "status": "completed"
    },
    "tags": []
   },
   "outputs": [],
   "source": [
    "x_train_9_classes = np.array(x_train_9_classes)\n",
    "y_train_9_classes = np.array(y_train_9_classes)"
   ]
  },
  {
   "cell_type": "code",
   "execution_count": 40,
   "id": "07d82e8a",
   "metadata": {
    "execution": {
     "iopub.execute_input": "2023-11-26T04:37:41.471397Z",
     "iopub.status.busy": "2023-11-26T04:37:41.471041Z",
     "iopub.status.idle": "2023-11-26T04:37:41.475982Z",
     "shell.execute_reply": "2023-11-26T04:37:41.475110Z"
    },
    "papermill": {
     "duration": 0.032124,
     "end_time": "2023-11-26T04:37:41.477917",
     "exception": false,
     "start_time": "2023-11-26T04:37:41.445793",
     "status": "completed"
    },
    "tags": []
   },
   "outputs": [
    {
     "name": "stdout",
     "output_type": "stream",
     "text": [
      "<class 'numpy.ndarray'> <class 'numpy.ndarray'>\n"
     ]
    }
   ],
   "source": [
    "print(type(x_train), type(x_train_9_classes))"
   ]
  },
  {
   "cell_type": "code",
   "execution_count": 41,
   "id": "06fa11ea",
   "metadata": {
    "execution": {
     "iopub.execute_input": "2023-11-26T04:37:41.530081Z",
     "iopub.status.busy": "2023-11-26T04:37:41.529266Z",
     "iopub.status.idle": "2023-11-26T04:37:41.535074Z",
     "shell.execute_reply": "2023-11-26T04:37:41.534199Z"
    },
    "papermill": {
     "duration": 0.034233,
     "end_time": "2023-11-26T04:37:41.537293",
     "exception": false,
     "start_time": "2023-11-26T04:37:41.503060",
     "status": "completed"
    },
    "tags": []
   },
   "outputs": [
    {
     "data": {
      "text/plain": [
       "(40000, 32, 32, 3)"
      ]
     },
     "execution_count": 41,
     "metadata": {},
     "output_type": "execute_result"
    }
   ],
   "source": [
    "x_train.shape"
   ]
  },
  {
   "cell_type": "code",
   "execution_count": 42,
   "id": "40670a9c",
   "metadata": {
    "execution": {
     "iopub.execute_input": "2023-11-26T04:37:41.590092Z",
     "iopub.status.busy": "2023-11-26T04:37:41.589119Z",
     "iopub.status.idle": "2023-11-26T04:37:41.595962Z",
     "shell.execute_reply": "2023-11-26T04:37:41.594865Z"
    },
    "papermill": {
     "duration": 0.035609,
     "end_time": "2023-11-26T04:37:41.598087",
     "exception": false,
     "start_time": "2023-11-26T04:37:41.562478",
     "status": "completed"
    },
    "tags": []
   },
   "outputs": [
    {
     "data": {
      "text/plain": [
       "(35975, 32, 32, 3)"
      ]
     },
     "execution_count": 42,
     "metadata": {},
     "output_type": "execute_result"
    }
   ],
   "source": [
    "x_train_9_classes.shape"
   ]
  },
  {
   "cell_type": "code",
   "execution_count": 43,
   "id": "7a612928",
   "metadata": {
    "execution": {
     "iopub.execute_input": "2023-11-26T04:37:41.650921Z",
     "iopub.status.busy": "2023-11-26T04:37:41.650538Z",
     "iopub.status.idle": "2023-11-26T04:37:41.655490Z",
     "shell.execute_reply": "2023-11-26T04:37:41.654598Z"
    },
    "papermill": {
     "duration": 0.03376,
     "end_time": "2023-11-26T04:37:41.657370",
     "exception": false,
     "start_time": "2023-11-26T04:37:41.623610",
     "status": "completed"
    },
    "tags": []
   },
   "outputs": [
    {
     "name": "stdout",
     "output_type": "stream",
     "text": [
      "<class 'numpy.ndarray'> <class 'numpy.ndarray'>\n"
     ]
    }
   ],
   "source": [
    "print(type(y_train), type(y_train_9_classes))"
   ]
  },
  {
   "cell_type": "code",
   "execution_count": 44,
   "id": "52e238a0",
   "metadata": {
    "execution": {
     "iopub.execute_input": "2023-11-26T04:37:41.713787Z",
     "iopub.status.busy": "2023-11-26T04:37:41.712970Z",
     "iopub.status.idle": "2023-11-26T04:37:41.719082Z",
     "shell.execute_reply": "2023-11-26T04:37:41.718307Z"
    },
    "papermill": {
     "duration": 0.036164,
     "end_time": "2023-11-26T04:37:41.721042",
     "exception": false,
     "start_time": "2023-11-26T04:37:41.684878",
     "status": "completed"
    },
    "tags": []
   },
   "outputs": [
    {
     "data": {
      "text/plain": [
       "(40000,)"
      ]
     },
     "execution_count": 44,
     "metadata": {},
     "output_type": "execute_result"
    }
   ],
   "source": [
    "y_train.shape"
   ]
  },
  {
   "cell_type": "code",
   "execution_count": 45,
   "id": "652ac569",
   "metadata": {
    "execution": {
     "iopub.execute_input": "2023-11-26T04:37:41.772848Z",
     "iopub.status.busy": "2023-11-26T04:37:41.772483Z",
     "iopub.status.idle": "2023-11-26T04:37:41.778423Z",
     "shell.execute_reply": "2023-11-26T04:37:41.777564Z"
    },
    "papermill": {
     "duration": 0.03432,
     "end_time": "2023-11-26T04:37:41.780431",
     "exception": false,
     "start_time": "2023-11-26T04:37:41.746111",
     "status": "completed"
    },
    "tags": []
   },
   "outputs": [
    {
     "data": {
      "text/plain": [
       "(35975,)"
      ]
     },
     "execution_count": 45,
     "metadata": {},
     "output_type": "execute_result"
    }
   ],
   "source": [
    "y_train_9_classes.shape"
   ]
  },
  {
   "cell_type": "code",
   "execution_count": 46,
   "id": "e0f0bf01",
   "metadata": {
    "execution": {
     "iopub.execute_input": "2023-11-26T04:37:41.834054Z",
     "iopub.status.busy": "2023-11-26T04:37:41.833365Z",
     "iopub.status.idle": "2023-11-26T04:37:42.008533Z",
     "shell.execute_reply": "2023-11-26T04:37:42.007625Z"
    },
    "papermill": {
     "duration": 0.204833,
     "end_time": "2023-11-26T04:37:42.011093",
     "exception": false,
     "start_time": "2023-11-26T04:37:41.806260",
     "status": "completed"
    },
    "tags": []
   },
   "outputs": [
    {
     "data": {
      "image/png": "[encoded data removed]",
      "text/plain": [
       "<Figure size 800x800 with 1 Axes>"
      ]
     },
     "metadata": {},
     "output_type": "display_data"
    }
   ],
   "source": [
    "# Assuming y_train_9_classes contains the labels after removing one class\n",
    "class_counts = np.bincount(y_train_9_classes)\n",
    "\n",
    "# Plotting a pie chart\n",
    "plt.figure(figsize=(8, 8))\n",
    "plt.pie(class_counts, labels=list(labels_dictionary.keys())[:-1], autopct='%1.1f%%', startangle=140)\n",
    "plt.title('Distribution of Classes in y_train_9_classes')\n",
    "plt.show()\n"
   ]
  },
  {
   "cell_type": "markdown",
   "id": "43120406",
   "metadata": {
    "execution": {
     "iopub.execute_input": "2023-11-26T04:23:46.578224Z",
     "iopub.status.busy": "2023-11-26T04:23:46.577713Z",
     "iopub.status.idle": "2023-11-26T04:23:46.800665Z",
     "shell.execute_reply": "2023-11-26T04:23:46.798754Z",
     "shell.execute_reply.started": "2023-11-26T04:23:46.578186Z"
    },
    "papermill": {
     "duration": 0.027068,
     "end_time": "2023-11-26T04:37:42.065156",
     "exception": false,
     "start_time": "2023-11-26T04:37:42.038088",
     "status": "completed"
    },
    "tags": []
   },
   "source": [
    "As we can see there is no truck class in our training examples. We will train our model using this 9 classes which are equally distributed"
   ]
  },
  {
   "cell_type": "markdown",
   "id": "94730bfd",
   "metadata": {
    "papermill": {
     "duration": 0.026031,
     "end_time": "2023-11-26T04:37:42.117969",
     "exception": false,
     "start_time": "2023-11-26T04:37:42.091938",
     "status": "completed"
    },
    "tags": []
   },
   "source": [
    "# Defining the neural network using Resnet50"
   ]
  },
  {
   "cell_type": "code",
   "execution_count": 47,
   "id": "fe54cd8d",
   "metadata": {
    "execution": {
     "iopub.execute_input": "2023-11-26T04:37:42.173218Z",
     "iopub.status.busy": "2023-11-26T04:37:42.172394Z",
     "iopub.status.idle": "2023-11-26T04:37:53.805378Z",
     "shell.execute_reply": "2023-11-26T04:37:53.803932Z"
    },
    "papermill": {
     "duration": 11.664026,
     "end_time": "2023-11-26T04:37:53.808340",
     "exception": false,
     "start_time": "2023-11-26T04:37:42.144314",
     "status": "completed"
    },
    "tags": []
   },
   "outputs": [],
   "source": [
    "import tensorflow as tf\n",
    "from tensorflow import keras"
   ]
  },
  {
   "cell_type": "code",
   "execution_count": 48,
   "id": "92d4f2f9",
   "metadata": {
    "execution": {
     "iopub.execute_input": "2023-11-26T04:37:53.862811Z",
     "iopub.status.busy": "2023-11-26T04:37:53.862228Z",
     "iopub.status.idle": "2023-11-26T04:37:53.961063Z",
     "shell.execute_reply": "2023-11-26T04:37:53.960287Z"
    },
    "papermill": {
     "duration": 0.12771,
     "end_time": "2023-11-26T04:37:53.963223",
     "exception": false,
     "start_time": "2023-11-26T04:37:53.835513",
     "status": "completed"
    },
    "tags": []
   },
   "outputs": [],
   "source": [
    "from tensorflow.keras import Sequential, models, layers\n",
    "from tensorflow.keras.layers import Dense, Dropout, Flatten\n",
    "from tensorflow.keras.layers import BatchNormalization\n",
    "from tensorflow.keras.models import load_model\n",
    "from tensorflow.keras.models import Model\n",
    "from tensorflow.keras.applications.resnet50 import ResNet50\n",
    "from tensorflow.keras import optimizers"
   ]
  },
  {
   "cell_type": "markdown",
   "id": "7c08edd3",
   "metadata": {
    "papermill": {
     "duration": 0.02592,
     "end_time": "2023-11-26T04:37:54.015396",
     "exception": false,
     "start_time": "2023-11-26T04:37:53.989476",
     "status": "completed"
    },
    "tags": []
   },
   "source": [
    "Resnet: https://keras.io/api/applications/resnet/"
   ]
  },
  {
   "cell_type": "code",
   "execution_count": 49,
   "id": "6eed3664",
   "metadata": {
    "execution": {
     "iopub.execute_input": "2023-11-26T04:37:54.069324Z",
     "iopub.status.busy": "2023-11-26T04:37:54.068966Z",
     "iopub.status.idle": "2023-11-26T04:37:54.076540Z",
     "shell.execute_reply": "2023-11-26T04:37:54.075651Z"
    },
    "papermill": {
     "duration": 0.03729,
     "end_time": "2023-11-26T04:37:54.078560",
     "exception": false,
     "start_time": "2023-11-26T04:37:54.041270",
     "status": "completed"
    },
    "tags": []
   },
   "outputs": [],
   "source": [
    "def createModel():\n",
    "    \n",
    "    num_of_classes = 10\n",
    "    \n",
    "    convolutional_base = ResNet50(weights='imagenet', include_top=False, input_shape=(256,256,3))\n",
    "    \n",
    "    model = models.Sequential() \n",
    "    \n",
    "    model.add(layers.UpSampling2D((2,2))) # 32 * 2 = 64\n",
    "    model.add(layers.UpSampling2D((2,2))) # 64 * 2 = 128\n",
    "    model.add(layers.UpSampling2D((2,2))) # 128 * 2 = 256\n",
    "\n",
    "    model.add(convolutional_base)\n",
    "\n",
    "    model.add(layers.Flatten())  # transforms the input into a one-dimensional array (flattens it) without modifying the actual data. \n",
    "\n",
    "    model.add(layers.BatchNormalization()) #normalization\n",
    "    model.add(layers.Dense(128, activation='relu'))\n",
    "\n",
    "    model.add(layers.Dropout(0.5)) #droping or making somen neuron inactive to avoid overfitting\n",
    "\n",
    "    model.add(layers.BatchNormalization())\n",
    "    model.add(layers.Dense(num_of_classes, activation='softmax'))\n",
    "    \n",
    "    return model"
   ]
  },
  {
   "cell_type": "markdown",
   "id": "178c06ec",
   "metadata": {
    "papermill": {
     "duration": 0.026267,
     "end_time": "2023-11-26T04:37:54.130525",
     "exception": false,
     "start_time": "2023-11-26T04:37:54.104258",
     "status": "completed"
    },
    "tags": []
   },
   "source": [
    "#  Model creation and compilation"
   ]
  },
  {
   "cell_type": "code",
   "execution_count": 50,
   "id": "586b38de",
   "metadata": {
    "execution": {
     "iopub.execute_input": "2023-11-26T04:37:54.183689Z",
     "iopub.status.busy": "2023-11-26T04:37:54.183051Z",
     "iopub.status.idle": "2023-11-26T04:37:59.594495Z",
     "shell.execute_reply": "2023-11-26T04:37:59.593453Z"
    },
    "papermill": {
     "duration": 5.441305,
     "end_time": "2023-11-26T04:37:59.596961",
     "exception": false,
     "start_time": "2023-11-26T04:37:54.155656",
     "status": "completed"
    },
    "tags": []
   },
   "outputs": [
    {
     "name": "stdout",
     "output_type": "stream",
     "text": [
      "Downloading data from https://storage.googleapis.com/tensorflow/keras-applications/resnet/resnet50_weights_tf_dim_ordering_tf_kernels_notop.h5\n",
      "94765736/94765736 [==============================] - 0s 0us/step\n"
     ]
    }
   ],
   "source": [
    "model = createModel()"
   ]
  },
  {
   "cell_type": "code",
   "execution_count": 51,
   "id": "7ca35b5b",
   "metadata": {
    "execution": {
     "iopub.execute_input": "2023-11-26T04:37:59.654158Z",
     "iopub.status.busy": "2023-11-26T04:37:59.653486Z",
     "iopub.status.idle": "2023-11-26T04:37:59.676378Z",
     "shell.execute_reply": "2023-11-26T04:37:59.675372Z"
    },
    "papermill": {
     "duration": 0.053787,
     "end_time": "2023-11-26T04:37:59.678622",
     "exception": false,
     "start_time": "2023-11-26T04:37:59.624835",
     "status": "completed"
    },
    "tags": []
   },
   "outputs": [],
   "source": [
    "model.compile(optimizer=optimizers.RMSprop(lr=2e-5), loss='sparse_categorical_crossentropy', metrics=['accuracy'])"
   ]
  },
  {
   "cell_type": "markdown",
   "id": "d54bbded",
   "metadata": {
    "papermill": {
     "duration": 0.027762,
     "end_time": "2023-11-26T04:37:59.733656",
     "exception": false,
     "start_time": "2023-11-26T04:37:59.705894",
     "status": "completed"
    },
    "tags": []
   },
   "source": [
    "# Model train"
   ]
  },
  {
   "cell_type": "code",
   "execution_count": 52,
   "id": "bd385cd8",
   "metadata": {
    "execution": {
     "iopub.execute_input": "2023-11-26T04:37:59.793284Z",
     "iopub.status.busy": "2023-11-26T04:37:59.792346Z",
     "iopub.status.idle": "2023-11-26T05:12:28.619555Z",
     "shell.execute_reply": "2023-11-26T05:12:28.618530Z"
    },
    "papermill": {
     "duration": 2069.139177,
     "end_time": "2023-11-26T05:12:28.902648",
     "exception": false,
     "start_time": "2023-11-26T04:37:59.763471",
     "status": "completed"
    },
    "tags": []
   },
   "outputs": [
    {
     "name": "stdout",
     "output_type": "stream",
     "text": [
      "Epoch 1/10\n",
      "324/324 [==============================] - 255s 648ms/step - loss: 0.9346 - accuracy: 0.6911 - val_loss: 3.5105 - val_accuracy: 0.1053\n",
      "Epoch 2/10\n",
      "324/324 [==============================] - 201s 622ms/step - loss: 0.4747 - accuracy: 0.8413 - val_loss: 2.1897 - val_accuracy: 0.2693\n",
      "Epoch 3/10\n",
      "324/324 [==============================] - 201s 622ms/step - loss: 0.3035 - accuracy: 0.9008 - val_loss: 0.6514 - val_accuracy: 0.7882\n",
      "Epoch 4/10\n",
      "324/324 [==============================] - 201s 622ms/step - loss: 0.2073 - accuracy: 0.9316 - val_loss: 0.5421 - val_accuracy: 0.8371\n",
      "Epoch 5/10\n",
      "324/324 [==============================] - 201s 622ms/step - loss: 0.1531 - accuracy: 0.9504 - val_loss: 0.4591 - val_accuracy: 0.8666\n",
      "Epoch 6/10\n",
      "324/324 [==============================] - 201s 622ms/step - loss: 0.1143 - accuracy: 0.9628 - val_loss: 0.5277 - val_accuracy: 0.8491\n",
      "Epoch 7/10\n",
      "324/324 [==============================] - 201s 622ms/step - loss: 0.0871 - accuracy: 0.9715 - val_loss: 0.6645 - val_accuracy: 0.8380\n",
      "Epoch 8/10\n",
      "324/324 [==============================] - 201s 622ms/step - loss: 0.0762 - accuracy: 0.9753 - val_loss: 0.6030 - val_accuracy: 0.8519\n",
      "Epoch 9/10\n",
      "324/324 [==============================] - 201s 622ms/step - loss: 0.0682 - accuracy: 0.9776 - val_loss: 0.5982 - val_accuracy: 0.8466\n",
      "Epoch 10/10\n",
      "324/324 [==============================] - 201s 622ms/step - loss: 0.0609 - accuracy: 0.9799 - val_loss: 0.5100 - val_accuracy: 0.8749\n"
     ]
    }
   ],
   "source": [
    "history = model.fit(x_train_9_classes, y_train_9_classes, validation_split=0.1, epochs= 10, batch_size=100)"
   ]
  },
  {
   "cell_type": "markdown",
   "id": "5a9b3648",
   "metadata": {
    "papermill": {
     "duration": 0.292539,
     "end_time": "2023-11-26T05:12:29.549567",
     "exception": false,
     "start_time": "2023-11-26T05:12:29.257028",
     "status": "completed"
    },
    "tags": []
   },
   "source": [
    "# Model Evaluation with different metrics and plot"
   ]
  },
  {
   "cell_type": "code",
   "execution_count": 53,
   "id": "b596e75c",
   "metadata": {
    "execution": {
     "iopub.execute_input": "2023-11-26T05:12:30.129260Z",
     "iopub.status.busy": "2023-11-26T05:12:30.128850Z",
     "iopub.status.idle": "2023-11-26T05:12:30.133460Z",
     "shell.execute_reply": "2023-11-26T05:12:30.132601Z"
    },
    "papermill": {
     "duration": 0.295639,
     "end_time": "2023-11-26T05:12:30.135597",
     "exception": false,
     "start_time": "2023-11-26T05:12:29.839958",
     "status": "completed"
    },
    "tags": []
   },
   "outputs": [],
   "source": [
    " from sklearn.metrics import f1_score"
   ]
  },
  {
   "cell_type": "code",
   "execution_count": 54,
   "id": "b8e8d194",
   "metadata": {
    "execution": {
     "iopub.execute_input": "2023-11-26T05:12:30.718249Z",
     "iopub.status.busy": "2023-11-26T05:12:30.716955Z",
     "iopub.status.idle": "2023-11-26T05:12:53.154380Z",
     "shell.execute_reply": "2023-11-26T05:12:53.153500Z"
    },
    "papermill": {
     "duration": 22.730277,
     "end_time": "2023-11-26T05:12:53.156793",
     "exception": false,
     "start_time": "2023-11-26T05:12:30.426516",
     "status": "completed"
    },
    "tags": []
   },
   "outputs": [
    {
     "name": "stdout",
     "output_type": "stream",
     "text": [
      "313/313 [==============================] - 22s 63ms/step\n"
     ]
    }
   ],
   "source": [
    "y_pred = model.predict(x_test_scaled)\n"
   ]
  },
  {
   "cell_type": "code",
   "execution_count": 55,
   "id": "1448587a",
   "metadata": {
    "execution": {
     "iopub.execute_input": "2023-11-26T05:12:53.778115Z",
     "iopub.status.busy": "2023-11-26T05:12:53.777325Z",
     "iopub.status.idle": "2023-11-26T05:12:53.782083Z",
     "shell.execute_reply": "2023-11-26T05:12:53.781301Z"
    },
    "papermill": {
     "duration": 0.316689,
     "end_time": "2023-11-26T05:12:53.783959",
     "exception": false,
     "start_time": "2023-11-26T05:12:53.467270",
     "status": "completed"
    },
    "tags": []
   },
   "outputs": [],
   "source": [
    "y_pred_labels = y_pred.argmax(1)\n",
    "# y_pred_labels = [np.argmax(i) for i in y_pred]"
   ]
  },
  {
   "cell_type": "code",
   "execution_count": 56,
   "id": "d1eeb498",
   "metadata": {
    "execution": {
     "iopub.execute_input": "2023-11-26T05:12:54.401367Z",
     "iopub.status.busy": "2023-11-26T05:12:54.400512Z",
     "iopub.status.idle": "2023-11-26T05:12:54.411703Z",
     "shell.execute_reply": "2023-11-26T05:12:54.410587Z"
    },
    "papermill": {
     "duration": 0.324225,
     "end_time": "2023-11-26T05:12:54.413995",
     "exception": false,
     "start_time": "2023-11-26T05:12:54.089770",
     "status": "completed"
    },
    "tags": []
   },
   "outputs": [
    {
     "name": "stdout",
     "output_type": "stream",
     "text": [
      "F1 score = 0.7381392058957292\n"
     ]
    }
   ],
   "source": [
    "f1 = f1_score(y_test, y_pred_labels, average=\"macro\")\n",
    "print('F1 score =', f1)"
   ]
  },
  {
   "cell_type": "code",
   "execution_count": 57,
   "id": "a7c46c8c",
   "metadata": {
    "execution": {
     "iopub.execute_input": "2023-11-26T05:12:55.128399Z",
     "iopub.status.busy": "2023-11-26T05:12:55.128051Z",
     "iopub.status.idle": "2023-11-26T05:13:36.527811Z",
     "shell.execute_reply": "2023-11-26T05:13:36.526727Z"
    },
    "papermill": {
     "duration": 42.066741,
     "end_time": "2023-11-26T05:13:36.870687",
     "exception": false,
     "start_time": "2023-11-26T05:12:54.803946",
     "status": "completed"
    },
    "tags": []
   },
   "outputs": [
    {
     "name": "stdout",
     "output_type": "stream",
     "text": [
      "313/313 [==============================] - 21s 66ms/step - loss: 1.7626 - accuracy: 0.7760\n",
      "Test Accuracy = 0.7760000228881836\n"
     ]
    }
   ],
   "source": [
    "loss, accuracy  = model.evaluate(x_test_scaled, y_test)\n",
    "print('Test Accuracy =', accuracy)"
   ]
  },
  {
   "cell_type": "code",
   "execution_count": 58,
   "id": "3e2a20b5",
   "metadata": {
    "execution": {
     "iopub.execute_input": "2023-11-26T05:13:37.547563Z",
     "iopub.status.busy": "2023-11-26T05:13:37.546926Z",
     "iopub.status.idle": "2023-11-26T05:13:38.170698Z",
     "shell.execute_reply": "2023-11-26T05:13:38.169722Z"
    },
    "papermill": {
     "duration": 0.965576,
     "end_time": "2023-11-26T05:13:38.172885",
     "exception": false,
     "start_time": "2023-11-26T05:13:37.207309",
     "status": "completed"
    },
    "tags": []
   },
   "outputs": [
    {
     "data": {
      "image/png": "[encoded data removed]",
      "text/plain": [
       "<Figure size 640x480 with 1 Axes>"
      ]
     },
     "metadata": {},
     "output_type": "display_data"
    },
    {
     "data": {
      "image/png": "[encoded data removed]",
      "text/plain": [
       "<Figure size 640x480 with 1 Axes>"
      ]
     },
     "metadata": {},
     "output_type": "display_data"
    }
   ],
   "source": [
    "\n",
    "# Extract the metrics from the history object\n",
    "train_accuracy = history.history['accuracy']\n",
    "val_accuracy = history.history['val_accuracy']\n",
    "train_loss = history.history['loss']\n",
    "val_loss = history.history['val_loss']\n",
    "\n",
    "\n",
    "# Plot accuracy\n",
    "plt.plot(train_accuracy, label='Train Accuracy')\n",
    "plt.plot(val_accuracy, label='Validation Accuracy')\n",
    "plt.legend()\n",
    "plt.xlabel('Epochs')\n",
    "plt.ylabel('Accuracy')\n",
    "plt.title('Training and Validation Accuracy')\n",
    "plt.show()\n",
    "\n",
    "# Plot loss\n",
    "plt.plot(train_loss, label='Train Loss')\n",
    "plt.plot(val_loss, label='Validation Loss')\n",
    "plt.legend()\n",
    "plt.xlabel('Epochs')\n",
    "plt.ylabel('Loss')\n",
    "plt.title('Training and Validation Loss')\n",
    "plt.show()"
   ]
  },
  {
   "cell_type": "markdown",
   "id": "21e31a95",
   "metadata": {
    "papermill": {
     "duration": 0.334434,
     "end_time": "2023-11-26T05:13:38.845652",
     "exception": false,
     "start_time": "2023-11-26T05:13:38.511218",
     "status": "completed"
    },
    "tags": []
   },
   "source": [
    "**Confusion Matrix**"
   ]
  },
  {
   "cell_type": "code",
   "execution_count": 59,
   "id": "a757dafe",
   "metadata": {
    "execution": {
     "iopub.execute_input": "2023-11-26T05:13:39.517799Z",
     "iopub.status.busy": "2023-11-26T05:13:39.516935Z",
     "iopub.status.idle": "2023-11-26T05:13:39.791912Z",
     "shell.execute_reply": "2023-11-26T05:13:39.791141Z"
    },
    "papermill": {
     "duration": 0.613823,
     "end_time": "2023-11-26T05:13:39.794292",
     "exception": false,
     "start_time": "2023-11-26T05:13:39.180469",
     "status": "completed"
    },
    "tags": []
   },
   "outputs": [],
   "source": [
    "import seaborn as sns\n",
    "from tensorflow.math import confusion_matrix"
   ]
  },
  {
   "cell_type": "code",
   "execution_count": 60,
   "id": "57f64337",
   "metadata": {
    "execution": {
     "iopub.execute_input": "2023-11-26T05:13:40.460959Z",
     "iopub.status.busy": "2023-11-26T05:13:40.460055Z",
     "iopub.status.idle": "2023-11-26T05:13:40.493772Z",
     "shell.execute_reply": "2023-11-26T05:13:40.492965Z"
    },
    "papermill": {
     "duration": 0.370461,
     "end_time": "2023-11-26T05:13:40.496044",
     "exception": false,
     "start_time": "2023-11-26T05:13:40.125583",
     "status": "completed"
    },
    "tags": []
   },
   "outputs": [],
   "source": [
    "conf_mat = confusion_matrix(y_test, y_pred_labels)"
   ]
  },
  {
   "cell_type": "code",
   "execution_count": 61,
   "id": "91c5d317",
   "metadata": {
    "execution": {
     "iopub.execute_input": "2023-11-26T05:13:41.161049Z",
     "iopub.status.busy": "2023-11-26T05:13:41.160172Z",
     "iopub.status.idle": "2023-11-26T05:13:41.166057Z",
     "shell.execute_reply": "2023-11-26T05:13:41.165091Z"
    },
    "papermill": {
     "duration": 0.338787,
     "end_time": "2023-11-26T05:13:41.168013",
     "exception": false,
     "start_time": "2023-11-26T05:13:40.829226",
     "status": "completed"
    },
    "tags": []
   },
   "outputs": [
    {
     "name": "stdout",
     "output_type": "stream",
     "text": [
      "tf.Tensor(\n",
      "[[898   2  37  31   6   9   1   6  39   0]\n",
      " [ 13 936   3  11   0   3   2   3  21   4]\n",
      " [ 36   2 859  68  25  15  19   3   4   0]\n",
      " [  4   0  33 858  22  49   9   6   1   0]\n",
      " [  3   0  18  67 888  13   7   7   5   0]\n",
      " [  1   0  34 192  25 728   6  11   1   0]\n",
      " [  3   2  22  76  33  14 838   3   3   0]\n",
      " [  0   0  18  65  52  34   1 825   3   0]\n",
      " [ 26   1  10  16   1   1   1   4 929   0]\n",
      " [113 550  17  64   2  14   9  32 173   1]], shape=(10, 10), dtype=int32)\n"
     ]
    }
   ],
   "source": [
    "print(conf_mat)"
   ]
  },
  {
   "cell_type": "code",
   "execution_count": 62,
   "id": "cc6b7346",
   "metadata": {
    "execution": {
     "iopub.execute_input": "2023-11-26T05:13:41.903010Z",
     "iopub.status.busy": "2023-11-26T05:13:41.902313Z",
     "iopub.status.idle": "2023-11-26T05:13:42.516382Z",
     "shell.execute_reply": "2023-11-26T05:13:42.515445Z"
    },
    "papermill": {
     "duration": 0.952791,
     "end_time": "2023-11-26T05:13:42.518856",
     "exception": false,
     "start_time": "2023-11-26T05:13:41.566065",
     "status": "completed"
    },
    "tags": []
   },
   "outputs": [
    {
     "data": {
      "text/plain": [
       "Text(0.5, 47.7222222222222, 'Predicted Labels')"
      ]
     },
     "execution_count": 62,
     "metadata": {},
     "output_type": "execute_result"
    },
    {
     "data": {
      "image/png": "[encoded data removed]",
      "text/plain": [
       "<Figure size 1500x700 with 2 Axes>"
      ]
     },
     "metadata": {},
     "output_type": "display_data"
    }
   ],
   "source": [
    "plt.figure(figsize=(15,7))\n",
    "sns.heatmap(conf_mat, annot=True, fmt='d', cmap='Blues')\n",
    "plt.ylabel('True Labels')\n",
    "plt.xlabel('Predicted Labels')"
   ]
  },
  {
   "cell_type": "markdown",
   "id": "7aa7528a",
   "metadata": {
    "papermill": {
     "duration": 0.341812,
     "end_time": "2023-11-26T05:13:43.213331",
     "exception": false,
     "start_time": "2023-11-26T05:13:42.871519",
     "status": "completed"
    },
    "tags": []
   },
   "source": [
    "As we can see all the true label of **9 ( class truck )** are **misclassified** as this class is not see during the training process. For the network this new class is a ***novel class***."
   ]
  },
  {
   "cell_type": "markdown",
   "id": "54b5f905",
   "metadata": {
    "papermill": {
     "duration": 0.398429,
     "end_time": "2023-11-26T05:13:43.950364",
     "exception": false,
     "start_time": "2023-11-26T05:13:43.551935",
     "status": "completed"
    },
    "tags": []
   },
   "source": [
    "# Saving the model"
   ]
  },
  {
   "cell_type": "code",
   "execution_count": 63,
   "id": "dbb4eacd",
   "metadata": {
    "execution": {
     "iopub.execute_input": "2023-11-26T05:13:44.626895Z",
     "iopub.status.busy": "2023-11-26T05:13:44.626164Z",
     "iopub.status.idle": "2023-11-26T05:13:45.657010Z",
     "shell.execute_reply": "2023-11-26T05:13:45.656191Z"
    },
    "papermill": {
     "duration": 1.37253,
     "end_time": "2023-11-26T05:13:45.659307",
     "exception": false,
     "start_time": "2023-11-26T05:13:44.286777",
     "status": "completed"
    },
    "tags": []
   },
   "outputs": [
    {
     "name": "stderr",
     "output_type": "stream",
     "text": [
      "/opt/conda/lib/python3.10/site-packages/keras/src/engine/training.py:3000: UserWarning: You are saving your model as an HDF5 file via `model.save()`. This file format is considered legacy. We recommend using instead the native Keras format, e.g. `model.save('my_model.keras')`.\n",
      "  saving_api.save_model(\n"
     ]
    }
   ],
   "source": [
    "\n",
    "model.save('/kaggle/working/CIFAR_resnet_model.h5')\n"
   ]
  }
 ],
 "metadata": {
  "kaggle": {
   "accelerator": "none",
   "dataSources": [
    {
     "databundleVersionId": 46718,
     "sourceId": 3649,
     "sourceType": "competition"
    },
    {
     "sourceId": 152217357,
     "sourceType": "kernelVersion"
    }
   ],
   "dockerImageVersionId": 30588,
   "isGpuEnabled": false,
   "isInternetEnabled": true,
   "language": "python",
   "sourceType": "notebook"
  },
  "kernelspec": {
   "display_name": "Python 3",
   "language": "python",
   "name": "python3"
  },
  "language_info": {
   "codemirror_mode": {
    "name": "ipython",
    "version": 3
   },
   "file_extension": ".py",
   "mimetype": "text/x-python",
   "name": "python",
   "nbconvert_exporter": "python",
   "pygments_lexer": "ipython3",
   "version": "3.10.12"
  },
  "papermill": {
   "default_parameters": {},
   "duration": 2178.851947,
   "end_time": "2023-11-26T05:13:49.282593",
   "environment_variables": {},
   "exception": null,
   "input_path": "__notebook__.ipynb",
   "output_path": "__notebook__.ipynb",
   "parameters": {},
   "start_time": "2023-11-26T04:37:30.430646",
   "version": "2.4.0"
  }
 },
 "nbformat": 4,
 "nbformat_minor": 5
}
