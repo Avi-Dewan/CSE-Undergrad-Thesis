{
 "cells": [
  {
   "cell_type": "code",
   "execution_count": 2,
   "metadata": {},
   "outputs": [],
   "source": [
    "import numpy as np\n",
    "import gym\n",
    "import random\n",
    "import time\n",
    "from IPython.display import clear_output"
   ]
  },
  {
   "cell_type": "code",
   "execution_count": 3,
   "metadata": {},
   "outputs": [],
   "source": [
    "env = gym.make('FrozenLake-v1', render_mode='ansi')"
   ]
  },
  {
   "cell_type": "code",
   "execution_count": 4,
   "metadata": {},
   "outputs": [],
   "source": [
    "action_space_size = env.action_space.n\n",
    "state_space_size = env.observation_space.n\n",
    "\n",
    "q_table = np.zeros((state_space_size, action_space_size))"
   ]
  },
  {
   "cell_type": "code",
   "execution_count": 5,
   "metadata": {},
   "outputs": [
    {
     "name": "stdout",
     "output_type": "stream",
     "text": [
      "[[0. 0. 0. 0.]\n",
      " [0. 0. 0. 0.]\n",
      " [0. 0. 0. 0.]\n",
      " [0. 0. 0. 0.]\n",
      " [0. 0. 0. 0.]\n",
      " [0. 0. 0. 0.]\n",
      " [0. 0. 0. 0.]\n",
      " [0. 0. 0. 0.]\n",
      " [0. 0. 0. 0.]\n",
      " [0. 0. 0. 0.]\n",
      " [0. 0. 0. 0.]\n",
      " [0. 0. 0. 0.]\n",
      " [0. 0. 0. 0.]\n",
      " [0. 0. 0. 0.]\n",
      " [0. 0. 0. 0.]\n",
      " [0. 0. 0. 0.]]\n"
     ]
    }
   ],
   "source": [
    "print(q_table)"
   ]
  },
  {
   "cell_type": "code",
   "execution_count": 7,
   "metadata": {},
   "outputs": [],
   "source": [
    "#Parameters \n",
    "\n",
    "num_episodes = 10000 # total episodes we want our agent to play during training\n",
    "max_steps_per_episode = 100 # max steps within a single episode\n",
    "\n",
    "learning_rate = 0.1 # alpha\n",
    "discount_rate = 0.99 # ghamma\n",
    "\n",
    "# expliration exploitation trade-off -> epsilon greedy strategy\n",
    "exploration_rate = 1\n",
    "max_exploration_rate = 1\n",
    "min_exploration_rate = 0.01\n",
    "exploration_decay_rate = 0.001"
   ]
  },
  {
   "cell_type": "code",
   "execution_count": 8,
   "metadata": {},
   "outputs": [],
   "source": [
    "rewards_all_episodes = []"
   ]
  },
  {
   "cell_type": "code",
   "execution_count": 9,
   "metadata": {},
   "outputs": [],
   "source": [
    "# Q-learning algorithm\n",
    "for episode in range(num_episodes):\n",
    "\n",
    "    # initialize new episode params\n",
    "    state = env.reset()[0] #reset the state of the environment to the start state\n",
    "    done = False  # whether or not our episode is finished\n",
    "    rewards_current_episode = 0 # current reward\n",
    "\n",
    "\n",
    "    for step in range(max_steps_per_episode): \n",
    "\n",
    "        # Exploration-exploitation trade-off\n",
    "        exploration_rate_threshold = random.uniform(0, 1)\n",
    "        if exploration_rate_threshold > exploration_rate:\n",
    "            action = np.argmax(q_table[state,:])  #exploitation -> choosing best action from the state\n",
    "        else:\n",
    "            action = env.action_space.sample() #exploration -> choosing random action\n",
    "            \n",
    "        # Take new action\n",
    "        new_state, reward, done, truncated, info = env.step(action)\n",
    "\n",
    "\n",
    "        # Update Q-table: q_new = (1-alpha) * q_old + alpha * learned value\n",
    "\n",
    "        q_table[state, action] = q_table[state, action] * (1 - learning_rate) + \\\n",
    "    learning_rate * (reward + discount_rate * np.max(q_table[new_state, :]))\n",
    "\n",
    "\n",
    "        # Set new state\n",
    "        state = new_state\n",
    "        # Add new reward        \n",
    "        rewards_current_episode += reward \n",
    "\n",
    "        if done == True: \n",
    "            break\n",
    "    \n",
    "\n",
    "    # Exploration rate decay   \n",
    "    exploration_rate = min_exploration_rate + \\\n",
    "    (max_exploration_rate - min_exploration_rate) * np.exp(-exploration_decay_rate*episode)\n",
    "\n",
    "    # Add current episode reward to total rewards list\n",
    "    rewards_all_episodes.append(rewards_current_episode)"
   ]
  },
  {
   "cell_type": "code",
   "execution_count": 10,
   "metadata": {},
   "outputs": [
    {
     "name": "stdout",
     "output_type": "stream",
     "text": [
      "********Average reward per thousand episodes********\n",
      "\n",
      "1000 :  0.046000000000000034\n",
      "2000 :  0.20300000000000015\n",
      "3000 :  0.4100000000000003\n",
      "4000 :  0.5320000000000004\n",
      "5000 :  0.6170000000000004\n",
      "6000 :  0.6420000000000005\n",
      "7000 :  0.6820000000000005\n",
      "8000 :  0.6610000000000005\n",
      "9000 :  0.6520000000000005\n",
      "10000 :  0.6930000000000005\n"
     ]
    }
   ],
   "source": [
    " # Calculate and print the average reward per thousand episodes\n",
    " \n",
    "rewards_per_thousand_episodes = np.split(np.array(rewards_all_episodes),num_episodes/1000)\n",
    "count = 1000\n",
    "\n",
    "print(\"********Average reward per thousand episodes********\\n\")\n",
    "for r in rewards_per_thousand_episodes:\n",
    "    print(count, \": \", str(sum(r/1000)))\n",
    "    count += 1000"
   ]
  },
  {
   "cell_type": "code",
   "execution_count": 11,
   "metadata": {},
   "outputs": [
    {
     "name": "stdout",
     "output_type": "stream",
     "text": [
      "\n",
      "\n",
      "********Q-table********\n",
      "\n",
      "[[0.53025584 0.49614817 0.49067116 0.49843155]\n",
      " [0.38095481 0.34005618 0.26894342 0.47611165]\n",
      " [0.39301398 0.42192569 0.40816736 0.45021877]\n",
      " [0.29774538 0.2830519  0.35710602 0.43659814]\n",
      " [0.55060848 0.32934277 0.43744586 0.3995253 ]\n",
      " [0.         0.         0.         0.        ]\n",
      " [0.15870434 0.17054341 0.33555668 0.13510031]\n",
      " [0.         0.         0.         0.        ]\n",
      " [0.41749037 0.36947641 0.46786723 0.57080193]\n",
      " [0.35441462 0.60813461 0.51165789 0.35041632]\n",
      " [0.476437   0.40718055 0.27469305 0.36828375]\n",
      " [0.         0.         0.         0.        ]\n",
      " [0.         0.         0.         0.        ]\n",
      " [0.54338761 0.62833597 0.72569041 0.52833204]\n",
      " [0.72819721 0.8909082  0.76951668 0.76689547]\n",
      " [0.         0.         0.         0.        ]]\n"
     ]
    }
   ],
   "source": [
    "# Print updated Q-table\n",
    "print(\"\\n\\n********Q-table********\\n\")\n",
    "print(q_table)"
   ]
  },
  {
   "cell_type": "code",
   "execution_count": null,
   "metadata": {},
   "outputs": [],
   "source": []
  }
 ],
 "metadata": {
  "kernelspec": {
   "display_name": "Python 3",
   "language": "python",
   "name": "python3"
  },
  "language_info": {
   "codemirror_mode": {
    "name": "ipython",
    "version": 3
   },
   "file_extension": ".py",
   "mimetype": "text/x-python",
   "name": "python",
   "nbconvert_exporter": "python",
   "pygments_lexer": "ipython3",
   "version": "3.10.12"
  }
 },
 "nbformat": 4,
 "nbformat_minor": 2
}
